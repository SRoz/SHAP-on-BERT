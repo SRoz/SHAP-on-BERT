{
 "cells": [
  {
   "cell_type": "markdown",
   "metadata": {},
   "source": [
    "# SHAP on BERT\n",
    "\n",
    "*Applying SHAP's `DeepExplainer` to BERT via `pytorch_pretrained_bert`.*\n",
    "\n",
    "The time consuming part of this project so far has been enabling the gradients to propagate the whole way through the embedding back to the individual tokens. Due to the `BertEmbeddings` layers of the `BertForSequenceClassification` model accepts the tokenized inputs as integers, which do not allow gradients in Pytorch, some re-engineering was required\n",
    "\n",
    "----"
   ]
  },
  {
   "cell_type": "code",
   "execution_count": 2,
   "metadata": {},
   "outputs": [],
   "source": [
    "%load_ext autoreload\n",
    "%autoreload 2"
   ]
  },
  {
   "cell_type": "code",
   "execution_count": 1,
   "metadata": {},
   "outputs": [],
   "source": [
    "import pandas as pd\n",
    "import numpy as np\n",
    "import os\n",
    "import torch\n",
    "import shap"
   ]
  },
  {
   "cell_type": "code",
   "execution_count": 31,
   "metadata": {},
   "outputs": [],
   "source": [
    "import bert.data_utils\n",
    "import bert.train\n",
    "import bert.sjr\n",
    "\n",
    "import shap_additions\n",
    "import display_text"
   ]
  },
  {
   "cell_type": "markdown",
   "metadata": {},
   "source": [
    "---"
   ]
  },
  {
   "cell_type": "markdown",
   "metadata": {},
   "source": [
    "# 1. Parameters\n",
    "\n",
    "Training was done on a separate notebook (on collab), the parameters mirrored here to load the trained model\n",
    "\n",
    "Setting `DO_TRAIN=False` will trigger the function to returned the trained model contained in `\"./out\"`"
   ]
  },
  {
   "cell_type": "code",
   "execution_count": 4,
   "metadata": {},
   "outputs": [],
   "source": [
    "parameters = dict(\n",
    "    DATA_DIR = \"./\",\n",
    "    BERT_MODEL = 'bert-base-uncased',\n",
    "    OUTPUT_DIR = \"./out\",\n",
    "    CACHE_DIR = \"./\",\n",
    "    WEIGHTS_NAME = \"pytorch_model.bin\",\n",
    "    CONFIG_NAME = \"bert_config.json\",\n",
    "\n",
    "    FP16 = False,\n",
    "    TRAIN_BATCH_SIZE=32,\n",
    "    EVAL_BATCH_SIZE=8,\n",
    "    NUM_TRAIN_EPOCHS=1,\n",
    "    WARMUP_PROPORTION=0.1,\n",
    "    SEED=42,\n",
    "    GRADIENT_ACCUMULATION_STEPS=1,\n",
    "    LOCAL_RANK=-1,\n",
    "    LEARNING_RATE=5e-5 ,\n",
    "    MAX_SEQ_LENGTH=128,\n",
    "\n",
    "    TASK_NAME = 'classification',\n",
    "    DO_TRAIN=True,\n",
    "    DO_EVAL=True,\n",
    "    DO_LOWER_CASE=True,\n",
    ")"
   ]
  },
  {
   "cell_type": "markdown",
   "metadata": {},
   "source": [
    "This notebook was run offline, so set `device=cpu`"
   ]
  },
  {
   "cell_type": "code",
   "execution_count": 5,
   "metadata": {},
   "outputs": [],
   "source": [
    "device='cpu'"
   ]
  },
  {
   "cell_type": "code",
   "execution_count": 6,
   "metadata": {},
   "outputs": [],
   "source": [
    "data_root= os.environ['DATA'] if 'DATA' in os.environ.keys() else os.path.join(os.environ['PWD'], 'Documents/Data')"
   ]
  },
  {
   "cell_type": "markdown",
   "metadata": {},
   "source": [
    "---"
   ]
  },
  {
   "cell_type": "markdown",
   "metadata": {},
   "source": [
    "# 2. Load trained model, tokenizer and data\n",
    "\n",
    "Processor is quite hacky & slow"
   ]
  },
  {
   "cell_type": "code",
   "execution_count": 8,
   "metadata": {},
   "outputs": [
    {
     "name": "stderr",
     "output_type": "stream",
     "text": [
      "The `device` argument should be set by using `torch.device` or passing a string as an argument. This behavior will be deprecated soon and currently defaults to cpu.\n",
      "The `device` argument should be set by using `torch.device` or passing a string as an argument. This behavior will be deprecated soon and currently defaults to cpu.\n"
     ]
    }
   ],
   "source": [
    "imdb_proc = bert.data_utils.IMDBProcessor(data_path=data_root, device='cpu')"
   ]
  },
  {
   "cell_type": "code",
   "execution_count": 10,
   "metadata": {},
   "outputs": [
    {
     "name": "stderr",
     "output_type": "stream",
     "text": [
      "07/12/2019 18:36:33 - INFO - root -   device: cpu n_gpu: 0, distributed training: False, 16-bits training: False\n",
      "07/12/2019 18:36:35 - INFO - pytorch_pretrained_bert.tokenization -   loading vocabulary file https://s3.amazonaws.com/models.huggingface.co/bert/bert-base-uncased-vocab.txt from cache at C:\\Users\\srozm\\.pytorch_pretrained_bert\\26bc1ad6c0ac742e9b52263248f6d0f00068293b33709fae12320c0e35ccfbbb.542ce4285a40d23a559526243235df47c5f75c197f04f37d1a0c124c32c9a084\n",
      "07/12/2019 18:36:35 - INFO - pytorch_pretrained_bert.modeling -   loading archive file https://s3.amazonaws.com/models.huggingface.co/bert/bert-base-uncased.tar.gz from cache at ./9c41111e2de84547a463fd39217199738d1e3deb72d4fec4399e6e241983c6f0.ae3cef932725ca7a30cdcb93fc6e09150a55e2a130ec7af63975a16c153ae2ba\n",
      "07/12/2019 18:36:35 - INFO - pytorch_pretrained_bert.modeling -   extracting archive file ./9c41111e2de84547a463fd39217199738d1e3deb72d4fec4399e6e241983c6f0.ae3cef932725ca7a30cdcb93fc6e09150a55e2a130ec7af63975a16c153ae2ba to temp dir C:\\Users\\srozm\\AppData\\Local\\Temp\\tmp1_nax20o\n",
      "07/12/2019 18:36:39 - INFO - pytorch_pretrained_bert.modeling -   Model config {\n",
      "  \"attention_probs_dropout_prob\": 0.1,\n",
      "  \"hidden_act\": \"gelu\",\n",
      "  \"hidden_dropout_prob\": 0.1,\n",
      "  \"hidden_size\": 768,\n",
      "  \"initializer_range\": 0.02,\n",
      "  \"intermediate_size\": 3072,\n",
      "  \"max_position_embeddings\": 512,\n",
      "  \"num_attention_heads\": 12,\n",
      "  \"num_hidden_layers\": 12,\n",
      "  \"type_vocab_size\": 2,\n",
      "  \"vocab_size\": 30522\n",
      "}\n",
      "\n",
      "07/12/2019 18:36:44 - INFO - pytorch_pretrained_bert.modeling -   Weights of BertForSequenceClassification not initialized from pretrained model: ['classifier.weight', 'classifier.bias']\n",
      "07/12/2019 18:36:44 - INFO - pytorch_pretrained_bert.modeling -   Weights from pretrained model not used in BertForSequenceClassification: ['cls.predictions.bias', 'cls.predictions.transform.dense.weight', 'cls.predictions.transform.dense.bias', 'cls.predictions.decoder.weight', 'cls.seq_relationship.weight', 'cls.seq_relationship.bias', 'cls.predictions.transform.LayerNorm.weight', 'cls.predictions.transform.LayerNorm.bias']\n",
      "07/12/2019 18:36:44 - INFO - root -   Getting from pretrained\n",
      "07/12/2019 18:36:44 - INFO - pytorch_pretrained_bert.modeling -   loading archive file ./out\n",
      "07/12/2019 18:36:44 - INFO - pytorch_pretrained_bert.modeling -   Model config {\n",
      "  \"attention_probs_dropout_prob\": 0.1,\n",
      "  \"hidden_act\": \"gelu\",\n",
      "  \"hidden_dropout_prob\": 0.1,\n",
      "  \"hidden_size\": 768,\n",
      "  \"initializer_range\": 0.02,\n",
      "  \"intermediate_size\": 3072,\n",
      "  \"max_position_embeddings\": 512,\n",
      "  \"num_attention_heads\": 12,\n",
      "  \"num_hidden_layers\": 12,\n",
      "  \"type_vocab_size\": 2,\n",
      "  \"vocab_size\": 30522\n",
      "}\n",
      "\n",
      "07/12/2019 18:36:49 - INFO - pytorch_pretrained_bert.tokenization -   loading vocabulary file ./out\\vocab.txt\n"
     ]
    }
   ],
   "source": [
    "parameters['DO_TRAIN'] = False\n",
    "model, tokenizer = bert.train.train(imdb_proc, parameters)"
   ]
  },
  {
   "cell_type": "code",
   "execution_count": 11,
   "metadata": {},
   "outputs": [
    {
     "name": "stderr",
     "output_type": "stream",
     "text": [
      "07/12/2019 18:36:57 - INFO - root -   Writing example 0 of 20\n",
      "07/12/2019 18:36:57 - INFO - root -   *** Example ***\n",
      "07/12/2019 18:36:57 - INFO - root -   guid: test-20952\n",
      "07/12/2019 18:36:57 - INFO - root -   tokens: [CLS] * spoil ##ers - sorry ! * the first word that sprung to mind whilst watching the film is ' gr ##em ##lins ' . it ' s the only cr ##itte ##rs movie i have seen from the four movies , but i enjoyed it . it wasn ' t too complicated as i hadn ' t seen the past two , but i thought it was quite a good movie all the same . < br / > < br / > cr ##itte ##rs starts with a man , his son and daughter stopping off on the way to a vacation ( although it turns out that they end up at their own home - which i have no idea what the hell [SEP]\n",
      "07/12/2019 18:36:57 - INFO - root -   input_ids: 101 1008 27594 2545 1011 3374 999 1008 1996 2034 2773 2008 22057 2000 2568 5819 3666 1996 2143 2003 1005 24665 6633 24412 1005 1012 2009 1005 1055 1996 2069 13675 27100 2869 3185 1045 2031 2464 2013 1996 2176 5691 1010 2021 1045 5632 2009 1012 2009 2347 1005 1056 2205 8552 2004 1045 2910 1005 1056 2464 1996 2627 2048 1010 2021 1045 2245 2009 2001 3243 1037 2204 3185 2035 1996 2168 1012 1026 7987 1013 1028 1026 7987 1013 1028 13675 27100 2869 4627 2007 1037 2158 1010 2010 2365 1998 2684 7458 2125 2006 1996 2126 2000 1037 10885 1006 2348 2009 4332 2041 2008 2027 2203 2039 2012 2037 2219 2188 1011 2029 1045 2031 2053 2801 2054 1996 3109 102\n",
      "07/12/2019 18:36:57 - INFO - root -   input_mask: 1 1 1 1 1 1 1 1 1 1 1 1 1 1 1 1 1 1 1 1 1 1 1 1 1 1 1 1 1 1 1 1 1 1 1 1 1 1 1 1 1 1 1 1 1 1 1 1 1 1 1 1 1 1 1 1 1 1 1 1 1 1 1 1 1 1 1 1 1 1 1 1 1 1 1 1 1 1 1 1 1 1 1 1 1 1 1 1 1 1 1 1 1 1 1 1 1 1 1 1 1 1 1 1 1 1 1 1 1 1 1 1 1 1 1 1 1 1 1 1 1 1 1 1 1 1 1 1\n",
      "07/12/2019 18:36:57 - INFO - root -   segment_ids: 0 0 0 0 0 0 0 0 0 0 0 0 0 0 0 0 0 0 0 0 0 0 0 0 0 0 0 0 0 0 0 0 0 0 0 0 0 0 0 0 0 0 0 0 0 0 0 0 0 0 0 0 0 0 0 0 0 0 0 0 0 0 0 0 0 0 0 0 0 0 0 0 0 0 0 0 0 0 0 0 0 0 0 0 0 0 0 0 0 0 0 0 0 0 0 0 0 0 0 0 0 0 0 0 0 0 0 0 0 0 0 0 0 0 0 0 0 0 0 0 0 0 0 0 0 0 0 0\n",
      "07/12/2019 18:36:57 - INFO - root -   label: neg (id = 1)\n",
      "07/12/2019 18:36:57 - INFO - root -   *** Example ***\n",
      "07/12/2019 18:36:57 - INFO - root -   guid: test-3648\n",
      "07/12/2019 18:36:57 - INFO - root -   tokens: [CLS] i must admit i wasn ' t expecting much on this movie . i was surprised i truly enjoyed it as much as i did . the script wasn ' t oscar material , but it wasn ' t horrible either . the acting was great by mark wah ##lberg . jennifer an ##isto ##n had a great supporting role , and looked lovely as ever . what made this movie for me was the music . if you do not like 80 ' s g ##lam metal or hair bands , then you probably won ##t like this movie . its all about being a rocks ##tar . some cl ##iche ' s were present , but didn ' t bring down the movie at [SEP]\n",
      "07/12/2019 18:36:57 - INFO - root -   input_ids: 101 1045 2442 6449 1045 2347 1005 1056 8074 2172 2006 2023 3185 1012 1045 2001 4527 1045 5621 5632 2009 2004 2172 2004 1045 2106 1012 1996 5896 2347 1005 1056 7436 3430 1010 2021 2009 2347 1005 1056 9202 2593 1012 1996 3772 2001 2307 2011 2928 22894 22927 1012 7673 2019 20483 2078 2018 1037 2307 4637 2535 1010 1998 2246 8403 2004 2412 1012 2054 2081 2023 3185 2005 2033 2001 1996 2189 1012 2065 2017 2079 2025 2066 3770 1005 1055 1043 10278 3384 2030 2606 4996 1010 2059 2017 2763 2180 2102 2066 2023 3185 1012 2049 2035 2055 2108 1037 5749 7559 1012 2070 18856 17322 1005 1055 2020 2556 1010 2021 2134 1005 1056 3288 2091 1996 3185 2012 102\n",
      "07/12/2019 18:36:57 - INFO - root -   input_mask: 1 1 1 1 1 1 1 1 1 1 1 1 1 1 1 1 1 1 1 1 1 1 1 1 1 1 1 1 1 1 1 1 1 1 1 1 1 1 1 1 1 1 1 1 1 1 1 1 1 1 1 1 1 1 1 1 1 1 1 1 1 1 1 1 1 1 1 1 1 1 1 1 1 1 1 1 1 1 1 1 1 1 1 1 1 1 1 1 1 1 1 1 1 1 1 1 1 1 1 1 1 1 1 1 1 1 1 1 1 1 1 1 1 1 1 1 1 1 1 1 1 1 1 1 1 1 1 1\n",
      "07/12/2019 18:36:57 - INFO - root -   segment_ids: 0 0 0 0 0 0 0 0 0 0 0 0 0 0 0 0 0 0 0 0 0 0 0 0 0 0 0 0 0 0 0 0 0 0 0 0 0 0 0 0 0 0 0 0 0 0 0 0 0 0 0 0 0 0 0 0 0 0 0 0 0 0 0 0 0 0 0 0 0 0 0 0 0 0 0 0 0 0 0 0 0 0 0 0 0 0 0 0 0 0 0 0 0 0 0 0 0 0 0 0 0 0 0 0 0 0 0 0 0 0 0 0 0 0 0 0 0 0 0 0 0 0 0 0 0 0 0 0\n",
      "07/12/2019 18:36:57 - INFO - root -   label: pos (id = 0)\n",
      "07/12/2019 18:36:57 - INFO - root -   *** Example ***\n",
      "07/12/2019 18:36:57 - INFO - root -   guid: test-819\n",
      "07/12/2019 18:36:57 - INFO - root -   tokens: [CLS] after a decade of turbulent unrest , american movies began to switch gears and turn their cameras away from war - torn battlefield ##s , political corruption , and general social unease to the more intimate world of family dysfunction . the toll the selfish baby boom ##ers began to take on the american family as they grew up and had kids of their own was making itself felt . < br / > < br / > \" kramer vs . kramer \" is one of the first of these dysfunction ##al family dramas that would continue to be so popular throughout the 1980s , and it ' s one of the best . it gets a rather bum rap now , because it ' [SEP]\n",
      "07/12/2019 18:36:57 - INFO - root -   input_ids: 101 2044 1037 5476 1997 22609 16591 1010 2137 5691 2211 2000 6942 19456 1998 2735 2037 8629 2185 2013 2162 1011 7950 11686 2015 1010 2576 7897 1010 1998 2236 2591 27880 2000 1996 2062 10305 2088 1997 2155 28466 1012 1996 9565 1996 14337 3336 8797 2545 2211 2000 2202 2006 1996 2137 2155 2004 2027 3473 2039 1998 2018 4268 1997 2037 2219 2001 2437 2993 2371 1012 1026 7987 1013 1028 1026 7987 1013 1028 1000 16322 5443 1012 16322 1000 2003 2028 1997 1996 2034 1997 2122 28466 2389 2155 16547 2008 2052 3613 2000 2022 2061 2759 2802 1996 3865 1010 1998 2009 1005 1055 2028 1997 1996 2190 1012 2009 4152 1037 2738 26352 9680 2085 1010 2138 2009 1005 102\n",
      "07/12/2019 18:36:57 - INFO - root -   input_mask: 1 1 1 1 1 1 1 1 1 1 1 1 1 1 1 1 1 1 1 1 1 1 1 1 1 1 1 1 1 1 1 1 1 1 1 1 1 1 1 1 1 1 1 1 1 1 1 1 1 1 1 1 1 1 1 1 1 1 1 1 1 1 1 1 1 1 1 1 1 1 1 1 1 1 1 1 1 1 1 1 1 1 1 1 1 1 1 1 1 1 1 1 1 1 1 1 1 1 1 1 1 1 1 1 1 1 1 1 1 1 1 1 1 1 1 1 1 1 1 1 1 1 1 1 1 1 1 1\n",
      "07/12/2019 18:36:57 - INFO - root -   segment_ids: 0 0 0 0 0 0 0 0 0 0 0 0 0 0 0 0 0 0 0 0 0 0 0 0 0 0 0 0 0 0 0 0 0 0 0 0 0 0 0 0 0 0 0 0 0 0 0 0 0 0 0 0 0 0 0 0 0 0 0 0 0 0 0 0 0 0 0 0 0 0 0 0 0 0 0 0 0 0 0 0 0 0 0 0 0 0 0 0 0 0 0 0 0 0 0 0 0 0 0 0 0 0 0 0 0 0 0 0 0 0 0 0 0 0 0 0 0 0 0 0 0 0 0 0 0 0 0 0\n",
      "07/12/2019 18:36:57 - INFO - root -   label: pos (id = 0)\n",
      "07/12/2019 18:36:57 - INFO - root -   *** Example ***\n",
      "07/12/2019 18:36:57 - INFO - root -   guid: test-24299\n",
      "07/12/2019 18:36:57 - INFO - root -   tokens: [CLS] the only thing it has to offer is the interesting opposite ##s of tr ##u and jack , their choices and viewpoint ##s , and the philosophical questions that it raises . tr ##u feels that she is helping people who aren ' t supposed to die , and jack feels that they are supposed to die , and she is messing with fate ' s plan , or the universe ' s plan , or such - what ##not . < br / > < br / > but she is obviously able to change things , so there is obviously no such thing as fate in the series ' meta ##physics . jack has no basis for believing that there is . and very [SEP]\n",
      "07/12/2019 18:36:57 - INFO - root -   input_ids: 101 1996 2069 2518 2009 2038 2000 3749 2003 1996 5875 4500 2015 1997 19817 2226 1998 2990 1010 2037 9804 1998 21386 2015 1010 1998 1996 9569 3980 2008 2009 13275 1012 19817 2226 5683 2008 2016 2003 5094 2111 2040 4995 1005 1056 4011 2000 3280 1010 1998 2990 5683 2008 2027 2024 4011 2000 3280 1010 1998 2016 2003 22308 2007 6580 1005 1055 2933 1010 2030 1996 5304 1005 1055 2933 1010 2030 2107 1011 2054 17048 1012 1026 7987 1013 1028 1026 7987 1013 1028 2021 2016 2003 5525 2583 2000 2689 2477 1010 2061 2045 2003 5525 2053 2107 2518 2004 6580 1999 1996 2186 1005 18804 15638 1012 2990 2038 2053 3978 2005 8929 2008 2045 2003 1012 1998 2200 102\n",
      "07/12/2019 18:36:57 - INFO - root -   input_mask: 1 1 1 1 1 1 1 1 1 1 1 1 1 1 1 1 1 1 1 1 1 1 1 1 1 1 1 1 1 1 1 1 1 1 1 1 1 1 1 1 1 1 1 1 1 1 1 1 1 1 1 1 1 1 1 1 1 1 1 1 1 1 1 1 1 1 1 1 1 1 1 1 1 1 1 1 1 1 1 1 1 1 1 1 1 1 1 1 1 1 1 1 1 1 1 1 1 1 1 1 1 1 1 1 1 1 1 1 1 1 1 1 1 1 1 1 1 1 1 1 1 1 1 1 1 1 1 1\n",
      "07/12/2019 18:36:57 - INFO - root -   segment_ids: 0 0 0 0 0 0 0 0 0 0 0 0 0 0 0 0 0 0 0 0 0 0 0 0 0 0 0 0 0 0 0 0 0 0 0 0 0 0 0 0 0 0 0 0 0 0 0 0 0 0 0 0 0 0 0 0 0 0 0 0 0 0 0 0 0 0 0 0 0 0 0 0 0 0 0 0 0 0 0 0 0 0 0 0 0 0 0 0 0 0 0 0 0 0 0 0 0 0 0 0 0 0 0 0 0 0 0 0 0 0 0 0 0 0 0 0 0 0 0 0 0 0 0 0 0 0 0 0\n",
      "07/12/2019 18:36:57 - INFO - root -   label: neg (id = 1)\n",
      "07/12/2019 18:36:57 - INFO - root -   *** Example ***\n",
      "07/12/2019 18:36:57 - INFO - root -   guid: test-9012\n",
      "07/12/2019 18:36:57 - INFO - root -   tokens: [CLS] i found the film quite good for what i was expecting . although i weary , because i have a fear of injection needles , i sort of came to expect when they were coming . so if you ' re not into needles , blood , the human body , and some good medical fun , put this movie back and rent another . as the other user commented , i was also please at the german attempt at a slash ##er film . i ' m an american who just moved to germany to stay with a family and saw this lying on the shelf . i love psychological thriller ##s , and i ' d say this is somewhere along those lines . [SEP]\n",
      "07/12/2019 18:36:57 - INFO - root -   input_ids: 101 1045 2179 1996 2143 3243 2204 2005 2054 1045 2001 8074 1012 2348 1045 16040 1010 2138 1045 2031 1037 3571 1997 13341 17044 1010 1045 4066 1997 2234 2000 5987 2043 2027 2020 2746 1012 2061 2065 2017 1005 2128 2025 2046 17044 1010 2668 1010 1996 2529 2303 1010 1998 2070 2204 2966 4569 1010 2404 2023 3185 2067 1998 9278 2178 1012 2004 1996 2060 5310 7034 1010 1045 2001 2036 3531 2012 1996 2446 3535 2012 1037 18296 2121 2143 1012 1045 1005 1049 2019 2137 2040 2074 2333 2000 2762 2000 2994 2007 1037 2155 1998 2387 2023 4688 2006 1996 11142 1012 1045 2293 8317 10874 2015 1010 1998 1045 1005 1040 2360 2023 2003 4873 2247 2216 3210 1012 102\n",
      "07/12/2019 18:36:57 - INFO - root -   input_mask: 1 1 1 1 1 1 1 1 1 1 1 1 1 1 1 1 1 1 1 1 1 1 1 1 1 1 1 1 1 1 1 1 1 1 1 1 1 1 1 1 1 1 1 1 1 1 1 1 1 1 1 1 1 1 1 1 1 1 1 1 1 1 1 1 1 1 1 1 1 1 1 1 1 1 1 1 1 1 1 1 1 1 1 1 1 1 1 1 1 1 1 1 1 1 1 1 1 1 1 1 1 1 1 1 1 1 1 1 1 1 1 1 1 1 1 1 1 1 1 1 1 1 1 1 1 1 1 1\n",
      "07/12/2019 18:36:57 - INFO - root -   segment_ids: 0 0 0 0 0 0 0 0 0 0 0 0 0 0 0 0 0 0 0 0 0 0 0 0 0 0 0 0 0 0 0 0 0 0 0 0 0 0 0 0 0 0 0 0 0 0 0 0 0 0 0 0 0 0 0 0 0 0 0 0 0 0 0 0 0 0 0 0 0 0 0 0 0 0 0 0 0 0 0 0 0 0 0 0 0 0 0 0 0 0 0 0 0 0 0 0 0 0 0 0 0 0 0 0 0 0 0 0 0 0 0 0 0 0 0 0 0 0 0 0 0 0 0 0 0 0 0 0\n",
      "07/12/2019 18:36:57 - INFO - root -   label: pos (id = 0)\n",
      "07/12/2019 18:36:57 - INFO - root -   ***** Running evaluation *****\n",
      "07/12/2019 18:36:57 - INFO - root -     Num examples = 20\n",
      "07/12/2019 18:36:57 - INFO - root -     Batch size = 8\n"
     ]
    }
   ],
   "source": [
    "raw_batch = bert.data_utils.get_test_data(imdb_proc, tokenizer, parameters, n_examples=20)"
   ]
  },
  {
   "cell_type": "markdown",
   "metadata": {},
   "source": [
    "---"
   ]
  },
  {
   "cell_type": "markdown",
   "metadata": {},
   "source": [
    "# 3. Adjust forward behaviour\n",
    "I've constructed a version of the `BertForSequenceClassification` that accepts the spase one hot encoded matricies constructed in the first part of the `BertEmbedding` class"
   ]
  },
  {
   "cell_type": "code",
   "execution_count": 12,
   "metadata": {},
   "outputs": [
    {
     "data": {
      "text/plain": [
       "BertForSequenceClassification(\n",
       "  (bert): BertModel(\n",
       "    (embeddings): BertEmbeddings(\n",
       "      (word_embeddings): Embedding(30522, 768, padding_idx=0)\n",
       "      (position_embeddings): Embedding(512, 768)\n",
       "      (token_type_embeddings): Embedding(2, 768)\n",
       "      (LayerNorm): BertLayerNorm()\n",
       "      (dropout): Dropout(p=0.1)\n",
       "    )\n",
       "    (encoder): BertEncoder(\n",
       "      (layer): ModuleList(\n",
       "        (0): BertLayer(\n",
       "          (attention): BertAttention(\n",
       "            (self): BertSelfAttention(\n",
       "              (query): Linear(in_features=768, out_features=768, bias=True)\n",
       "              (key): Linear(in_features=768, out_features=768, bias=True)\n",
       "              (value): Linear(in_features=768, out_features=768, bias=True)\n",
       "              (dropout): Dropout(p=0.1)\n",
       "            )\n",
       "            (output): BertSelfOutput(\n",
       "              (dense): Linear(in_features=768, out_features=768, bias=True)\n",
       "              (LayerNorm): BertLayerNorm()\n",
       "              (dropout): Dropout(p=0.1)\n",
       "            )\n",
       "          )\n",
       "          (intermediate): BertIntermediate(\n",
       "            (dense): Linear(in_features=768, out_features=3072, bias=True)\n",
       "          )\n",
       "          (output): BertOutput(\n",
       "            (dense): Linear(in_features=3072, out_features=768, bias=True)\n",
       "            (LayerNorm): BertLayerNorm()\n",
       "            (dropout): Dropout(p=0.1)\n",
       "          )\n",
       "        )\n",
       "        (1): BertLayer(\n",
       "          (attention): BertAttention(\n",
       "            (self): BertSelfAttention(\n",
       "              (query): Linear(in_features=768, out_features=768, bias=True)\n",
       "              (key): Linear(in_features=768, out_features=768, bias=True)\n",
       "              (value): Linear(in_features=768, out_features=768, bias=True)\n",
       "              (dropout): Dropout(p=0.1)\n",
       "            )\n",
       "            (output): BertSelfOutput(\n",
       "              (dense): Linear(in_features=768, out_features=768, bias=True)\n",
       "              (LayerNorm): BertLayerNorm()\n",
       "              (dropout): Dropout(p=0.1)\n",
       "            )\n",
       "          )\n",
       "          (intermediate): BertIntermediate(\n",
       "            (dense): Linear(in_features=768, out_features=3072, bias=True)\n",
       "          )\n",
       "          (output): BertOutput(\n",
       "            (dense): Linear(in_features=3072, out_features=768, bias=True)\n",
       "            (LayerNorm): BertLayerNorm()\n",
       "            (dropout): Dropout(p=0.1)\n",
       "          )\n",
       "        )\n",
       "        (2): BertLayer(\n",
       "          (attention): BertAttention(\n",
       "            (self): BertSelfAttention(\n",
       "              (query): Linear(in_features=768, out_features=768, bias=True)\n",
       "              (key): Linear(in_features=768, out_features=768, bias=True)\n",
       "              (value): Linear(in_features=768, out_features=768, bias=True)\n",
       "              (dropout): Dropout(p=0.1)\n",
       "            )\n",
       "            (output): BertSelfOutput(\n",
       "              (dense): Linear(in_features=768, out_features=768, bias=True)\n",
       "              (LayerNorm): BertLayerNorm()\n",
       "              (dropout): Dropout(p=0.1)\n",
       "            )\n",
       "          )\n",
       "          (intermediate): BertIntermediate(\n",
       "            (dense): Linear(in_features=768, out_features=3072, bias=True)\n",
       "          )\n",
       "          (output): BertOutput(\n",
       "            (dense): Linear(in_features=3072, out_features=768, bias=True)\n",
       "            (LayerNorm): BertLayerNorm()\n",
       "            (dropout): Dropout(p=0.1)\n",
       "          )\n",
       "        )\n",
       "        (3): BertLayer(\n",
       "          (attention): BertAttention(\n",
       "            (self): BertSelfAttention(\n",
       "              (query): Linear(in_features=768, out_features=768, bias=True)\n",
       "              (key): Linear(in_features=768, out_features=768, bias=True)\n",
       "              (value): Linear(in_features=768, out_features=768, bias=True)\n",
       "              (dropout): Dropout(p=0.1)\n",
       "            )\n",
       "            (output): BertSelfOutput(\n",
       "              (dense): Linear(in_features=768, out_features=768, bias=True)\n",
       "              (LayerNorm): BertLayerNorm()\n",
       "              (dropout): Dropout(p=0.1)\n",
       "            )\n",
       "          )\n",
       "          (intermediate): BertIntermediate(\n",
       "            (dense): Linear(in_features=768, out_features=3072, bias=True)\n",
       "          )\n",
       "          (output): BertOutput(\n",
       "            (dense): Linear(in_features=3072, out_features=768, bias=True)\n",
       "            (LayerNorm): BertLayerNorm()\n",
       "            (dropout): Dropout(p=0.1)\n",
       "          )\n",
       "        )\n",
       "        (4): BertLayer(\n",
       "          (attention): BertAttention(\n",
       "            (self): BertSelfAttention(\n",
       "              (query): Linear(in_features=768, out_features=768, bias=True)\n",
       "              (key): Linear(in_features=768, out_features=768, bias=True)\n",
       "              (value): Linear(in_features=768, out_features=768, bias=True)\n",
       "              (dropout): Dropout(p=0.1)\n",
       "            )\n",
       "            (output): BertSelfOutput(\n",
       "              (dense): Linear(in_features=768, out_features=768, bias=True)\n",
       "              (LayerNorm): BertLayerNorm()\n",
       "              (dropout): Dropout(p=0.1)\n",
       "            )\n",
       "          )\n",
       "          (intermediate): BertIntermediate(\n",
       "            (dense): Linear(in_features=768, out_features=3072, bias=True)\n",
       "          )\n",
       "          (output): BertOutput(\n",
       "            (dense): Linear(in_features=3072, out_features=768, bias=True)\n",
       "            (LayerNorm): BertLayerNorm()\n",
       "            (dropout): Dropout(p=0.1)\n",
       "          )\n",
       "        )\n",
       "        (5): BertLayer(\n",
       "          (attention): BertAttention(\n",
       "            (self): BertSelfAttention(\n",
       "              (query): Linear(in_features=768, out_features=768, bias=True)\n",
       "              (key): Linear(in_features=768, out_features=768, bias=True)\n",
       "              (value): Linear(in_features=768, out_features=768, bias=True)\n",
       "              (dropout): Dropout(p=0.1)\n",
       "            )\n",
       "            (output): BertSelfOutput(\n",
       "              (dense): Linear(in_features=768, out_features=768, bias=True)\n",
       "              (LayerNorm): BertLayerNorm()\n",
       "              (dropout): Dropout(p=0.1)\n",
       "            )\n",
       "          )\n",
       "          (intermediate): BertIntermediate(\n",
       "            (dense): Linear(in_features=768, out_features=3072, bias=True)\n",
       "          )\n",
       "          (output): BertOutput(\n",
       "            (dense): Linear(in_features=3072, out_features=768, bias=True)\n",
       "            (LayerNorm): BertLayerNorm()\n",
       "            (dropout): Dropout(p=0.1)\n",
       "          )\n",
       "        )\n",
       "        (6): BertLayer(\n",
       "          (attention): BertAttention(\n",
       "            (self): BertSelfAttention(\n",
       "              (query): Linear(in_features=768, out_features=768, bias=True)\n",
       "              (key): Linear(in_features=768, out_features=768, bias=True)\n",
       "              (value): Linear(in_features=768, out_features=768, bias=True)\n",
       "              (dropout): Dropout(p=0.1)\n",
       "            )\n",
       "            (output): BertSelfOutput(\n",
       "              (dense): Linear(in_features=768, out_features=768, bias=True)\n",
       "              (LayerNorm): BertLayerNorm()\n",
       "              (dropout): Dropout(p=0.1)\n",
       "            )\n",
       "          )\n",
       "          (intermediate): BertIntermediate(\n",
       "            (dense): Linear(in_features=768, out_features=3072, bias=True)\n",
       "          )\n",
       "          (output): BertOutput(\n",
       "            (dense): Linear(in_features=3072, out_features=768, bias=True)\n",
       "            (LayerNorm): BertLayerNorm()\n",
       "            (dropout): Dropout(p=0.1)\n",
       "          )\n",
       "        )\n",
       "        (7): BertLayer(\n",
       "          (attention): BertAttention(\n",
       "            (self): BertSelfAttention(\n",
       "              (query): Linear(in_features=768, out_features=768, bias=True)\n",
       "              (key): Linear(in_features=768, out_features=768, bias=True)\n",
       "              (value): Linear(in_features=768, out_features=768, bias=True)\n",
       "              (dropout): Dropout(p=0.1)\n",
       "            )\n",
       "            (output): BertSelfOutput(\n",
       "              (dense): Linear(in_features=768, out_features=768, bias=True)\n",
       "              (LayerNorm): BertLayerNorm()\n",
       "              (dropout): Dropout(p=0.1)\n",
       "            )\n",
       "          )\n",
       "          (intermediate): BertIntermediate(\n",
       "            (dense): Linear(in_features=768, out_features=3072, bias=True)\n",
       "          )\n",
       "          (output): BertOutput(\n",
       "            (dense): Linear(in_features=3072, out_features=768, bias=True)\n",
       "            (LayerNorm): BertLayerNorm()\n",
       "            (dropout): Dropout(p=0.1)\n",
       "          )\n",
       "        )\n",
       "        (8): BertLayer(\n",
       "          (attention): BertAttention(\n",
       "            (self): BertSelfAttention(\n",
       "              (query): Linear(in_features=768, out_features=768, bias=True)\n",
       "              (key): Linear(in_features=768, out_features=768, bias=True)\n",
       "              (value): Linear(in_features=768, out_features=768, bias=True)\n",
       "              (dropout): Dropout(p=0.1)\n",
       "            )\n",
       "            (output): BertSelfOutput(\n",
       "              (dense): Linear(in_features=768, out_features=768, bias=True)\n",
       "              (LayerNorm): BertLayerNorm()\n",
       "              (dropout): Dropout(p=0.1)\n",
       "            )\n",
       "          )\n",
       "          (intermediate): BertIntermediate(\n",
       "            (dense): Linear(in_features=768, out_features=3072, bias=True)\n",
       "          )\n",
       "          (output): BertOutput(\n",
       "            (dense): Linear(in_features=3072, out_features=768, bias=True)\n",
       "            (LayerNorm): BertLayerNorm()\n",
       "            (dropout): Dropout(p=0.1)\n",
       "          )\n",
       "        )\n",
       "        (9): BertLayer(\n",
       "          (attention): BertAttention(\n",
       "            (self): BertSelfAttention(\n",
       "              (query): Linear(in_features=768, out_features=768, bias=True)\n",
       "              (key): Linear(in_features=768, out_features=768, bias=True)\n",
       "              (value): Linear(in_features=768, out_features=768, bias=True)\n",
       "              (dropout): Dropout(p=0.1)\n",
       "            )\n",
       "            (output): BertSelfOutput(\n",
       "              (dense): Linear(in_features=768, out_features=768, bias=True)\n",
       "              (LayerNorm): BertLayerNorm()\n",
       "              (dropout): Dropout(p=0.1)\n",
       "            )\n",
       "          )\n",
       "          (intermediate): BertIntermediate(\n",
       "            (dense): Linear(in_features=768, out_features=3072, bias=True)\n",
       "          )\n",
       "          (output): BertOutput(\n",
       "            (dense): Linear(in_features=3072, out_features=768, bias=True)\n",
       "            (LayerNorm): BertLayerNorm()\n",
       "            (dropout): Dropout(p=0.1)\n",
       "          )\n",
       "        )\n",
       "        (10): BertLayer(\n",
       "          (attention): BertAttention(\n",
       "            (self): BertSelfAttention(\n",
       "              (query): Linear(in_features=768, out_features=768, bias=True)\n",
       "              (key): Linear(in_features=768, out_features=768, bias=True)\n",
       "              (value): Linear(in_features=768, out_features=768, bias=True)\n",
       "              (dropout): Dropout(p=0.1)\n",
       "            )\n",
       "            (output): BertSelfOutput(\n",
       "              (dense): Linear(in_features=768, out_features=768, bias=True)\n",
       "              (LayerNorm): BertLayerNorm()\n",
       "              (dropout): Dropout(p=0.1)\n",
       "            )\n",
       "          )\n",
       "          (intermediate): BertIntermediate(\n",
       "            (dense): Linear(in_features=768, out_features=3072, bias=True)\n",
       "          )\n",
       "          (output): BertOutput(\n",
       "            (dense): Linear(in_features=3072, out_features=768, bias=True)\n",
       "            (LayerNorm): BertLayerNorm()\n",
       "            (dropout): Dropout(p=0.1)\n",
       "          )\n",
       "        )\n",
       "        (11): BertLayer(\n",
       "          (attention): BertAttention(\n",
       "            (self): BertSelfAttention(\n",
       "              (query): Linear(in_features=768, out_features=768, bias=True)\n",
       "              (key): Linear(in_features=768, out_features=768, bias=True)\n",
       "              (value): Linear(in_features=768, out_features=768, bias=True)\n",
       "              (dropout): Dropout(p=0.1)\n",
       "            )\n",
       "            (output): BertSelfOutput(\n",
       "              (dense): Linear(in_features=768, out_features=768, bias=True)\n",
       "              (LayerNorm): BertLayerNorm()\n",
       "              (dropout): Dropout(p=0.1)\n",
       "            )\n",
       "          )\n",
       "          (intermediate): BertIntermediate(\n",
       "            (dense): Linear(in_features=768, out_features=3072, bias=True)\n",
       "          )\n",
       "          (output): BertOutput(\n",
       "            (dense): Linear(in_features=3072, out_features=768, bias=True)\n",
       "            (LayerNorm): BertLayerNorm()\n",
       "            (dropout): Dropout(p=0.1)\n",
       "          )\n",
       "        )\n",
       "      )\n",
       "    )\n",
       "    (pooler): BertPooler(\n",
       "      (dense): Linear(in_features=768, out_features=768, bias=True)\n",
       "      (activation): Tanh()\n",
       "    )\n",
       "  )\n",
       "  (dropout): Dropout(p=0.1)\n",
       "  (classifier): Linear(in_features=768, out_features=2, bias=True)\n",
       ")"
      ]
     },
     "execution_count": 12,
     "metadata": {},
     "output_type": "execute_result"
    }
   ],
   "source": [
    "model"
   ]
  },
  {
   "cell_type": "code",
   "execution_count": 13,
   "metadata": {},
   "outputs": [],
   "source": [
    "sjrmodel = bert.sjr.BertSJRModel(model, INPUT_ID_EX = raw_batch[0][:1])"
   ]
  },
  {
   "cell_type": "code",
   "execution_count": 14,
   "metadata": {},
   "outputs": [
    {
     "data": {
      "text/plain": [
       "pytorch_pretrained_bert.modeling.BertForSequenceClassification"
      ]
     },
     "execution_count": 14,
     "metadata": {},
     "output_type": "execute_result"
    }
   ],
   "source": [
    "type(model)"
   ]
  },
  {
   "cell_type": "code",
   "execution_count": 15,
   "metadata": {},
   "outputs": [
    {
     "data": {
      "text/plain": [
       "bert.sjr.BertSJRModel"
      ]
     },
     "execution_count": 15,
     "metadata": {},
     "output_type": "execute_result"
    }
   ],
   "source": [
    "type(sjrmodel)"
   ]
  },
  {
   "cell_type": "markdown",
   "metadata": {},
   "source": [
    "The `SecondHalfEmbedding` is the \"split open\" `BertEmbeddings` class that accepts the OHE tensors"
   ]
  },
  {
   "cell_type": "markdown",
   "metadata": {},
   "source": [
    "#### Additional pre-processing for sjrmodel\n",
    "We have to use a helper function to get the OHE variables"
   ]
  },
  {
   "cell_type": "code",
   "execution_count": 16,
   "metadata": {},
   "outputs": [],
   "source": [
    "input_ids, position_ids, token_type_ids = bert.data_utils.get_ids(raw_batch)\n",
    "\n",
    "word_ohe = bert.data_utils.get_onehot(input_ids)\n",
    "position_ohe = bert.data_utils.get_onehot(position_ids, size=512)\n",
    "token_ohe = bert.data_utils.get_onehot(token_type_ids, size=2)\n",
    "\n",
    "sjr_batch = [word_ohe, position_ohe, token_ohe]"
   ]
  },
  {
   "cell_type": "markdown",
   "metadata": {},
   "source": [
    "### _Quick Check_ - are the model outputs the same?"
   ]
  },
  {
   "cell_type": "code",
   "execution_count": 17,
   "metadata": {},
   "outputs": [],
   "source": [
    "bert_batch = bert.data_utils.raw_batch_to_bert(raw_batch)"
   ]
  },
  {
   "cell_type": "code",
   "execution_count": 18,
   "metadata": {},
   "outputs": [],
   "source": [
    "model.eval();\n",
    "sjrmodel.eval();"
   ]
  },
  {
   "cell_type": "code",
   "execution_count": 19,
   "metadata": {},
   "outputs": [],
   "source": [
    "with torch.no_grad():\n",
    "    bert_output = model(*bert_batch)\n",
    "    sjr_output =sjrmodel(*sjr_batch)"
   ]
  },
  {
   "cell_type": "code",
   "execution_count": 20,
   "metadata": {},
   "outputs": [
    {
     "data": {
      "text/plain": [
       "tensor([[ 1.6650, -1.9126],\n",
       "        [ 1.7072, -1.9473]])"
      ]
     },
     "execution_count": 20,
     "metadata": {},
     "output_type": "execute_result"
    }
   ],
   "source": [
    "bert_output[:2]"
   ]
  },
  {
   "cell_type": "code",
   "execution_count": 21,
   "metadata": {},
   "outputs": [
    {
     "data": {
      "text/plain": [
       "tensor([[ 1.6650, -1.9126],\n",
       "        [ 1.7072, -1.9473]])"
      ]
     },
     "execution_count": 21,
     "metadata": {},
     "output_type": "execute_result"
    }
   ],
   "source": [
    "sjr_output[:2]"
   ]
  },
  {
   "cell_type": "markdown",
   "metadata": {},
   "source": [
    "Logits match for the first couple of predictions"
   ]
  },
  {
   "cell_type": "code",
   "execution_count": 22,
   "metadata": {},
   "outputs": [
    {
     "data": {
      "text/plain": [
       "tensor(-0.2471)"
      ]
     },
     "execution_count": 22,
     "metadata": {},
     "output_type": "execute_result"
    }
   ],
   "source": [
    "bert_output.sum()"
   ]
  },
  {
   "cell_type": "code",
   "execution_count": 23,
   "metadata": {},
   "outputs": [
    {
     "data": {
      "text/plain": [
       "tensor(-0.2471)"
      ]
     },
     "execution_count": 23,
     "metadata": {},
     "output_type": "execute_result"
    }
   ],
   "source": [
    "sjr_output.sum()"
   ]
  },
  {
   "cell_type": "markdown",
   "metadata": {},
   "source": [
    "And the sums of the tensors are the same - looks fine"
   ]
  },
  {
   "cell_type": "markdown",
   "metadata": {},
   "source": [
    "# 4. Calculate Shap Values\n",
    "These wouldn't quite work OTB hence tweaked versions are in the repo"
   ]
  },
  {
   "cell_type": "code",
   "execution_count": 24,
   "metadata": {},
   "outputs": [],
   "source": [
    "explainer = shap_additions.PyTorchDeepExplainer(sjrmodel, sjr_batch)"
   ]
  },
  {
   "cell_type": "code",
   "execution_count": 28,
   "metadata": {},
   "outputs": [
    {
     "name": "stdout",
     "output_type": "stream",
     "text": [
      "Outer loop: 1/2\n",
      ">>>> Inner loop 1/20\n",
      ">>>> Inner loop 2/20\n",
      ">>>> Inner loop 3/20\n",
      ">>>> Inner loop 4/20\n",
      ">>>> Inner loop 5/20\n",
      ">>>> Inner loop 6/20\n",
      ">>>> Inner loop 7/20\n",
      ">>>> Inner loop 8/20\n",
      ">>>> Inner loop 9/20\n",
      ">>>> Inner loop 10/20\n",
      ">>>> Inner loop 11/20\n",
      ">>>> Inner loop 12/20\n",
      ">>>> Inner loop 13/20\n",
      ">>>> Inner loop 14/20\n",
      ">>>> Inner loop 15/20\n",
      ">>>> Inner loop 16/20\n",
      ">>>> Inner loop 17/20\n",
      ">>>> Inner loop 18/20\n",
      ">>>> Inner loop 19/20\n",
      ">>>> Inner loop 20/20\n",
      "Outer loop: 2/2\n",
      ">>>> Inner loop 1/20\n",
      ">>>> Inner loop 2/20\n",
      ">>>> Inner loop 3/20\n",
      ">>>> Inner loop 4/20\n",
      ">>>> Inner loop 5/20\n",
      ">>>> Inner loop 6/20\n",
      ">>>> Inner loop 7/20\n",
      ">>>> Inner loop 8/20\n",
      ">>>> Inner loop 9/20\n",
      ">>>> Inner loop 10/20\n",
      ">>>> Inner loop 11/20\n",
      ">>>> Inner loop 12/20\n",
      ">>>> Inner loop 13/20\n",
      ">>>> Inner loop 14/20\n",
      ">>>> Inner loop 15/20\n",
      ">>>> Inner loop 16/20\n",
      ">>>> Inner loop 17/20\n",
      ">>>> Inner loop 18/20\n",
      ">>>> Inner loop 19/20\n",
      ">>>> Inner loop 20/20\n"
     ]
    }
   ],
   "source": [
    "shap_values = shap_additions.get_shap_values(explainer, sjr_batch)"
   ]
  },
  {
   "cell_type": "markdown",
   "metadata": {},
   "source": [
    "# 5. Visuals\n",
    "Shapley values for the negative class are taken from the positive class to combine into one score per token.\n",
    "The values are divided by the absolute maximum per sequence to transform into the range (-1,1), then sized by absolute value, coloured by sentiment (if above threshold value)"
   ]
  },
  {
   "cell_type": "code",
   "execution_count": 147,
   "metadata": {},
   "outputs": [
    {
     "data": {
      "text/markdown": [
       "## Actual Rating: <font color=red>bad</font> "
      ],
      "text/plain": [
       "<IPython.core.display.Markdown object>"
      ]
     },
     "metadata": {},
     "output_type": "display_data"
    },
    {
     "data": {
      "text/markdown": [
       "## Model prediction: <font color=green>good</font> "
      ],
      "text/plain": [
       "<IPython.core.display.Markdown object>"
      ]
     },
     "metadata": {},
     "output_type": "display_data"
    },
    {
     "data": {
      "text/markdown": [
       "##### Logits (pos, neg): [ 1.6650378 -1.9126236]"
      ],
      "text/plain": [
       "<IPython.core.display.Markdown object>"
      ]
     },
     "metadata": {},
     "output_type": "display_data"
    },
    {
     "data": {
      "text/markdown": [
       "<font color='red'><font size=4.513492184202605>*</font> <font color='red'><font size=5.8372698096125815>spoil</font> <font color='red'><font size=5.959638693477004>##ers</font> <font color='red'><font size=6.854087936722452>-</font> <font color=grey><font size=4.378060452126939>sorry</font> <font color='green'><font size=4.875761972391234>!</font> <font color='red'><font size=4.869016604271747>*</font> <font color='red'><font size=4.665461877200923>the</font> <font color='green'><font size=4.909702461499755>first</font> <font color='red'><font size=5.317013817916918>word</font> <font color=grey><font size=3.978996172027417>that</font> <font color=grey><font size=3.8049544158886643>sprung</font> <font color=grey><font size=3.8447318606282406>to</font> <font color='green'><font size=5.420251334571825>mind</font> <font color=grey><font size=3.734008187318268>whilst</font> <font color=grey><font size=3.8167064506986557>watching</font> <font color=grey><font size=3.973793734744115>the</font> <font color=grey><font size=4.3453513969849675>film</font> <font color=grey><font size=4.2445943676165125>is</font> <font color=grey><font size=3.39943533924857>'</font> <font color=grey><font size=3.0586655946909262>gr</font> <font color='red'><font size=4.887417414729495>##em</font> <font color=grey><font size=3.3649733431373274>##lins</font> <font color='red'><font size=5.148981110841645>'</font> <font color='red'><font size=5.813090294509596>.</font> <font color=grey><font size=3.719797310800576>it</font> <font color=grey><font size=3.3966739765682252>'</font> <font color=grey><font size=3.5873021560858103>s</font> <font color=grey><font size=3.271256593664379>the</font> <font color=grey><font size=3.636012225127376>only</font> <font color=grey><font size=3.6498596516926445>cr</font> <font color=grey><font size=3.882563124048315>##itte</font> <font color=grey><font size=3.9264813753905106>##rs</font> <font color=grey><font size=3.5016010857836006>movie</font> <font color=grey><font size=3.953607718107131>i</font> <font color='red'><font size=5.23139720600347>have</font> <font color=grey><font size=3.2794843791910604>seen</font> <font color=grey><font size=3.979583151365183>from</font> <font color=grey><font size=3.7608845346816695>the</font> <font color=grey><font size=3.0048588529670948>four</font> <font color=grey><font size=4.4918584994386475>movies</font> <font color='red'><font size=4.596961155775207>,</font> <font color=grey><font size=3.901393447799094>but</font> <font color=grey><font size=3.053224339216257>i</font> <font color=grey><font size=3.5978067813101227>enjoyed</font> <font color='green'><font size=5.329215792649717>it</font> <font color=grey><font size=3.0432094509827228>.</font> <font color='green'><font size=6.37039494744616>it</font> <font color=grey><font size=3.398677743992288>wasn</font> <font color=grey><font size=4.103897773294935>'</font> <font color=grey><font size=4.420671583852652>t</font> <font color=grey><font size=3.2815083423833524>too</font> <font color=grey><font size=4.306470618498255>complicated</font> <font color=grey><font size=3.5055663637339602>as</font> <font color=grey><font size=4.45398206103084>i</font> <font color=grey><font size=4.1765752787869275>hadn</font> <font color=grey><font size=4.202780760960442>'</font> <font color='red'><font size=6.560040654090679>t</font> <font color=grey><font size=3.455820594380796>seen</font> <font color=grey><font size=3.1080023905029956>the</font> <font color=grey><font size=4.469621471870395>past</font> <font color=grey><font size=4.437661516279736>two</font> <font color=grey><font size=3.0552129355736857>,</font> <font color=grey><font size=3.041252980164021>but</font> <font color=grey><font size=3.981683326571737>i</font> <font color='red'><font size=5.006821297559215>thought</font> <font color='green'><font size=5.199589138842543>it</font> <font color=grey><font size=3.617863164570611>was</font> <font color=grey><font size=4.233564615480404>quite</font> <font color=grey><font size=3.8135903738668686>a</font> <font color='red'><font size=6.429426356111762>good</font> <font color=grey><font size=4.3839894938123045>movie</font> <font color='green'><font size=5.776775514426756>all</font> <font color=grey><font size=4.108612852615712>the</font> <font color='red'><font size=4.734267188118755>same</font> <font color=grey><font size=4.179788797660942>.</font> <font color='red'><font size=5.320445048465263><</font> <font color='red'><font size=5.825655072782483>br</font> <font color=grey><font size=3.681961282398149>/</font> <font color='red'><font size=4.8708824088346585>></font> <font color='red'><font size=4.779826403344926><</font> <font color='red'><font size=4.910277657664105>br</font> <font color=grey><font size=3.4755332247961466>/</font> <font color=grey><font size=3.3809761485225347>></font> <font color=grey><font size=3.0401948730077164>cr</font> <font color=grey><font size=3.31460509717476>##itte</font> <font color=grey><font size=3.7599050168364188>##rs</font> <font color='red'><font size=4.593818409817382>starts</font> <font color=grey><font size=3.861596130497456>with</font> <font color=grey><font size=4.237458418695468>a</font> <font color=grey><font size=3.864506795958196>man</font> <font color=grey><font size=3.246833279532127>,</font> <font color=grey><font size=4.3480686189373134>his</font> <font color=grey><font size=4.0332986866172025>son</font> <font color=grey><font size=4.288584647761718>and</font> <font color=grey><font size=3.1605661228622552>daughter</font> <font color=grey><font size=4.298879964672052>stopping</font> <font color='red'><font size=5.138694363511979>off</font> <font color=grey><font size=4.468476509405306>on</font> <font color=grey><font size=3.429677407887424>the</font> <font color=grey><font size=3.2793693316471746>way</font> <font color=grey><font size=4.303217354500119>to</font> <font color=grey><font size=3.259079007145523>a</font> <font color=grey><font size=3.1888028588357504>vacation</font> <font color=grey><font size=3.602606614522443>(</font> <font color=grey><font size=4.084556155856323>although</font> <font color='green'><font size=8.0>it</font> <font color='green'><font size=5.8743134473061955>turns</font> <font color='red'><font size=5.0073253514289>out</font> <font color=grey><font size=3.409996227740773>that</font> <font color=grey><font size=3.1549881523331025>they</font> <font color=grey><font size=3.6637104396020534>end</font> <font color=grey><font size=3.220154762046533>up</font> <font color=grey><font size=3.2921825123285977>at</font> <font color=grey><font size=3.3614398316887075>their</font> <font color=grey><font size=3.6668226010219844>own</font> <font color=grey><font size=4.253295077641731>home</font> <font color=grey><font size=3.3227355330038337>-</font> <font color=grey><font size=4.223223163198297>which</font> <font color='green'><font size=5.201360530266739>i</font> <font color=grey><font size=3.5082874456913906>have</font> <font color='red'><font size=5.588346983739575>no</font> <font color='red'><font size=6.351347281399527>idea</font> <font color=grey><font size=3.072682848782524>what</font> <font color=grey><font size=3.141217791969824>the</font> <font color=grey><font size=3.241200045365587>hell</font> "
      ],
      "text/plain": [
       "<IPython.core.display.Markdown object>"
      ]
     },
     "metadata": {},
     "output_type": "display_data"
    },
    {
     "data": {
      "text/markdown": [
       "---"
      ],
      "text/plain": [
       "<IPython.core.display.Markdown object>"
      ]
     },
     "metadata": {},
     "output_type": "display_data"
    },
    {
     "data": {
      "text/markdown": [
       "## Actual Rating: <font color=green>good</font> "
      ],
      "text/plain": [
       "<IPython.core.display.Markdown object>"
      ]
     },
     "metadata": {},
     "output_type": "display_data"
    },
    {
     "data": {
      "text/markdown": [
       "## Model prediction: <font color=green>good</font> "
      ],
      "text/plain": [
       "<IPython.core.display.Markdown object>"
      ]
     },
     "metadata": {},
     "output_type": "display_data"
    },
    {
     "data": {
      "text/markdown": [
       "##### Logits (pos, neg): [ 1.7071755 -1.9472986]"
      ],
      "text/plain": [
       "<IPython.core.display.Markdown object>"
      ]
     },
     "metadata": {},
     "output_type": "display_data"
    },
    {
     "data": {
      "text/markdown": [
       "<font color=grey><font size=4.241860083343928>following</font> <font color=grey><font size=3.94492419825831>on</font> <font color=grey><font size=3.3387677131426523>from</font> <font color='red'><font size=5.503434388378272>the</font> <font color='red'><font size=5.850842738407167>huge</font> <font color='green'><font size=6.477577739436855>success</font> <font color='green'><font size=5.079026927956519>of</font> <font color=grey><font size=3.3202375933523616>nick</font> <font color=grey><font size=3.3621817740938282>park</font> <font color=grey><font size=3.8679681917255175>and</font> <font color=grey><font size=4.306407124522558>the</font> <font color=grey><font size=3.210928129768453>aa</font> <font color=grey><font size=4.145848072262533>##rd</font> <font color=grey><font size=3.429910922410734>##man</font> <font color=grey><font size=3.776951529384311>team</font> <font color=grey><font size=3.549833916587445>with</font> <font color=grey><font size=3.9314332200234134>the</font> <font color='red'><font size=4.547243512388558>wallace</font> <font color='green'><font size=4.99624490477043>and</font> <font color=grey><font size=3.5753890999580493>gr</font> <font color='red'><font size=6.556665408505033>##omi</font> <font color=grey><font size=3.2995213835705948>##t</font> <font color='green'><font size=4.97113535171704>short</font> <font color=grey><font size=3.471812803073133>animation</font> <font color='red'><font size=4.731971958918093>##s</font> <font color='red'><font size=4.808693438054892>we</font> <font color=grey><font size=4.181387204886242>now</font> <font color=grey><font size=3.6478630293302405>have</font> <font color=grey><font size=3.259456796110715>the</font> <font color=grey><font size=4.300261079373794>first</font> <font color=grey><font size=3.3343204988787063>(</font> <font color=grey><font size=3.8245487902060793>hopefully</font> <font color='green'><font size=4.713038411729315>of</font> <font color=grey><font size=3.552338392181361>many</font> <font color='red'><font size=4.871006921999424>)</font> <font color='red'><font size=5.144981345497309>feature</font> <font color=grey><font size=3.7731401235546005>with</font> <font color=grey><font size=3.8662336499992564>the</font> <font color=grey><font size=3.231120256674583>plastic</font> <font color=grey><font size=3.6356844929722616>##ine</font> <font color=grey><font size=3.2504115747346596>characters</font> <font color=grey><font size=3.364285074642601>that</font> <font color=grey><font size=3.4492366263985224>so</font> <font color=grey><font size=3.175599168209973>many</font> <font color='green'><font size=8.0>love</font> <font color=grey><font size=4.365398855421513>.</font> <font color='green'><font size=5.398129326390965>the</font> <font color=grey><font size=4.491824561523511>dvd</font> <font color=grey><font size=3.8672010136784234>of</font> <font color=grey><font size=3.068546302109952>the</font> <font color='green'><font size=4.53817467221705>movie</font> <font color=grey><font size=4.355653991267639>has</font> <font color=grey><font size=3.059633905543671>proved</font> <font color=grey><font size=3.467214681135167>to</font> <font color=grey><font size=3.915840963941374>be</font> <font color=grey><font size=3.4048055030881867>the</font> <font color=grey><font size=3.3839265232381246>most</font> <font color=grey><font size=4.145096475200922>durable</font> <font color='green'><font size=4.5928739652741735>and</font> <font color='green'><font size=6.771027688167287>best</font> <font color='red'><font size=4.701094756077659>used</font> <font color=grey><font size=3.0954073491607974>of</font> <font color=grey><font size=3.023089253933517>my</font> <font color=grey><font size=3.8054532149006963>two</font> <font color=grey><font size=3.278695930235286>children</font> <font color='red'><font size=5.156588932364588>'</font> <font color=grey><font size=3.6520807597031313>s</font> <font color=grey><font size=3.0372615447647577>many</font> <font color=grey><font size=4.441651774400784>christmas</font> <font color='green'><font size=5.2216804247592865>presents</font> <font color=grey><font size=4.130071458851133>by</font> <font color=grey><font size=3.5272854394425814>a</font> <font color=grey><font size=4.2403939161431214>long</font> <font color=grey><font size=3.414452977250037>way</font> <font color=grey><font size=3.926984689678494>.</font> <font color=grey><font size=3.1423573415966>the</font> <font color=grey><font size=4.130481687473441>plot</font> <font color='red'><font size=5.568930986395517>of</font> <font color='green'><font size=5.25746192826828>the</font> <font color='red'><font size=6.83185020252596>movie</font> <font color='green'><font size=4.841557304871935>is</font> <font color=grey><font size=4.33966729953497>straightforward</font> <font color='red'><font size=5.535765180571821>enough</font> <font color=grey><font size=3.0260061840048103>but</font> <font color=grey><font size=3.4088105936399278>the</font> <font color='green'><font size=4.970376582455762>beauty</font> <font color=grey><font size=3.110006010479976>of</font> <font color=grey><font size=4.196490267487575>the</font> <font color=grey><font size=3.681353103373345>w</font> <font color='green'><font size=4.616334477700776>&</font> <font color=grey><font size=3.9875677302965755>g</font> <font color=grey><font size=4.383025578367594>films</font> <font color=grey><font size=3.287659925566841>for</font> <font color=grey><font size=3.364545676340831>me</font> <font color=grey><font size=4.274123605250949>is</font> <font color=grey><font size=3.025155858788306>the</font> <font color=grey><font size=4.23929077530475>background</font> <font color='red'><font size=5.384328177018763>gag</font> <font color='red'><font size=5.942640039918979>##s</font> <font color=grey><font size=3.6069485273771127>.</font> <font color=grey><font size=4.218578416605563>there</font> <font color=grey><font size=4.17448076524869>are</font> <font color='green'><font size=5.069760869959696>plenty</font> <font color='green'><font size=4.783713691216157>of</font> <font color='red'><font size=5.229440815460588>up</font> <font color='green'><font size=4.9506861032194145>front</font> <font color='red'><font size=7.201051157583134>gag</font> <font color=grey><font size=3.536970620649231>##s</font> <font color=grey><font size=4.218145611453269>and</font> <font color=grey><font size=4.293991092961827>slap</font> <font color=grey><font size=3.933087277656864>##stick</font> <font color='red'><font size=5.572003373011308>for</font> <font color=grey><font size=3.673337172144268>kids</font> <font color=grey><font size=3.6361893999298243>and</font> <font color=grey><font size=3.7834719421570506>adults</font> <font color=grey><font size=3.5867863081902818>to</font> <font color='green'><font size=5.991527731384206>enjoy</font> <font color=grey><font size=3.8163123844993203>but</font> <font color='green'><font size=5.161656603729002>the</font> <font color='green'><font size=6.245564923712386>background</font> <font color=grey><font size=3.698939248628209>is</font> <font color=grey><font size=3.8603529762381563>the</font> <font color=grey><font size=3.6965027322759614>killer</font> <font color=grey><font size=4.123489252101956>for</font> <font color=grey><font size=4.355753483456117>me</font> <font color=grey><font size=3.5730090779273134>.</font> "
      ],
      "text/plain": [
       "<IPython.core.display.Markdown object>"
      ]
     },
     "metadata": {},
     "output_type": "display_data"
    },
    {
     "data": {
      "text/markdown": [
       "---"
      ],
      "text/plain": [
       "<IPython.core.display.Markdown object>"
      ]
     },
     "metadata": {},
     "output_type": "display_data"
    },
    {
     "data": {
      "text/markdown": [
       "## Actual Rating: <font color=green>good</font> "
      ],
      "text/plain": [
       "<IPython.core.display.Markdown object>"
      ]
     },
     "metadata": {},
     "output_type": "display_data"
    },
    {
     "data": {
      "text/markdown": [
       "## Model prediction: <font color=green>good</font> "
      ],
      "text/plain": [
       "<IPython.core.display.Markdown object>"
      ]
     },
     "metadata": {},
     "output_type": "display_data"
    },
    {
     "data": {
      "text/markdown": [
       "##### Logits (pos, neg): [ 0.00896359 -0.20858477]"
      ],
      "text/plain": [
       "<IPython.core.display.Markdown object>"
      ]
     },
     "metadata": {},
     "output_type": "display_data"
    },
    {
     "data": {
      "text/markdown": [
       "<font color=grey><font size=3.4988575558217128>\"</font> <font color='red'><font size=5.663436838649252>un</font> <font color=grey><font size=4.102130676629591>ga</font> <font color='red'><font size=4.992048380910635>##tto</font> <font color='red'><font size=4.814712207550271>ne</font> <font color=grey><font size=3.981021266814147>##l</font> <font color='red'><font size=5.1946319044447336>ce</font> <font color=grey><font size=3.811087098502308>##r</font> <font color='red'><font size=7.4032802355007945>##vel</font> <font color=grey><font size=3.237863288544834>##lo</font> <font color='red'><font size=4.583950558359816>\"</font> <font color=grey><font size=3.230231302251703>/</font> <font color=grey><font size=3.6743960831412776>\"</font> <font color=grey><font size=3.9093427867964996>cat</font> <font color='green'><font size=4.594077090382034>in</font> <font color=grey><font size=3.3341131203534227>the</font> <font color=grey><font size=4.235481406983407>brain</font> <font color=grey><font size=3.5526147771725975>\"</font> <font color='green'><font size=4.502409694231937>is</font> <font color=grey><font size=3.1239120157059386>one</font> <font color=grey><font size=4.230012466140554>of</font> <font color='green'><font size=4.7899174403114895>the</font> <font color=grey><font size=3.1633246850308145>go</font> <font color=grey><font size=4.05175676910683>##ries</font> <font color=grey><font size=3.3865189246015914>##t</font> <font color=grey><font size=3.4594740340640584>horror</font> <font color=grey><font size=3.0549166975849924>movies</font> <font color=grey><font size=4.423736154796883>ever</font> <font color='red'><font size=4.927295133229001>made</font> <font color=grey><font size=3.3696998280024326>.</font> <font color=grey><font size=3.0053841762951343>there</font> <font color=grey><font size=3.2676925002878696>is</font> <font color='green'><font size=4.617006413318677>a</font> <font color=grey><font size=4.130428480374363>lot</font> <font color=grey><font size=3.2375436713549086>of</font> <font color='red'><font size=6.5656862016978526>blood</font> <font color='green'><font size=4.8638223162429455>and</font> <font color=grey><font size=3.971697478691236>gore</font> <font color='red'><font size=4.53896604409804>,</font> <font color='green'><font size=5.720506075294962>including</font> <font color='red'><font size=5.654938624224928>chains</font> <font color=grey><font size=3.6097288708067365>##aw</font> <font color='red'><font size=5.033007359471171>butcher</font> <font color=grey><font size=3.4332941400970607>##y</font> <font color=grey><font size=3.760673528662242>,</font> <font color='red'><font size=7.8822367609993975>bloody</font> <font color='red'><font size=5.390407867205907>stabbing</font> <font color=grey><font size=3.1812284980745917>##s</font> <font color='green'><font size=5.643499646280798>and</font> <font color=grey><font size=3.585318420052326>numerous</font> <font color='red'><font size=4.826871305139672>dec</font> <font color=grey><font size=3.3456840161904657>##ap</font> <font color='red'><font size=6.348841722999197>##itation</font> <font color=grey><font size=3.768629446174753>##s</font> <font color=grey><font size=3.6877485282270492>.</font> <font color=grey><font size=3.5108838883186193>the</font> <font color=grey><font size=3.0241821053853144>film</font> <font color=grey><font size=4.288343718038281>is</font> <font color='green'><font size=5.681291971159114>also</font> <font color='red'><font size=6.736865374385879>interesting</font> <font color=grey><font size=3.9355701239401264>as</font> <font color='red'><font size=4.967539699594086>\"</font> <font color=grey><font size=4.028788564168288>self</font> <font color='red'><font size=7.838666445788359>parody</font> <font color=grey><font size=3.958941283753858>\"</font> <font color=grey><font size=3.269239548036323>of</font> <font color=grey><font size=3.399212482506666>fu</font> <font color='red'><font size=5.4372235810709>##lc</font> <font color=grey><font size=3.475930607273374>##i</font> <font color=grey><font size=3.625447744979442>,</font> <font color='green'><font size=4.5937050805863375>but</font> <font color=grey><font size=4.1615930291490875>the</font> <font color='red'><font size=5.59646446313444>gore</font> <font color='green'><font size=4.79609111743877>and</font> <font color='red'><font size=7.1712106885125015>violence</font> <font color=grey><font size=3.8082912729953153>is</font> <font color='green'><font size=7.3485750424063525>the</font> <font color='green'><font size=7.150777483083119>key</font> <font color=grey><font size=3.3364144599882084>element</font> <font color='green'><font size=5.531484968574782>in</font> <font color='green'><font size=4.697755948446889>it</font> <font color='red'><font size=4.593855034912471>.</font> <font color=grey><font size=3.0515762342199713>some</font> <font color=grey><font size=3.0884781467632196>of</font> <font color=grey><font size=3.515938503976095>the</font> <font color='red'><font size=6.794879283155717>gore</font> <font color=grey><font size=3.610421211223586>fx</font> <font color=grey><font size=4.04989881583258>were</font> <font color=grey><font size=4.4692488757037285>taken</font> <font color=grey><font size=3.873091428780158>from</font> <font color=grey><font size=3.576817708618706>own</font> <font color='red'><font size=5.4115553956518365>fu</font> <font color=grey><font size=3.633148213703312>##lc</font> <font color='green'><font size=5.000521625241996>##i</font> <font color='red'><font size=5.1735600888878235>'</font> <font color='red'><font size=4.7670397965493905>s</font> <font color=grey><font size=3.4523077734467744>movies</font> <font color=grey><font size=3.2329992192905355>\"</font> <font color='green'><font size=5.560836599421492>quan</font> <font color=grey><font size=3.2604310021753946>##do</font> <font color=grey><font size=3.11670433984853>alice</font> <font color=grey><font size=3.776897913449092>ru</font> <font color=grey><font size=3.4031068025988587>##ppe</font> <font color=grey><font size=3.8261332070274685>lo</font> <font color='red'><font size=6.35480725656585>spec</font> <font color=grey><font size=3.5017303650170994>##chio</font> <font color=grey><font size=3.317292006081573>\"</font> <font color='green'><font size=8.0>and</font> <font color=grey><font size=3.7628422258255254>\"</font> <font color=grey><font size=3.567348759535722>i</font> <font color='red'><font size=5.2754252264145345>fan</font> <font color='green'><font size=6.841308138937593>##tas</font> <font color=grey><font size=4.37154781330475>##mi</font> <font color='red'><font size=6.582268572897832>di</font> <font color=grey><font size=3.969663753798308>so</font> <font color=grey><font size=4.310379512951916>##dom</font> <font color='red'><font size=4.62989008949852>##a</font> <font color='red'><font size=5.80162427600999>\"</font> <font color=grey><font size=3.920514584745927>(</font> <font color='green'><font size=7.158283671385586>both</font> <font color='green'><font size=4.98262466782642>1988</font> <font color='red'><font size=4.549022035607638>)</font> <font color='green'><font size=7.3362337523172245>,</font> <font color=grey><font size=3.7106231956432465>plus</font> <font color='red'><font size=5.329570732710993>gore</font> <font color='red'><font size=5.685043370911183>fx</font> "
      ],
      "text/plain": [
       "<IPython.core.display.Markdown object>"
      ]
     },
     "metadata": {},
     "output_type": "display_data"
    },
    {
     "data": {
      "text/markdown": [
       "---"
      ],
      "text/plain": [
       "<IPython.core.display.Markdown object>"
      ]
     },
     "metadata": {},
     "output_type": "display_data"
    },
    {
     "data": {
      "text/markdown": [
       "## Actual Rating: <font color=green>good</font> "
      ],
      "text/plain": [
       "<IPython.core.display.Markdown object>"
      ]
     },
     "metadata": {},
     "output_type": "display_data"
    },
    {
     "data": {
      "text/markdown": [
       "## Model prediction: <font color=green>good</font> "
      ],
      "text/plain": [
       "<IPython.core.display.Markdown object>"
      ]
     },
     "metadata": {},
     "output_type": "display_data"
    },
    {
     "data": {
      "text/markdown": [
       "##### Logits (pos, neg): [ 2.15116   -2.3446877]"
      ],
      "text/plain": [
       "<IPython.core.display.Markdown object>"
      ]
     },
     "metadata": {},
     "output_type": "display_data"
    },
    {
     "data": {
      "text/markdown": [
       "<font color=grey><font size=4.477842750106431>sat</font> <font color=grey><font size=3.009298944915549>##ya</font> <font color=grey><font size=3.397479352621065>was</font> <font color='green'><font size=4.743463590912169>excellent</font> <font color=grey><font size=3.3457672220910215>.</font> <font color='red'><font size=4.655304731437599>.</font> <font color=grey><font size=3.9602604670445873>.</font> <font color=grey><font size=4.03286970935232>.</font> <font color=grey><font size=3.737694911009969>company</font> <font color=grey><font size=3.998784475834451>was</font> <font color=grey><font size=3.919745270822089>just</font> <font color=grey><font size=3.4099989803179547>as</font> <font color=grey><font size=3.069112403188567>good</font> <font color=grey><font size=3.274593915020312>but</font> <font color=grey><font size=3.0841956636062293>more</font> <font color=grey><font size=3.760463512395278>polished</font> <font color=grey><font size=3.3364612883654416>,</font> <font color=grey><font size=4.078571658746979>probably</font> <font color='red'><font size=5.093769078986497>owing</font> <font color=grey><font size=3.411192144105867>to</font> <font color=grey><font size=3.347825143540503>the</font> <font color=grey><font size=4.452574684195331>money</font> <font color=grey><font size=3.844838768631779>earned</font> <font color=grey><font size=3.299139626681327>from</font> <font color=grey><font size=3.3200202981267726>previous</font> <font color='green'><font size=4.878635163440094>movies</font> <font color=grey><font size=3.9472374352300497>.</font> <font color='red'><font size=4.66927191894518>ab</font> <font color=grey><font size=3.1391835476201586>tak</font> <font color=grey><font size=3.8236091120362183>cha</font> <font color=grey><font size=3.3536653617747367>##ppa</font> <font color=grey><font size=3.7439145442668194>##n</font> <font color=grey><font size=3.1398847554452134>however</font> <font color=grey><font size=3.093907592600114>is</font> <font color=grey><font size=3.6152508639070366>even</font> <font color=grey><font size=3.8096506215025387>more</font> <font color=grey><font size=3.6822954924133553>entertaining</font> <font color=grey><font size=3.336307794405002>.</font> <font color=grey><font size=3.392871472701923>the</font> <font color=grey><font size=3.082171593721078>dialogue</font> <font color=grey><font size=4.0748641158859265>is</font> <font color=grey><font size=4.18267645801487>grit</font> <font color=grey><font size=3.704005675889294>##ty</font> <font color=grey><font size=3.3325819325890533>,</font> <font color='red'><font size=4.533609959151992>crude</font> <font color=grey><font size=3.8088300925306147>and</font> <font color=grey><font size=3.0397444334665704>at</font> <font color=grey><font size=3.1844847066994375>times</font> <font color=grey><font size=3.455698049793624>hilarious</font> <font color=grey><font size=3.3971284888482978>.</font> <font color='green'><font size=4.953618946635338>nana</font> <font color=grey><font size=3.307088412887402>pat</font> <font color='red'><font size=4.947063488123092>##aker</font> <font color='green'><font size=4.550505585608602>shine</font> <font color=grey><font size=3.436161098960608>##s</font> <font color=grey><font size=3.052402691237378>yet</font> <font color=grey><font size=3.3221480814521347>again</font> <font color=grey><font size=3.131733447518752>in</font> <font color=grey><font size=3.2752806898738753>a</font> <font color=grey><font size=3.5020909127333737>role</font> <font color=grey><font size=3.2098247753533498>that</font> <font color=grey><font size=4.235636642444424>only</font> <font color=grey><font size=3.782813438405391>he</font> <font color=grey><font size=3.6995249033880633>can</font> <font color=grey><font size=3.4516042163417726>fulfill</font> <font color=grey><font size=3.526908414364972>with</font> <font color=grey><font size=3.5030997426336556>authority</font> <font color=grey><font size=3.317827773841083>but</font> <font color=grey><font size=3.055015557341453>the</font> <font color=grey><font size=3.2289459021216924>supporting</font> <font color=grey><font size=3.7383754492177745>cast</font> <font color=grey><font size=3.5046090299795063>are</font> <font color=grey><font size=3.8933117341189214>very</font> <font color=grey><font size=3.3883999121269963>talented</font> <font color=grey><font size=3.500402593602402>.</font> <font color=grey><font size=3.09973425876523>direction</font> <font color=grey><font size=3.3919567646573534>is</font> <font color='green'><font size=5.088145264731155>tight</font> <font color='green'><font size=4.8552608254514595>and</font> <font color='green'><font size=4.591397307398571>the</font> <font color=grey><font size=3.666478614949842>story</font> <font color=grey><font size=3.265388838060332>evolve</font> <font color=grey><font size=3.0169502936605714>##s</font> <font color=grey><font size=3.3753328995628595>at</font> <font color=grey><font size=3.396929869799587>a</font> <font color='green'><font size=4.930748727976019>satisfying</font> <font color=grey><font size=3.6676566734672935>pace</font> <font color=grey><font size=3.543786112849065>with</font> <font color=grey><font size=3.188057708709293>a</font> <font color=grey><font size=3.7597402522104124>very</font> <font color=grey><font size=4.18675018925073>dr</font> <font color=grey><font size=3.7634248701534165>##am</font> <font color=grey><font size=3.2830372176470206>##tic</font> <font color='green'><font size=5.093389158547635>climax</font> <font color=grey><font size=3.974312755204689>.</font> <font color=grey><font size=3.16506052090632>as</font> <font color=grey><font size=3.9229845884434793>a</font> <font color=grey><font size=3.3098372288096627>depiction</font> <font color=grey><font size=4.395901197066745>of</font> <font color=grey><font size=3.8867986161375128>reality</font> <font color=grey><font size=3.914366879067113>it</font> <font color=grey><font size=3.1355689202911354>may</font> <font color=grey><font size=3.3490648723761804>be</font> <font color=grey><font size=3.1777021732501893>over</font> <font color=grey><font size=4.163577369302105>-</font> <font color='green'><font size=8.0>drama</font> <font color=grey><font size=3.7538600488757727>##tis</font> <font color=grey><font size=3.661734644554219>##ed</font> <font color=grey><font size=3.608376134905506>but</font> <font color=grey><font size=3.600032361134731>at</font> <font color=grey><font size=3.041502636525783>the</font> <font color=grey><font size=3.342697066333712>end</font> <font color=grey><font size=3.637307343337213>of</font> <font color=grey><font size=3.1816799153318693>the</font> <font color=grey><font size=3.8055422930941845>day</font> <font color=grey><font size=4.305157200244528>it</font> <font color=grey><font size=3.72246992365186>'</font> <font color='green'><font size=4.949993376567771>s</font> <font color=grey><font size=3.8394220796759377>a</font> <font color=grey><font size=3.1466989942277728>movie</font> <font color=grey><font size=3.8325394928821983>so</font> <font color=grey><font size=3.464433626053131>the</font> <font color='green'><font size=5.714670305806048>balance</font> <font color=grey><font size=3.4998006905336245>is</font> <font color=grey><font size=3.386342848931519>spot</font> <font color=grey><font size=3.7161993863964495>-</font> "
      ],
      "text/plain": [
       "<IPython.core.display.Markdown object>"
      ]
     },
     "metadata": {},
     "output_type": "display_data"
    },
    {
     "data": {
      "text/markdown": [
       "---"
      ],
      "text/plain": [
       "<IPython.core.display.Markdown object>"
      ]
     },
     "metadata": {},
     "output_type": "display_data"
    },
    {
     "data": {
      "text/markdown": [
       "## Actual Rating: <font color=red>bad</font> "
      ],
      "text/plain": [
       "<IPython.core.display.Markdown object>"
      ]
     },
     "metadata": {},
     "output_type": "display_data"
    },
    {
     "data": {
      "text/markdown": [
       "## Model prediction: <font color=red>bad</font> "
      ],
      "text/plain": [
       "<IPython.core.display.Markdown object>"
      ]
     },
     "metadata": {},
     "output_type": "display_data"
    },
    {
     "data": {
      "text/markdown": [
       "##### Logits (pos, neg): [-1.9824497  2.5028288]"
      ],
      "text/plain": [
       "<IPython.core.display.Markdown object>"
      ]
     },
     "metadata": {},
     "output_type": "display_data"
    },
    {
     "data": {
      "text/markdown": [
       "<font color=grey><font size=3.1111043482555294>awful</font> <font color='green'><font size=4.876881630440133>!</font> <font color='red'><font size=5.135994790356589>awful</font> <font color='green'><font size=4.553851957381491>!</font> <font color='red'><font size=5.726925072089946>awful</font> <font color='green'><font size=4.835670406566068>!</font> <font color='red'><font size=4.697324425838291>dr</font> <font color=grey><font size=4.341706177303124>##ab</font> <font color='green'><font size=4.944788560739564>,</font> <font color=grey><font size=3.7071204101490935>un</font> <font color=grey><font size=3.1730551306747934>##ima</font> <font color=grey><font size=4.351251837854779>##gina</font> <font color='red'><font size=4.7854841239596>##tive</font> <font color=grey><font size=3.523453462662709>,</font> <font color='red'><font size=5.956934322020786>predictable</font> <font color='red'><font size=4.959391629509529>-</font> <font color='green'><font size=4.531690050219612>and</font> <font color='green'><font size=4.973172178558541>with</font> <font color=grey><font size=3.3169098103981067>all</font> <font color=grey><font size=3.4081034130324603>the</font> <font color='red'><font size=4.550094841721959>usual</font> <font color=grey><font size=4.434660123601933>suspects</font> <font color=grey><font size=4.212290250602969>.</font> <font color='red'><font size=4.969588068936826>exactly</font> <font color='red'><font size=5.508560003294416>the</font> <font color='red'><font size=5.199412383871957>sort</font> <font color='red'><font size=4.709343465438325>of</font> <font color='green'><font size=4.609851691098233>film</font> <font color=grey><font size=3.265458895587292>the</font> <font color=grey><font size=3.2803779281109233>irish</font> <font color=grey><font size=3.1275161158955953>film</font> <font color='red'><font size=4.608147729834003>industry</font> <font color='red'><font size=5.667935941525029>shouldn</font> <font color='red'><font size=4.734906354644072>'</font> <font color=grey><font size=4.3884462562708>t</font> <font color='red'><font size=4.509748864927123>be</font> <font color='red'><font size=4.6026443593322535>making</font> <font color=grey><font size=3.6374148460377844>.</font> <font color=grey><font size=3.565906147644119>and</font> <font color='green'><font size=5.241853880936796>with</font> <font color=grey><font size=3.8292416525779647>the</font> <font color=grey><font size=3.1289759108214823>added</font> <font color=grey><font size=3.7865102095395917>bonus</font> <font color=grey><font size=3.2698296296112073>of</font> <font color='red'><font size=4.5325813241160615>a</font> <font color=grey><font size=3.696042059249876>tre</font> <font color='red'><font size=6.237585829936496>##acle</font> <font color=grey><font size=3.8327676717895733>-</font> <font color=grey><font size=3.3844596130020492>coated</font> <font color=grey><font size=3.1064617718072483>ending</font> <font color=grey><font size=3.4199408523227404>.</font> <font color=grey><font size=4.003044906265575>a</font> <font color='red'><font size=4.997869170014631>sick</font> <font color=grey><font size=3.864635051390529>##ening</font> <font color='red'><font size=5.2337857121911755>example</font> <font color=grey><font size=3.287099886846966>of</font> <font color='green'><font size=4.651299325228736>how</font> <font color='green'><font size=5.933607642491474>talent</font> <font color=grey><font size=3.4496597904586728>&</font> <font color='red'><font size=6.06320875722584>original</font> <font color=grey><font size=3.2246441920810343>##ity</font> <font color=grey><font size=3.5438693318725156>is</font> <font color=grey><font size=3.380537118608081>by</font> <font color=grey><font size=4.000418222034083>-</font> <font color=grey><font size=3.88814037610139>passed</font> <font color=grey><font size=3.66360405975549>in</font> <font color=grey><font size=4.314218135035109>favour</font> <font color=grey><font size=3.8501155937708917>of</font> <font color=grey><font size=4.3571505267914565>an</font> <font color='green'><font size=4.820883993328112>almost</font> <font color='red'><font size=5.768359765108553>aggressive</font> <font color='red'><font size=5.099817152933404>med</font> <font color=grey><font size=3.2720735162950145>##io</font> <font color=grey><font size=3.7913715852165133>##cr</font> <font color='green'><font size=6.606120356447094>##ity</font> <font color=grey><font size=4.154572602356097>.</font> <font color=grey><font size=3.5223848268513933>yes</font> <font color='red'><font size=8.0>-</font> <font color='green'><font size=5.309684538202422>the</font> <font color='green'><font size=7.280179497126032>children</font> <font color=grey><font size=3.7405713227620883>are</font> <font color=grey><font size=4.360848069958234>sweet</font> <font color=grey><font size=4.022067726231891>.</font> <font color=grey><font size=3.6448370617134587>yes</font> <font color=grey><font size=3.38350383236208>-</font> <font color='green'><font size=5.271523295823291>it</font> <font color=grey><font size=3.624354426487804>almost</font> <font color='red'><font size=4.770479302347116>looks</font> <font color=grey><font size=3.4165347552863214>like</font> <font color=grey><font size=3.484189189310335>it</font> <font color=grey><font size=3.5823576988106147>'</font> <font color=grey><font size=3.867822143604526>s</font> <font color='red'><font size=4.799676258204304>done</font> <font color=grey><font size=3.3048448352730926>professionally</font> <font color='red'><font size=4.846645915388899>.</font> <font color=grey><font size=3.160107666833778>but</font> <font color=grey><font size=3.0763048398413777>this</font> <font color='green'><font size=6.144778682116494>is</font> <font color=grey><font size=4.083260822138572>film</font> <font color='red'><font size=4.61281802529448>making</font> <font color=grey><font size=3.8848359463197473>by</font> <font color=grey><font size=3.3719595833603964>numbers</font> <font color=grey><font size=3.893428049355405>,</font> <font color=grey><font size=3.297109294673832>a</font> <font color=grey><font size=3.5413897172325117>direct</font> <font color=grey><font size=3.0064638459096167>smash</font> <font color='green'><font size=7.190637558120052>and</font> <font color=grey><font size=4.174368888722574>grab</font> <font color=grey><font size=3.7876869470132752>on</font> <font color=grey><font size=3.3237362198124343>what</font> <font color=grey><font size=3.078661265398405>the</font> <font color='red'><font size=4.75493427968383>director</font> <font color=grey><font size=4.374766597286884>obviously</font> <font color='red'><font size=5.0287389995488105>thinks</font> <font color=grey><font size=3.0098777374355685>is</font> <font color=grey><font size=3.8953377670691243>'</font> <font color='green'><font size=4.514957843207396>success</font> <font color=grey><font size=3.7966027585881412>'</font> <font color=grey><font size=3.4328635827799405>-</font> <font color=grey><font size=4.102397654023668>a</font> <font color=grey><font size=3.251375835621693>film</font> <font color=grey><font size=3.510039584475501>which</font> <font color='red'><font size=5.639046029814356>patron</font> <font color=grey><font size=3.133952184051935>##ises</font> <font color='green'><font size=6.478836496006127>and</font> <font color=grey><font size=3.034235720560243>des</font> "
      ],
      "text/plain": [
       "<IPython.core.display.Markdown object>"
      ]
     },
     "metadata": {},
     "output_type": "display_data"
    },
    {
     "data": {
      "text/markdown": [
       "---"
      ],
      "text/plain": [
       "<IPython.core.display.Markdown object>"
      ]
     },
     "metadata": {},
     "output_type": "display_data"
    },
    {
     "data": {
      "text/markdown": [
       "## Actual Rating: <font color=green>good</font> "
      ],
      "text/plain": [
       "<IPython.core.display.Markdown object>"
      ]
     },
     "metadata": {},
     "output_type": "display_data"
    },
    {
     "data": {
      "text/markdown": [
       "## Model prediction: <font color=green>good</font> "
      ],
      "text/plain": [
       "<IPython.core.display.Markdown object>"
      ]
     },
     "metadata": {},
     "output_type": "display_data"
    },
    {
     "data": {
      "text/markdown": [
       "##### Logits (pos, neg): [ 0.4898573 -0.725187 ]"
      ],
      "text/plain": [
       "<IPython.core.display.Markdown object>"
      ]
     },
     "metadata": {},
     "output_type": "display_data"
    },
    {
     "data": {
      "text/markdown": [
       "<font color=grey><font size=3.692088808543586>i</font> <font color=grey><font size=3.505088990956691>found</font> <font color='green'><font size=4.790892650496221>the</font> <font color=grey><font size=4.493065665202043>film</font> <font color='green'><font size=5.195994768029758>quite</font> <font color=grey><font size=4.132538535951609>good</font> <font color=grey><font size=3.1254671124316493>for</font> <font color=grey><font size=3.6158839760702133>what</font> <font color='green'><font size=7.592385814669909>i</font> <font color='red'><font size=4.770323172738585>was</font> <font color=grey><font size=3.5791440295474075>expecting</font> <font color=grey><font size=3.8855468985580304>.</font> <font color=grey><font size=4.279798445012793>although</font> <font color=grey><font size=3.082140023659615>i</font> <font color=grey><font size=4.062692030697327>weary</font> <font color='red'><font size=4.717869195875976>,</font> <font color=grey><font size=3.7415749721918052>because</font> <font color=grey><font size=3.729976307931711>i</font> <font color=grey><font size=3.5509435077837255>have</font> <font color=grey><font size=3.887186791019488>a</font> <font color=grey><font size=3.130221124040979>fear</font> <font color=grey><font size=4.1445197910781735>of</font> <font color=grey><font size=3.5688954284760785>injection</font> <font color='red'><font size=5.3013817420843665>needles</font> <font color='red'><font size=6.302398198207457>,</font> <font color=grey><font size=4.242772776554629>i</font> <font color=grey><font size=3.0330438661112993>sort</font> <font color=grey><font size=3.3880938364653668>of</font> <font color=grey><font size=3.757662736423746>came</font> <font color=grey><font size=3.371291750492407>to</font> <font color='red'><font size=4.80712802533284>expect</font> <font color=grey><font size=3.7691000313442236>when</font> <font color=grey><font size=4.320865395355051>they</font> <font color='red'><font size=6.175106439196128>were</font> <font color=grey><font size=3.946747847484795>coming</font> <font color='red'><font size=5.992812599133883>.</font> <font color=grey><font size=3.1725251889645616>so</font> <font color=grey><font size=4.005561064308124>if</font> <font color=grey><font size=3.4702339066071946>you</font> <font color=grey><font size=3.8853658376628837>'</font> <font color=grey><font size=3.3724072813388823>re</font> <font color='red'><font size=4.944008168969976>not</font> <font color=grey><font size=4.106789959355277>into</font> <font color=grey><font size=3.504615185086424>needles</font> <font color=grey><font size=3.5767004173730834>,</font> <font color=grey><font size=3.2010013417978063>blood</font> <font color=grey><font size=4.395140590607388>,</font> <font color='green'><font size=5.007250819506762>the</font> <font color='red'><font size=4.532466963485737>human</font> <font color=grey><font size=4.2218220432377205>body</font> <font color=grey><font size=3.1948415358831865>,</font> <font color=grey><font size=4.210253922016978>and</font> <font color=grey><font size=4.113107585058731>some</font> <font color=grey><font size=3.3228239191584064>good</font> <font color='red'><font size=4.753469905623867>medical</font> <font color=grey><font size=3.20576128094566>fun</font> <font color=grey><font size=3.90425012393003>,</font> <font color=grey><font size=4.143524125181095>put</font> <font color='green'><font size=5.884970755758182>this</font> <font color=grey><font size=3.8286085206527063>movie</font> <font color=grey><font size=3.4372079395811017>back</font> <font color=grey><font size=3.5658409217094853>and</font> <font color='red'><font size=5.168649907738724>rent</font> <font color=grey><font size=4.3533168760383285>another</font> <font color=grey><font size=3.356521579510884>.</font> <font color=grey><font size=3.3548183698245184>as</font> <font color=grey><font size=3.505340248444215>the</font> <font color=grey><font size=3.7006841302762212>other</font> <font color=grey><font size=4.153583315461627>user</font> <font color=grey><font size=3.1282566156527483>commented</font> <font color='green'><font size=5.010805779128425>,</font> <font color=grey><font size=3.5177660763549614>i</font> <font color=grey><font size=3.046822812095774>was</font> <font color=grey><font size=4.021574642928713>also</font> <font color=grey><font size=3.732127065263866>please</font> <font color=grey><font size=4.186384139552381>at</font> <font color='green'><font size=6.296848052993644>the</font> <font color=grey><font size=3.062561377648945>german</font> <font color='red'><font size=5.822661468050933>attempt</font> <font color=grey><font size=3.4867890621640605>at</font> <font color=grey><font size=3.553748599448677>a</font> <font color='red'><font size=5.275032513885167>slash</font> <font color=grey><font size=4.243572000169838>##er</font> <font color=grey><font size=4.2141270566097235>film</font> <font color=grey><font size=3.110298088543874>.</font> <font color=grey><font size=3.4363863368933414>i</font> <font color=grey><font size=3.337884037730981>'</font> <font color='red'><font size=5.15561392895111>m</font> <font color=grey><font size=3.2200304666394963>an</font> <font color=grey><font size=3.982588405449838>american</font> <font color=grey><font size=3.9574747589753603>who</font> <font color=grey><font size=3.5577174873994326>just</font> <font color=grey><font size=4.0761043632836085>moved</font> <font color=grey><font size=3.3386827373648837>to</font> <font color=grey><font size=3.3871239301653944>germany</font> <font color=grey><font size=3.3800773957574686>to</font> <font color=grey><font size=3.8159511944204576>stay</font> <font color='green'><font size=7.173148304153096>with</font> <font color='red'><font size=4.785788531692147>a</font> <font color=grey><font size=3.6946840372441856>family</font> <font color=grey><font size=3.2735113834769693>and</font> <font color=grey><font size=3.197035572380952>saw</font> <font color='green'><font size=5.364099126715853>this</font> <font color='red'><font size=4.769339372482692>lying</font> <font color='green'><font size=6.031558684148396>on</font> <font color='green'><font size=6.236614813025891>the</font> <font color='red'><font size=8.0>shelf</font> <font color=grey><font size=4.382483061543667>.</font> <font color=grey><font size=4.174896407205548>i</font> <font color='green'><font size=5.838534653486768>love</font> <font color=grey><font size=3.3990273149088437>psychological</font> <font color='green'><font size=6.6034506772002>thriller</font> <font color=grey><font size=3.8647593431613747>##s</font> <font color=grey><font size=3.221664223448887>,</font> <font color=grey><font size=3.620925149507079>and</font> <font color=grey><font size=3.225499627161947>i</font> <font color=grey><font size=4.280561801262477>'</font> <font color=grey><font size=3.313602693304479>d</font> <font color=grey><font size=3.6743746232405385>say</font> <font color='green'><font size=5.69205652453409>this</font> <font color=grey><font size=3.6687552279812237>is</font> <font color=grey><font size=4.003798830663035>somewhere</font> <font color=grey><font size=4.001185380935086>along</font> <font color=grey><font size=3.15784615375579>those</font> <font color=grey><font size=3.236679093700298>lines</font> <font color=grey><font size=3.5482634110141817>.</font> "
      ],
      "text/plain": [
       "<IPython.core.display.Markdown object>"
      ]
     },
     "metadata": {},
     "output_type": "display_data"
    },
    {
     "data": {
      "text/markdown": [
       "---"
      ],
      "text/plain": [
       "<IPython.core.display.Markdown object>"
      ]
     },
     "metadata": {},
     "output_type": "display_data"
    },
    {
     "data": {
      "text/markdown": [
       "## Actual Rating: <font color=green>good</font> "
      ],
      "text/plain": [
       "<IPython.core.display.Markdown object>"
      ]
     },
     "metadata": {},
     "output_type": "display_data"
    },
    {
     "data": {
      "text/markdown": [
       "## Model prediction: <font color=green>good</font> "
      ],
      "text/plain": [
       "<IPython.core.display.Markdown object>"
      ]
     },
     "metadata": {},
     "output_type": "display_data"
    },
    {
     "data": {
      "text/markdown": [
       "##### Logits (pos, neg): [ 2.6237886 -2.7168424]"
      ],
      "text/plain": [
       "<IPython.core.display.Markdown object>"
      ]
     },
     "metadata": {},
     "output_type": "display_data"
    },
    {
     "data": {
      "text/markdown": [
       "<font color=grey><font size=3.765555605147976>i</font> <font color='green'><font size=4.976477492089202>agree</font> <font color='green'><font size=5.97026879853316>with</font> <font color=grey><font size=4.031297012356121>another</font> <font color='green'><font size=5.39780310827013>reviewer</font> <font color='red'><font size=4.870447367146516>,</font> <font color='green'><font size=5.58067604128952>this</font> <font color=grey><font size=3.4171120698436255>is</font> <font color=grey><font size=3.9362916864392345>such</font> <font color=grey><font size=3.3999155260251968>a</font> <font color='green'><font size=5.822108333161073>shattering</font> <font color=grey><font size=3.457883409252117>film</font> <font color=grey><font size=3.406407828731364>,</font> <font color=grey><font size=3.0185728114029517>that</font> <font color=grey><font size=4.231599059616016>will</font> <font color=grey><font size=3.8812806204322974>be</font> <font color='green'><font size=5.838474978810458>tough</font> <font color=grey><font size=3.173938491306417>to</font> <font color=grey><font size=3.609482641178529>watch</font> <font color=grey><font size=4.048721228015505>again</font> <font color='green'><font size=4.588738417772357>soon</font> <font color=grey><font size=3.479405661958056>,</font> <font color='red'><font size=8.0>though</font> <font color=grey><font size=3.0430445568282827>for</font> <font color='green'><font size=5.099552360926141>quality</font> <font color=grey><font size=3.650971435752738>alone</font> <font color=grey><font size=3.960078934614397>,</font> <font color=grey><font size=4.332749337704353>it</font> <font color=grey><font size=3.6760118980328107>deserves</font> <font color=grey><font size=3.581478724288021>repeated</font> <font color=grey><font size=3.0035484470944414>viewing</font> <font color=grey><font size=4.241215423084693>.</font> <font color='green'><font size=4.973419506081226>the</font> <font color='green'><font size=4.932925067384284>complexity</font> <font color=grey><font size=3.199209635624241>of</font> <font color='green'><font size=4.769166921417814>the</font> <font color=grey><font size=3.3818612256946987>characters</font> <font color=grey><font size=3.936849563780977>,</font> <font color=grey><font size=3.770275668512731>the</font> <font color='green'><font size=5.548117603161202>incredible</font> <font color=grey><font size=4.457609234544872>cinematography</font> <font color=grey><font size=3.091102241180886>and</font> <font color='green'><font size=6.704076998575478>superb</font> <font color=grey><font size=3.094655308740442>direction</font> <font color='red'><font size=6.340868522770714>make</font> <font color=grey><font size=4.39052720459559>this</font> <font color='red'><font size=5.003998543498518>movie</font> <font color=grey><font size=3.4851422182995018>worth</font> <font color=grey><font size=3.2995656517863576>the</font> <font color='green'><font size=5.642805007423856>emotional</font> <font color='green'><font size=4.881649188180212>price</font> <font color=grey><font size=3.697840611208905>of</font> <font color=grey><font size=3.7356906013683657>watching</font> <font color=grey><font size=3.705530336546434>.</font> <font color='red'><font size=5.0104993719794635><</font> <font color=grey><font size=3.026444192067592>br</font> <font color=grey><font size=3.082695738439341>/</font> <font color=grey><font size=3.736529249674682>></font> <font color='red'><font size=4.845665033915981><</font> <font color=grey><font size=4.07788042478222>br</font> <font color=grey><font size=3.498217185706362>/</font> <font color=grey><font size=4.054827028931723>></font> <font color=grey><font size=3.2629243584735894>there</font> <font color='green'><font size=4.84824647398635>is</font> <font color=grey><font size=3.427065294900417>one</font> <font color=grey><font size=3.4217082290209775>scene</font> <font color=grey><font size=3.4415481743519147>,</font> <font color=grey><font size=3.8794039777436>of</font> <font color=grey><font size=3.1078651624113727>the</font> <font color=grey><font size=3.4114845162805953>two</font> <font color=grey><font size=3.4287146677309623>partisans</font> <font color=grey><font size=3.682885860038428>dragging</font> <font color=grey><font size=3.434031292270829>themselves</font> <font color=grey><font size=4.4448968556254576>through</font> <font color='green'><font size=5.3157075254800255>the</font> <font color=grey><font size=3.7640287809814317>snow</font> <font color=grey><font size=3.3200049908688953>to</font> <font color='green'><font size=7.525931473053152>escape</font> <font color='green'><font size=5.769925655543084>a</font> <font color=grey><font size=3.363180037858628>patrol</font> <font color=grey><font size=3.934090017283989>,</font> <font color=grey><font size=3.430123897905253>that</font> <font color=grey><font size=3.081925018215243>'</font> <font color=grey><font size=3.23199234743657>s</font> <font color=grey><font size=3.3334683484500305>perhaps</font> <font color=grey><font size=3.8100260837852717>,</font> <font color=grey><font size=4.0813800683599615>for</font> <font color=grey><font size=4.289873365919343>sheer</font> <font color=grey><font size=3.7307261698537157>physical</font> <font color=grey><font size=3.4658337222781817>##ity</font> <font color=grey><font size=4.3406386334804425>,</font> <font color=grey><font size=4.161473440252133>the</font> <font color='green'><font size=4.898791754121921>most</font> <font color='green'><font size=6.86932745427814>amazing</font> <font color='green'><font size=5.0888000127557556>performance</font> <font color=grey><font size=3.169450069362787>i</font> <font color=grey><font size=3.5087172756458074>'</font> <font color=grey><font size=4.010945240085369>ve</font> <font color=grey><font size=3.103996250887765>ever</font> <font color=grey><font size=3.523478832011933>seen</font> <font color='red'><font size=4.834165109915036>.</font> <font color=grey><font size=4.109023434722346>in</font> <font color='red'><font size=4.93496482160624>fact</font> <font color='green'><font size=5.73511132732343>,</font> <font color='green'><font size=6.173878958588277>though</font> <font color='red'><font size=6.5150034340923355>not</font> <font color='green'><font size=7.154644451708471>ep</font> <font color=grey><font size=4.209229688919606>##iso</font> <font color=grey><font size=3.974521746663812>##dic</font> <font color='red'><font size=5.976666270691793>-</font> <font color='red'><font size=5.136056063939362>-</font> <font color=grey><font size=3.049015001721459>the</font> <font color='green'><font size=5.187057024300582>story</font> <font color=grey><font size=3.7778945700896016>flows</font> <font color='red'><font size=5.470187085712785>-</font> <font color='red'><font size=4.920211566652398>-</font> <font color=grey><font size=3.2956109262829503>this</font> <font color=grey><font size=3.878392925557392>is</font> <font color='green'><font size=4.645796268026068>a</font> <font color=grey><font size=3.2876224763070963>movie</font> <font color='red'><font size=5.325059926474316>of</font> <font color='green'><font size=5.1004231865534955>memorable</font> <font color='green'><font size=5.495067315778274>scenes</font> <font color=grey><font size=3.2542630687488265>.</font> <font color='green'><font size=5.039121444935147>there</font> <font color='red'><font size=4.566305982518212>'</font> "
      ],
      "text/plain": [
       "<IPython.core.display.Markdown object>"
      ]
     },
     "metadata": {},
     "output_type": "display_data"
    },
    {
     "data": {
      "text/markdown": [
       "---"
      ],
      "text/plain": [
       "<IPython.core.display.Markdown object>"
      ]
     },
     "metadata": {},
     "output_type": "display_data"
    },
    {
     "data": {
      "text/markdown": [
       "## Actual Rating: <font color=red>bad</font> "
      ],
      "text/plain": [
       "<IPython.core.display.Markdown object>"
      ]
     },
     "metadata": {},
     "output_type": "display_data"
    },
    {
     "data": {
      "text/markdown": [
       "## Model prediction: <font color=red>bad</font> "
      ],
      "text/plain": [
       "<IPython.core.display.Markdown object>"
      ]
     },
     "metadata": {},
     "output_type": "display_data"
    },
    {
     "data": {
      "text/markdown": [
       "##### Logits (pos, neg): [-0.2884256   0.24442582]"
      ],
      "text/plain": [
       "<IPython.core.display.Markdown object>"
      ]
     },
     "metadata": {},
     "output_type": "display_data"
    },
    {
     "data": {
      "text/markdown": [
       "<font color=grey><font size=3.309274943674674>first</font> <font color=grey><font size=4.254044324885667>separate</font> <font color=grey><font size=4.442796371613639>the</font> <font color='green'><font size=4.7175105029347035>story</font> <font color=grey><font size=4.2842596531308095>from</font> <font color='red'><font size=4.971723147992246>the</font> <font color=grey><font size=4.174716403768664>film</font> <font color=grey><font size=4.47489736293241>.</font> <font color=grey><font size=3.45738652283446>the</font> <font color=grey><font size=3.3467278227960615>story</font> <font color=grey><font size=3.6126825659998962>about</font> <font color=grey><font size=4.496055309849428>a</font> <font color=grey><font size=3.404057455732808>second</font> <font color=grey><font size=3.018829418353311>continuing</font> <font color=grey><font size=4.454392390651478>war</font> <font color=grey><font size=3.0952263767143364>in</font> <font color=grey><font size=3.1010592123642153>heaven</font> <font color=grey><font size=3.38294488151114>is</font> <font color=grey><font size=3.140733539058472>good</font> <font color=grey><font size=4.083256542906076>,</font> <font color=grey><font size=4.418123102952901>very</font> <font color=grey><font size=3.481146631958134>good</font> <font color=grey><font size=3.9133508322692263>.</font> <font color='red'><font size=7.3496679829868405>religious</font> <font color='green'><font size=7.125940614647617>themed</font> <font color='green'><font size=8.0>films</font> <font color='green'><font size=6.034549177770503>aren</font> <font color=grey><font size=3.710255131156176>'</font> <font color=grey><font size=3.4939030862757936>t</font> <font color=grey><font size=3.3057811644291664>the</font> <font color=grey><font size=3.008921705802877>main</font> <font color=grey><font size=3.669397073462239>choice</font> <font color=grey><font size=3.113910286181767>for</font> <font color=grey><font size=3.614437094902989>a</font> <font color=grey><font size=3.6932020242082992>lot</font> <font color=grey><font size=3.765366669769222>of</font> <font color=grey><font size=3.044584922225345>people</font> <font color=grey><font size=3.274231699192952>but</font> <font color=grey><font size=4.006583741502396>angels</font> <font color=grey><font size=3.4262494425640284>at</font> <font color=grey><font size=3.2920431647172856>war</font> <font color=grey><font size=3.061771030184379>is</font> <font color=grey><font size=3.319996694057177>.</font> <font color=grey><font size=3.0392426452263415>i</font> <font color=grey><font size=4.1388719199728925>really</font> <font color=grey><font size=4.395937325590191>loved</font> <font color='green'><font size=4.848569778564688>the</font> <font color='green'><font size=5.704819536722231>story</font> <font color=grey><font size=3.420791387828849>,</font> <font color=grey><font size=4.209331521737235>and</font> <font color=grey><font size=3.3685738836770023>some</font> <font color=grey><font size=3.5082493279394185>of</font> <font color='green'><font size=5.535374252728593>the</font> <font color=grey><font size=3.542454484813688>imagery</font> <font color=grey><font size=3.9291563535020355>provided</font> <font color=grey><font size=3.176990605270231>to</font> <font color=grey><font size=3.8666658420056734>back</font> <font color='green'><font size=4.513623693745702>it</font> <font color=grey><font size=3.7886409288336518>up</font> <font color=grey><font size=3.9752296838827124>like</font> <font color=grey><font size=4.0082053659917385>the</font> <font color=grey><font size=3.326681513723753>field</font> <font color=grey><font size=3.0631871549687033>of</font> <font color=grey><font size=3.140923772117909>angels</font> <font color=grey><font size=4.115052562170506>on</font> <font color=grey><font size=4.220080874296652>spikes</font> <font color=grey><font size=3.3275620871683884>.</font> <font color=grey><font size=3.138092744697942>.</font> <font color=grey><font size=3.0674299513533896>.</font> <font color=grey><font size=3.4166191832967128>.</font> <font color=grey><font size=3.9467492756927327>awesome</font> <font color=grey><font size=3.258097471029452>imagery</font> <font color=grey><font size=3.309660866908692>.</font> <font color=grey><font size=3.817387336492711>the</font> <font color='red'><font size=6.379251154656116>actual</font> <font color=grey><font size=3.251748343945642>film</font> <font color=grey><font size=3.2603203518184634>though</font> <font color='red'><font size=4.648078840554096>was</font> <font color=grey><font size=3.8188591439369617>just</font> <font color='red'><font size=5.230776291630455>poor</font> <font color=grey><font size=3.6803138365608623>,</font> <font color=grey><font size=3.1823188399000313>i</font> <font color=grey><font size=3.980538207535166>can</font> <font color=grey><font size=4.004546382202417>'</font> <font color=grey><font size=3.6795317975770785>t</font> <font color=grey><font size=4.393776593955316>find</font> <font color=grey><font size=4.27536344563887>any</font> <font color='red'><font size=4.613750937738683>reason</font> <font color=grey><font size=3.632505831235622>for</font> <font color=grey><font size=3.466492885430643>the</font> <font color=grey><font size=3.0986237832383043>main</font> <font color='green'><font size=4.661697566724988>character</font> <font color=grey><font size=3.1398679437438166>-</font> <font color='green'><font size=4.572581398942273>the</font> <font color=grey><font size=3.6496648531968345>priest</font> <font color=grey><font size=3.7203724388012214>-</font> <font color=grey><font size=3.4570343942242965>cum</font> <font color=grey><font size=3.4596637500902006>-</font> <font color=grey><font size=3.9852078367937285>cop</font> <font color=grey><font size=3.889597708797627>being</font> <font color=grey><font size=3.2728559002086555>in</font> <font color=grey><font size=3.4894187470129188>there</font> <font color=grey><font size=3.4487059173489674>at</font> <font color=grey><font size=4.096239806231465>all</font> <font color=grey><font size=4.310270844379651>.</font> <font color='green'><font size=5.607513134442096>the</font> <font color='red'><font size=5.055841292782585>lead</font> <font color=grey><font size=3.8175108450001622>female</font> <font color=grey><font size=3.6065929021025216>also</font> <font color=grey><font size=4.295989284679686>.</font> <font color=grey><font size=4.369434878231669>.</font> <font color=grey><font size=4.188793595697976>.</font> <font color=grey><font size=3.6340308004453736>no</font> <font color=grey><font size=3.9647169175204793>reason</font> <font color=grey><font size=3.544061320963549>to</font> <font color=grey><font size=3.107081651275464>be</font> <font color=grey><font size=3.347903352803612>there</font> <font color=grey><font size=3.786541828897202>,</font> <font color='green'><font size=4.666287562273343>the</font> <font color='red'><font size=4.967867830613019>main</font> <font color='green'><font size=4.531462679743415>characters</font> <font color=grey><font size=3.517530195664928>dialogue</font> <font color=grey><font size=4.090609479596862>was</font> <font color=grey><font size=3.910052052122584>just</font> <font color='red'><font size=6.0292892132511895>empty</font> <font color=grey><font size=3.8415110399556855>,</font> "
      ],
      "text/plain": [
       "<IPython.core.display.Markdown object>"
      ]
     },
     "metadata": {},
     "output_type": "display_data"
    },
    {
     "data": {
      "text/markdown": [
       "---"
      ],
      "text/plain": [
       "<IPython.core.display.Markdown object>"
      ]
     },
     "metadata": {},
     "output_type": "display_data"
    },
    {
     "data": {
      "text/markdown": [
       "## Actual Rating: <font color=green>good</font> "
      ],
      "text/plain": [
       "<IPython.core.display.Markdown object>"
      ]
     },
     "metadata": {},
     "output_type": "display_data"
    },
    {
     "data": {
      "text/markdown": [
       "## Model prediction: <font color=green>good</font> "
      ],
      "text/plain": [
       "<IPython.core.display.Markdown object>"
      ]
     },
     "metadata": {},
     "output_type": "display_data"
    },
    {
     "data": {
      "text/markdown": [
       "##### Logits (pos, neg): [ 1.2162987 -1.5156578]"
      ],
      "text/plain": [
       "<IPython.core.display.Markdown object>"
      ]
     },
     "metadata": {},
     "output_type": "display_data"
    },
    {
     "data": {
      "text/markdown": [
       "<font color='green'><font size=5.102936955310575>this</font> <font color=grey><font size=3.183066062457291>is</font> <font color=grey><font size=3.9989090558188725>one</font> <font color='red'><font size=4.651822205809088>of</font> <font color=grey><font size=4.2065587279340395>several</font> <font color=grey><font size=4.129914006196013>period</font> <font color=grey><font size=4.494478798532345>sea</font> <font color='red'><font size=6.067371757584002>-</font> <font color=grey><font size=3.7431772098003764>far</font> <font color=grey><font size=4.4677323731976895>##ing</font> <font color=grey><font size=3.020124611460095>yarn</font> <font color=grey><font size=4.303348072824883>##s</font> <font color=grey><font size=3.26051437585372>of</font> <font color=grey><font size=3.612274589152582>its</font> <font color='green'><font size=6.198240493402403>era</font> <font color='red'><font size=4.559704148608057>,</font> <font color=grey><font size=3.553052255808854>which</font> <font color=grey><font size=3.9663692147485436>has</font> <font color=grey><font size=3.4948625810565632>the</font> <font color=grey><font size=3.7143929373211684>added</font> <font color=grey><font size=3.4144646847642757>distinction</font> <font color=grey><font size=3.2613360868031114>(</font> <font color='red'><font size=5.333051901000315>although</font> <font color='red'><font size=6.537637328706662>not</font> <font color='red'><font size=4.66286614338341>in</font> <font color=grey><font size=3.7698922978063996>itself</font> <font color='green'><font size=7.676827368334725>unique</font> <font color=grey><font size=3.436754825334754>)</font> <font color=grey><font size=3.322006981257024>of</font> <font color=grey><font size=3.0184789067857807>a</font> <font color=grey><font size=4.316790006627185>female</font> <font color=grey><font size=3.1261549846671146>bu</font> <font color=grey><font size=4.030906371305541>##cca</font> <font color=grey><font size=3.297472446477316>##neer</font> <font color=grey><font size=3.27740840721904>at</font> <font color=grey><font size=4.134181837289469>its</font> <font color=grey><font size=3.98612606531571>center</font> <font color=grey><font size=3.541215017289857>.</font> <font color=grey><font size=4.143219756132356>at</font> <font color=grey><font size=4.001338205218804>first</font> <font color='green'><font size=4.627958814708668>,</font> <font color=grey><font size=4.441795377863729>both</font> <font color=grey><font size=3.299944765272666>leads</font> <font color=grey><font size=3.641153456780514>–</font> <font color=grey><font size=4.050274497810868>jean</font> <font color=grey><font size=3.5063858324336254>peters</font> <font color='green'><font size=5.125095116925988>and</font> <font color=grey><font size=3.7678294974315056>louis</font> <font color=grey><font size=3.7346335061050393>jo</font> <font color=grey><font size=3.0879445795506526>##ur</font> <font color='green'><font size=6.74645627297815>##dan</font> <font color=grey><font size=3.5953333714742284>–</font> <font color='red'><font size=8.0>might</font> <font color=grey><font size=3.7749566679328463>seem</font> <font color='red'><font size=4.6643929864296165>mis</font> <font color=grey><font size=3.53809035414312>##cast</font> <font color=grey><font size=3.1077351039343477>but</font> <font color='red'><font size=4.917443603244006>they</font> <font color=grey><font size=3.778535047103596>grow</font> <font color=grey><font size=3.8743989739771876>nicely</font> <font color=grey><font size=3.462793567235236>into</font> <font color=grey><font size=3.344223374749762>their</font> <font color=grey><font size=3.980193457821613>roles</font> <font color=grey><font size=3.1351983361321056>eventually</font> <font color=grey><font size=3.569483037205297>,</font> <font color=grey><font size=4.429600522415674>thanks</font> <font color=grey><font size=3.5041477302443464>no</font> <font color='red'><font size=5.178522960286735>doubt</font> <font color=grey><font size=3.0466248308213952>to</font> <font color=grey><font size=3.112588888977216>the</font> <font color=grey><font size=3.6207786991613995>talented</font> <font color=grey><font size=3.882671813886838>players</font> <font color=grey><font size=3.681444084261258>(</font> <font color=grey><font size=3.3692815513800825>herbert</font> <font color='red'><font size=4.720103636014073>marshall</font> <font color=grey><font size=3.422644280007533>,</font> <font color=grey><font size=3.6378113506321115>thomas</font> <font color='green'><font size=5.1877487189447375>gomez</font> <font color='green'><font size=5.98564302234017>and</font> <font color=grey><font size=3.472636112658709>james</font> <font color=grey><font size=4.379277929018158>robertson</font> <font color='green'><font size=5.04087105864801>justice</font> <font color=grey><font size=3.6009202247988332>)</font> <font color=grey><font size=3.179817528045221>who</font> <font color=grey><font size=4.417124214172747>support</font> <font color=grey><font size=4.195413442799339>them</font> <font color=grey><font size=3.022747564666005>.</font> <font color=grey><font size=3.6116423178794776>velvet</font> <font color=grey><font size=3.3040880527370717>##y</font> <font color='red'><font size=4.677472776117776>-</font> <font color=grey><font size=3.1488620521278814>voiced</font> <font color=grey><font size=4.407169993068343>marshall</font> <font color='green'><font size=5.332619869425546>is</font> <font color=grey><font size=4.471600277364517>un</font> <font color=grey><font size=3.1453415863968615>##cha</font> <font color=grey><font size=3.4963147485684276>##rac</font> <font color=grey><font size=3.164959639416>##ter</font> <font color='red'><font size=4.830879343243255>##istic</font> <font color=grey><font size=3.9707286330982594>##ally</font> <font color=grey><font size=4.178329411614492>cast</font> <font color=grey><font size=3.458550397790709>as</font> <font color=grey><font size=3.161001863911159>the</font> <font color=grey><font size=3.1088229788374506>ship</font> <font color='red'><font size=5.8000256100558385>’</font> <font color=grey><font size=3.1993843289170925>s</font> <font color=grey><font size=3.5253992885167995>obligatory</font> <font color='red'><font size=4.627416718823931>philosophical</font> <font color='green'><font size=4.80759635261732>lush</font> <font color=grey><font size=3.561968155503866>of</font> <font color=grey><font size=4.364914383103354>a</font> <font color=grey><font size=3.3418927031352554>doctor</font> <font color=grey><font size=3.3147177221831945>,</font> <font color='green'><font size=5.571582929805121>and</font> <font color=grey><font size=4.271413002296557>gomez</font> <font color=grey><font size=3.008386971013002>is</font> <font color=grey><font size=3.5654989608652317>suit</font> <font color=grey><font size=3.848363424125851>##ably</font> <font color='green'><font size=5.405062688162089>larger</font> <font color=grey><font size=3.3675350094128618>-</font> <font color='red'><font size=4.614391930597977>than</font> <font color=grey><font size=4.37091365531615>-</font> <font color='green'><font size=7.1286735881750785>life</font> <font color='green'><font size=5.090642655254518>as</font> <font color=grey><font size=3.193964340728902>black</font> <font color=grey><font size=4.156576149156108>##be</font> <font color=grey><font size=3.635737807784131>##ard</font> "
      ],
      "text/plain": [
       "<IPython.core.display.Markdown object>"
      ]
     },
     "metadata": {},
     "output_type": "display_data"
    },
    {
     "data": {
      "text/markdown": [
       "---"
      ],
      "text/plain": [
       "<IPython.core.display.Markdown object>"
      ]
     },
     "metadata": {},
     "output_type": "display_data"
    },
    {
     "data": {
      "text/markdown": [
       "## Actual Rating: <font color=red>bad</font> "
      ],
      "text/plain": [
       "<IPython.core.display.Markdown object>"
      ]
     },
     "metadata": {},
     "output_type": "display_data"
    },
    {
     "data": {
      "text/markdown": [
       "## Model prediction: <font color=red>bad</font> "
      ],
      "text/plain": [
       "<IPython.core.display.Markdown object>"
      ]
     },
     "metadata": {},
     "output_type": "display_data"
    },
    {
     "data": {
      "text/markdown": [
       "##### Logits (pos, neg): [-2.4178264  3.087479 ]"
      ],
      "text/plain": [
       "<IPython.core.display.Markdown object>"
      ]
     },
     "metadata": {},
     "output_type": "display_data"
    },
    {
     "data": {
      "text/markdown": [
       "<font color=grey><font size=3.840686471168768>how</font> <font color=grey><font size=4.419118767646304>i</font> <font color='red'><font size=7.5947247155483355>deserved</font> <font color='red'><font size=4.5437364882293245>to</font> <font color=grey><font size=3.8465003122139865>watch</font> <font color=grey><font size=3.7457452236246858>this</font> <font color='red'><font size=6.209158595311994>crap</font> <font color='red'><font size=6.414886319597361>?</font> <font color=grey><font size=3.48388623062706>?</font> <font color='red'><font size=6.556549754978115>?</font> <font color='red'><font size=5.777786807319248>worst</font> <font color=grey><font size=4.01675015635765>ever</font> <font color=grey><font size=3.396989414038226>.</font> <font color=grey><font size=3.356159570937825>the</font> <font color='red'><font size=7.318267449577164>acting</font> <font color=grey><font size=4.38407345347877>was</font> <font color=grey><font size=4.491053445293081>awful</font> <font color=grey><font size=3.770725409791081>,</font> <font color=grey><font size=3.29987587099602>when</font> <font color=grey><font size=3.417373559931787>i</font> <font color=grey><font size=3.567406110475994>read</font> <font color=grey><font size=3.061041860725768>that</font> <font color='green'><font size=6.293727345818586>this</font> <font color=grey><font size=3.8887012943015105>was</font> <font color='red'><font size=6.807230171971252>a</font> <font color='green'><font size=8.0>comedy</font> <font color=grey><font size=3.034269136853261>i</font> <font color='red'><font size=4.673206480647323>expected</font> <font color=grey><font size=3.4193841482154435>at</font> <font color=grey><font size=4.28265146692289>least</font> <font color=grey><font size=3.9498517531054116>to</font> <font color='green'><font size=5.216775239280503>smile</font> <font color='green'><font size=5.129839092515603>,</font> <font color=grey><font size=3.365328886155166>once</font> <font color=grey><font size=3.994022096876942>-</font> <font color=grey><font size=4.274365151262176>or</font> <font color=grey><font size=4.100596056156618>twice</font> <font color=grey><font size=3.826301141827735>,</font> <font color=grey><font size=3.6890277126654025>but</font> <font color=grey><font size=3.058680593832163>.</font> <font color=grey><font size=3.4800649041242115>.</font> <font color=grey><font size=4.421516902457311>.</font> <font color=grey><font size=3.3875193672670774>.</font> <font color='red'><font size=5.9331423550132385>if</font> <font color=grey><font size=4.360183364569684>you</font> <font color=grey><font size=4.142767041770236>are</font> <font color=grey><font size=3.290221104322479>wil</font> <font color=grey><font size=4.066586618022534>##ing</font> <font color=grey><font size=3.6542704240136645>to</font> <font color=grey><font size=4.058011980014506>loose</font> <font color=grey><font size=3.724335392913109>hour</font> <font color=grey><font size=4.180755308508473>and</font> <font color='green'><font size=5.119610410348333>a</font> <font color=grey><font size=4.015932781302348>half</font> <font color='green'><font size=4.714238029009173>of</font> <font color=grey><font size=3.2331620062491346>your</font> <font color='green'><font size=5.947319160213242>lives</font> <font color=grey><font size=3.9068637222492875>,</font> <font color='green'><font size=5.81465275408989>this</font> <font color='green'><font size=4.561700401854466>is</font> <font color=grey><font size=4.220947318395048>the</font> <font color='green'><font size=4.630632595720645>right</font> <font color=grey><font size=3.812853486759784>movie</font> <font color=grey><font size=4.076354749599792>.</font> <font color=grey><font size=3.876531103140958>i</font> <font color=grey><font size=3.549829875303322>recommend</font> <font color=grey><font size=3.077281988699037>just</font> <font color=grey><font size=3.1147652311375578>look</font> <font color=grey><font size=3.006417485039955>in</font> <font color=grey><font size=3.7264432924625797>a</font> <font color='red'><font size=5.800155502776127>wall</font> <font color='red'><font size=4.946087256645649>or</font> <font color=grey><font size=4.164147354236464>something</font> <font color=grey><font size=3.751809524508099>,</font> <font color=grey><font size=3.8584011947349843>anything</font> <font color='red'><font size=4.892212797960797>else</font> <font color='green'><font size=5.971478475308684>but</font> <font color='green'><font size=5.842642251161785>watch</font> <font color=grey><font size=3.065508183821799>this</font> <font color=grey><font size=3.782510412585783>\"</font> <font color=grey><font size=3.6987205479810603>film</font> <font color=grey><font size=3.7817860777205703>\"</font> <font color=grey><font size=3.9325209811070563>.</font> <font color=grey><font size=4.247329110005708>yo</font> <font color=grey><font size=3.3073165631353514>##y</font> <font color=grey><font size=3.7499190705358227>can</font> <font color=grey><font size=3.88651090857146>even</font> <font color=grey><font size=3.556125836695489>watch</font> <font color=grey><font size=3.325203580906826>a</font> <font color=grey><font size=4.200909937676463>documentary</font> <font color=grey><font size=3.0767217496144093>(</font> <font color='red'><font size=5.572234939217348>if</font> <font color='green'><font size=4.962242740741178>you</font> <font color=grey><font size=3.0498846442225584>are</font> <font color=grey><font size=3.0762583069784326>a</font> <font color=grey><font size=4.446449166824273>guy</font> <font color=grey><font size=4.395810963230675>)</font> <font color='green'><font size=5.115481813752972>about</font> <font color=grey><font size=3.431278385008578>pregnant</font> <font color='red'><font size=4.627782551414913>women</font> <font color=grey><font size=3.7799942377746576>,</font> <font color=grey><font size=3.7443744556769594>i</font> <font color='red'><font size=5.037544741084817>guarantee</font> <font color='green'><font size=7.665100697915541>it</font> <font color='green'><font size=5.025371284777572>will</font> <font color='red'><font size=4.834307433231114>be</font> <font color=grey><font size=3.238115951124171>more</font> <font color='green'><font size=5.8165324231836975>entertaining</font> <font color=grey><font size=3.5300115892259183>:</font> <font color=grey><font size=4.286499326865274>)</font> <font color=grey><font size=3.0717694909072986>the</font> <font color='red'><font size=5.872201920998595>actor</font> <font color=grey><font size=4.392375962947828>in</font> <font color=grey><font size=4.004316774584932>this</font> <font color=grey><font size=3.245956512421489>one</font> <font color=grey><font size=3.449852534761741>(</font> <font color=grey><font size=3.0021068317805395>i</font> <font color='red'><font size=4.755364497494056>forgot</font> <font color='green'><font size=5.013070916505964>his</font> <font color='red'><font size=4.564627424467065>name</font> <font color=grey><font size=4.160924720413734>)</font> <font color='green'><font size=5.6882312873189775>is</font> <font color='red'><font size=6.701568178057117>not</font> <font color=grey><font size=3.115862872862602>that</font> <font color='red'><font size=6.668767371899655>bad</font> <font color=grey><font size=4.019078733649728>,</font> "
      ],
      "text/plain": [
       "<IPython.core.display.Markdown object>"
      ]
     },
     "metadata": {},
     "output_type": "display_data"
    },
    {
     "data": {
      "text/markdown": [
       "---"
      ],
      "text/plain": [
       "<IPython.core.display.Markdown object>"
      ]
     },
     "metadata": {},
     "output_type": "display_data"
    },
    {
     "data": {
      "text/markdown": [
       "## Actual Rating: <font color=green>good</font> "
      ],
      "text/plain": [
       "<IPython.core.display.Markdown object>"
      ]
     },
     "metadata": {},
     "output_type": "display_data"
    },
    {
     "data": {
      "text/markdown": [
       "## Model prediction: <font color=green>good</font> "
      ],
      "text/plain": [
       "<IPython.core.display.Markdown object>"
      ]
     },
     "metadata": {},
     "output_type": "display_data"
    },
    {
     "data": {
      "text/markdown": [
       "##### Logits (pos, neg): [ 1.1240841 -1.3762494]"
      ],
      "text/plain": [
       "<IPython.core.display.Markdown object>"
      ]
     },
     "metadata": {},
     "output_type": "display_data"
    },
    {
     "data": {
      "text/markdown": [
       "<font color=grey><font size=3.414850182489603>after</font> <font color=grey><font size=3.4438191882232574>a</font> <font color=grey><font size=4.451594368526227>decade</font> <font color='red'><font size=4.9066765227169755>of</font> <font color='green'><font size=5.202443484965007>turbulent</font> <font color=grey><font size=3.963741099780804>unrest</font> <font color='green'><font size=5.6355971695703015>,</font> <font color=grey><font size=3.6275483554792145>american</font> <font color='green'><font size=5.436651985380426>movies</font> <font color=grey><font size=4.045564673910548>began</font> <font color=grey><font size=4.318811691601272>to</font> <font color='green'><font size=5.052932216536>switch</font> <font color=grey><font size=3.4831543109771124>gears</font> <font color=grey><font size=4.328256620452519>and</font> <font color=grey><font size=4.270451712996547>turn</font> <font color=grey><font size=3.1969882771113136>their</font> <font color=grey><font size=4.040225987866299>cameras</font> <font color=grey><font size=3.256902601492216>away</font> <font color=grey><font size=3.3225348892645483>from</font> <font color=grey><font size=3.2279036145848607>war</font> <font color=grey><font size=3.906520298216473>-</font> <font color='green'><font size=4.560569814694275>torn</font> <font color='green'><font size=6.991643406353926>battlefield</font> <font color=grey><font size=3.442670763128909>##s</font> <font color='red'><font size=6.4609497417959325>,</font> <font color='green'><font size=5.298249463658502>political</font> <font color='green'><font size=4.790027880064705>corruption</font> <font color=grey><font size=3.274429436210379>,</font> <font color=grey><font size=3.7687794702980435>and</font> <font color=grey><font size=3.4318861673804943>general</font> <font color=grey><font size=3.0405678476527735>social</font> <font color=grey><font size=4.070803702781414>unease</font> <font color='green'><font size=4.628386397040713>to</font> <font color=grey><font size=4.003662312409435>the</font> <font color=grey><font size=3.267161654279715>more</font> <font color='green'><font size=6.863801343428671>intimate</font> <font color='green'><font size=5.519485194355806>world</font> <font color=grey><font size=4.138440699225946>of</font> <font color=grey><font size=4.073239644359119>family</font> <font color=grey><font size=4.201992355542929>dysfunction</font> <font color=grey><font size=3.5156825115968067>.</font> <font color=grey><font size=3.3463706309219416>the</font> <font color='green'><font size=5.872581545816491>toll</font> <font color=grey><font size=3.1618194392254666>the</font> <font color=grey><font size=4.298200799386485>selfish</font> <font color=grey><font size=3.4504025225438584>baby</font> <font color=grey><font size=3.660854684912585>boom</font> <font color='red'><font size=6.30375096386152>##ers</font> <font color=grey><font size=4.01311967658354>began</font> <font color=grey><font size=3.6057964958209663>to</font> <font color=grey><font size=3.44451948112719>take</font> <font color=grey><font size=3.1419983162253997>on</font> <font color='green'><font size=6.298165484486697>the</font> <font color=grey><font size=3.135728945021503>american</font> <font color=grey><font size=4.136809510807011>family</font> <font color=grey><font size=3.5807738096823933>as</font> <font color=grey><font size=3.0559925842554416>they</font> <font color=grey><font size=3.1014971804552833>grew</font> <font color=grey><font size=4.025910982701424>up</font> <font color=grey><font size=4.1181404420847265>and</font> <font color='red'><font size=4.682250405426954>had</font> <font color=grey><font size=3.377410171053924>kids</font> <font color=grey><font size=3.082197605878661>of</font> <font color='green'><font size=4.654454518292013>their</font> <font color=grey><font size=3.0186447361434223>own</font> <font color=grey><font size=4.444301671664509>was</font> <font color=grey><font size=4.353606539809274>making</font> <font color=grey><font size=4.0511921357856195>itself</font> <font color='green'><font size=5.90193032489311>felt</font> <font color=grey><font size=3.5419629898999956>.</font> <font color=grey><font size=3.2640475314672477><</font> <font color='red'><font size=4.536645387219373>br</font> <font color=grey><font size=3.0347963424229776>/</font> <font color=grey><font size=3.354419065930537>></font> <font color='red'><font size=8.0><</font> <font color=grey><font size=4.141902112086091>br</font> <font color=grey><font size=3.8470581271346598>/</font> <font color=grey><font size=3.3357886848793674>></font> <font color=grey><font size=3.126943495706859>\"</font> <font color='red'><font size=5.551956833742043>kramer</font> <font color='red'><font size=4.865271148990955>vs</font> <font color=grey><font size=4.266387558974607>.</font> <font color=grey><font size=4.02480182984465>kramer</font> <font color=grey><font size=3.54769496517231>\"</font> <font color='green'><font size=5.078023155237213>is</font> <font color=grey><font size=3.344961409473202>one</font> <font color=grey><font size=3.110308766976306>of</font> <font color=grey><font size=4.199783225751375>the</font> <font color=grey><font size=3.979766085837654>first</font> <font color=grey><font size=4.093466281554756>of</font> <font color=grey><font size=3.9894036027659903>these</font> <font color=grey><font size=4.073528420189942>dysfunction</font> <font color=grey><font size=3.874299490983619>##al</font> <font color='green'><font size=5.445969337030496>family</font> <font color='green'><font size=4.649890365092009>dramas</font> <font color='green'><font size=4.562548200161677>that</font> <font color=grey><font size=4.214849522815211>would</font> <font color=grey><font size=3.0456859838230392>continue</font> <font color='red'><font size=5.799109548689752>to</font> <font color=grey><font size=3.651759255947372>be</font> <font color=grey><font size=4.408394978051195>so</font> <font color=grey><font size=4.221321984364058>popular</font> <font color=grey><font size=4.488670974479798>throughout</font> <font color=grey><font size=4.305598009645446>the</font> <font color='green'><font size=5.299614373198224>1980s</font> <font color='green'><font size=4.853716998070265>,</font> <font color='green'><font size=7.107158698640841>and</font> <font color='green'><font size=7.02185224211918>it</font> <font color=grey><font size=3.580597802035782>'</font> <font color='red'><font size=4.511183868811326>s</font> <font color=grey><font size=3.7852924099210723>one</font> <font color=grey><font size=3.4972918205080257>of</font> <font color='green'><font size=4.585967633072409>the</font> <font color=grey><font size=4.204085138894975>best</font> <font color='red'><font size=4.930535407891911>.</font> <font color='green'><font size=5.42442887786084>it</font> <font color=grey><font size=3.870917189450946>gets</font> <font color=grey><font size=3.5452333912410774>a</font> <font color=grey><font size=3.8651999877673267>rather</font> <font color='red'><font size=6.396390505472988>bum</font> <font color=grey><font size=3.231855310419953>rap</font> <font color='green'><font size=5.252343282479689>now</font> <font color='green'><font size=6.445327433458765>,</font> <font color=grey><font size=3.8561537686694938>because</font> <font color='green'><font size=5.931811094875831>it</font> <font color=grey><font size=4.483978287515321>'</font> "
      ],
      "text/plain": [
       "<IPython.core.display.Markdown object>"
      ]
     },
     "metadata": {},
     "output_type": "display_data"
    },
    {
     "data": {
      "text/markdown": [
       "---"
      ],
      "text/plain": [
       "<IPython.core.display.Markdown object>"
      ]
     },
     "metadata": {},
     "output_type": "display_data"
    },
    {
     "data": {
      "text/markdown": [
       "## Actual Rating: <font color=red>bad</font> "
      ],
      "text/plain": [
       "<IPython.core.display.Markdown object>"
      ]
     },
     "metadata": {},
     "output_type": "display_data"
    },
    {
     "data": {
      "text/markdown": [
       "## Model prediction: <font color=green>good</font> "
      ],
      "text/plain": [
       "<IPython.core.display.Markdown object>"
      ]
     },
     "metadata": {},
     "output_type": "display_data"
    },
    {
     "data": {
      "text/markdown": [
       "##### Logits (pos, neg): [ 0.39175454 -0.54380995]"
      ],
      "text/plain": [
       "<IPython.core.display.Markdown object>"
      ]
     },
     "metadata": {},
     "output_type": "display_data"
    },
    {
     "data": {
      "text/markdown": [
       "<font color=grey><font size=4.113714475635689>the</font> <font color=grey><font size=3.1142915410071446>only</font> <font color='red'><font size=5.675021381030349>thing</font> <font color='green'><font size=6.439042215439698>it</font> <font color='green'><font size=5.076734041035268>has</font> <font color='red'><font size=5.653434088155375>to</font> <font color=grey><font size=3.4315935825445423>offer</font> <font color=grey><font size=3.4032202308590254>is</font> <font color=grey><font size=3.60708897698356>the</font> <font color=grey><font size=3.650887790640745>interesting</font> <font color='green'><font size=5.590918757637064>opposite</font> <font color='red'><font size=4.535015446048461>##s</font> <font color=grey><font size=3.3068202571446648>of</font> <font color=grey><font size=3.603409327253623>tr</font> <font color=grey><font size=3.5719642327621064>##u</font> <font color=grey><font size=3.0211220815912956>and</font> <font color=grey><font size=3.9772254360200394>jack</font> <font color=grey><font size=3.8447354891673786>,</font> <font color=grey><font size=3.3362465426988157>their</font> <font color=grey><font size=3.3431935249587634>choices</font> <font color='green'><font size=5.464035565587897>and</font> <font color=grey><font size=3.7876200725523557>viewpoint</font> <font color=grey><font size=3.4806267867771505>##s</font> <font color='green'><font size=5.5405656865102255>,</font> <font color='red'><font size=4.8909151456932065>and</font> <font color=grey><font size=3.4366243674977337>the</font> <font color=grey><font size=3.124394158502825>philosophical</font> <font color='green'><font size=4.67241235165654>questions</font> <font color=grey><font size=3.065860818055977>that</font> <font color=grey><font size=3.0300767458723925>it</font> <font color='red'><font size=5.287683202043464>raises</font> <font color=grey><font size=4.199876977018725>.</font> <font color=grey><font size=3.775940755213793>tr</font> <font color=grey><font size=3.8090105014737254>##u</font> <font color='green'><font size=5.369289925961802>feels</font> <font color=grey><font size=3.5816962561695846>that</font> <font color=grey><font size=3.303153101190704>she</font> <font color=grey><font size=4.207495893980396>is</font> <font color=grey><font size=3.173135024192505>helping</font> <font color=grey><font size=4.087157181270246>people</font> <font color=grey><font size=3.785184793872524>who</font> <font color=grey><font size=3.9511687241058473>aren</font> <font color='red'><font size=4.84679108719163>'</font> <font color='red'><font size=4.506522840932364>t</font> <font color='red'><font size=7.000629646545989>supposed</font> <font color=grey><font size=3.129542890462373>to</font> <font color=grey><font size=3.8344652709429266>die</font> <font color='green'><font size=6.434359268054181>,</font> <font color='green'><font size=5.143066710376296>and</font> <font color=grey><font size=4.255404070964373>jack</font> <font color='green'><font size=7.563616019078004>feels</font> <font color=grey><font size=3.0072021806250704>that</font> <font color='green'><font size=4.97248810704587>they</font> <font color=grey><font size=3.7797883140631745>are</font> <font color='red'><font size=6.939906913063895>supposed</font> <font color=grey><font size=3.234919570483484>to</font> <font color=grey><font size=3.5591992898843188>die</font> <font color=grey><font size=3.993946690080006>,</font> <font color='green'><font size=4.629722443080652>and</font> <font color=grey><font size=3.272573380297665>she</font> <font color=grey><font size=4.0620270240491845>is</font> <font color='red'><font size=6.310421299560627>messing</font> <font color=grey><font size=3.496448398595963>with</font> <font color='red'><font size=4.993355903018064>fate</font> <font color=grey><font size=4.24036317329135>'</font> <font color=grey><font size=3.167757235343128>s</font> <font color=grey><font size=4.191895889665728>plan</font> <font color=grey><font size=4.254505892731688>,</font> <font color='red'><font size=4.941087041253489>or</font> <font color=grey><font size=3.132601326719177>the</font> <font color='red'><font size=5.187090348741421>universe</font> <font color='red'><font size=4.722378707657477>'</font> <font color=grey><font size=3.3558500860244145>s</font> <font color=grey><font size=3.2465066010659775>plan</font> <font color='green'><font size=4.751549275213869>,</font> <font color=grey><font size=3.6000272327264207>or</font> <font color=grey><font size=4.30681639740382>such</font> <font color='red'><font size=8.0>-</font> <font color='green'><font size=4.52791674009603>what</font> <font color='red'><font size=6.9795823378316735>##not</font> <font color=grey><font size=4.315053523571245>.</font> <font color='red'><font size=5.351209457520735><</font> <font color=grey><font size=3.5287791639885553>br</font> <font color=grey><font size=3.748997577134666>/</font> <font color=grey><font size=3.1996431206437252>></font> <font color=grey><font size=3.2476152011455097><</font> <font color=grey><font size=4.072390685777137>br</font> <font color=grey><font size=4.287778901204457>/</font> <font color='red'><font size=5.161383805963947>></font> <font color=grey><font size=3.067499447942288>but</font> <font color=grey><font size=3.614343391984862>she</font> <font color='green'><font size=4.687115985156385>is</font> <font color='red'><font size=4.8978404479758915>obviously</font> <font color=grey><font size=3.124664925513563>able</font> <font color=grey><font size=3.985470840161276>to</font> <font color=grey><font size=4.0127501979628635>change</font> <font color='green'><font size=4.530683969140523>things</font> <font color='green'><font size=6.722080237901304>,</font> <font color=grey><font size=4.113649300147561>so</font> <font color=grey><font size=3.131643361362866>there</font> <font color=grey><font size=3.387002161932032>is</font> <font color='red'><font size=5.563901475425565>obviously</font> <font color='red'><font size=6.850468647546519>no</font> <font color=grey><font size=3.4362341640553575>such</font> <font color='red'><font size=7.840030939523567>thing</font> <font color=grey><font size=3.07539188144912>as</font> <font color=grey><font size=3.689816932573019>fate</font> <font color='green'><font size=6.375784469960108>in</font> <font color=grey><font size=3.855444512300534>the</font> <font color='green'><font size=5.548928898147753>series</font> <font color='red'><font size=4.860161930759528>'</font> <font color=grey><font size=3.029095993495378>meta</font> <font color=grey><font size=3.096435947542827>##physics</font> <font color=grey><font size=4.07578606482563>.</font> <font color=grey><font size=4.018127663736298>jack</font> <font color=grey><font size=3.7520003850233827>has</font> <font color='red'><font size=7.056319371950922>no</font> <font color='red'><font size=6.113493435660754>basis</font> <font color=grey><font size=3.4979507604717885>for</font> <font color='red'><font size=4.5721447612730675>believing</font> <font color='red'><font size=4.806366162384552>that</font> <font color=grey><font size=4.177216294823457>there</font> <font color='green'><font size=4.847629006112774>is</font> <font color=grey><font size=3.2457948850970966>.</font> <font color='green'><font size=6.478836496006127>and</font> <font color=grey><font size=4.246057949344758>very</font> "
      ],
      "text/plain": [
       "<IPython.core.display.Markdown object>"
      ]
     },
     "metadata": {},
     "output_type": "display_data"
    },
    {
     "data": {
      "text/markdown": [
       "---"
      ],
      "text/plain": [
       "<IPython.core.display.Markdown object>"
      ]
     },
     "metadata": {},
     "output_type": "display_data"
    },
    {
     "data": {
      "text/markdown": [
       "## Actual Rating: <font color=green>good</font> "
      ],
      "text/plain": [
       "<IPython.core.display.Markdown object>"
      ]
     },
     "metadata": {},
     "output_type": "display_data"
    },
    {
     "data": {
      "text/markdown": [
       "## Model prediction: <font color=green>good</font> "
      ],
      "text/plain": [
       "<IPython.core.display.Markdown object>"
      ]
     },
     "metadata": {},
     "output_type": "display_data"
    },
    {
     "data": {
      "text/markdown": [
       "##### Logits (pos, neg): [ 0.83961284 -1.0510329 ]"
      ],
      "text/plain": [
       "<IPython.core.display.Markdown object>"
      ]
     },
     "metadata": {},
     "output_type": "display_data"
    },
    {
     "data": {
      "text/markdown": [
       "<font color=grey><font size=3.7206635923973934>mis</font> <font color='red'><font size=4.8750068193321585>##hima</font> <font color=grey><font size=4.28007545987126>:</font> <font color=grey><font size=4.490356222964819>a</font> <font color='green'><font size=8.0>life</font> <font color=grey><font size=3.7068238190337737>in</font> <font color=grey><font size=3.4342870451113443>four</font> <font color='green'><font size=4.600069477152738>chapters</font> <font color=grey><font size=4.424208292686847>is</font> <font color=grey><font size=3.5510223126261495>an</font> <font color=grey><font size=3.7814700255479132>art</font> <font color=grey><font size=3.5116578402458005>-</font> <font color=grey><font size=3.8792671297213706>house</font> <font color=grey><font size=4.286299958427391>biography</font> <font color=grey><font size=3.3111364602429507>about</font> <font color=grey><font size=3.037529869453257>yuki</font> <font color=grey><font size=3.0839227900757695>##o</font> <font color=grey><font size=3.9580184925261097>mis</font> <font color=grey><font size=3.7328854077464086>##hima</font> <font color=grey><font size=3.8120955237675043>,</font> <font color='green'><font size=4.703948486421869>celebrated</font> <font color=grey><font size=4.324368941452137>japanese</font> <font color=grey><font size=3.0852041022644037>writer</font> <font color=grey><font size=4.4349515584044195>,</font> <font color=grey><font size=3.618318708275079>who</font> <font color=grey><font size=4.237952935141831>bears</font> <font color=grey><font size=3.266640297493406>resemblance</font> <font color=grey><font size=3.1167862644815663>to</font> <font color=grey><font size=3.6675078578306937>paul</font> <font color=grey><font size=3.249705119010495>sc</font> <font color=grey><font size=4.154464464043613>##hra</font> <font color=grey><font size=3.377966772914312>##der</font> <font color=grey><font size=3.4097365509866195>'</font> <font color=grey><font size=3.050401293503174>s</font> <font color=grey><font size=3.45360649895585>earlier</font> <font color=grey><font size=3.6031892440299074>character</font> <font color=grey><font size=3.211754274790241>travis</font> <font color=grey><font size=3.9640226899026385>bi</font> <font color=grey><font size=3.927124794464512>##ckle</font> <font color=grey><font size=3.3717808525860637>(</font> <font color=grey><font size=4.158484113259127>taxi</font> <font color=grey><font size=3.505635287840499>driver</font> <font color=grey><font size=3.8687681757660894>)</font> <font color=grey><font size=3.1773928493446677>:</font> <font color='green'><font size=4.52287659716926>both</font> <font color=grey><font size=3.55762612122071>of</font> <font color=grey><font size=4.464628393601856>them</font> <font color=grey><font size=4.464327852975003>are</font> <font color=grey><font size=4.2676911443286905>lonely</font> <font color=grey><font size=3.4871042222952666>people</font> <font color=grey><font size=4.469033192164174>searching</font> <font color=grey><font size=4.2933060259506375>for</font> <font color=grey><font size=4.125557396693569>their</font> <font color=grey><font size=3.6458317938793074>place</font> <font color=grey><font size=4.186083502207765>in</font> <font color=grey><font size=3.044755300402229>their</font> <font color=grey><font size=3.785684658661963>society</font> <font color=grey><font size=3.0122217528214557>and</font> <font color=grey><font size=3.9996237280352984>when</font> <font color=grey><font size=3.4891354645061194>they</font> <font color=grey><font size=4.228780361708484>realize</font> <font color=grey><font size=3.7803605161223386>that</font> <font color=grey><font size=4.383286542097803>world</font> <font color=grey><font size=3.5232752463436783>doesn</font> <font color=grey><font size=3.700576677844818>'</font> <font color=grey><font size=3.2125743658380435>t</font> <font color=grey><font size=3.674933089692887>need</font> <font color=grey><font size=3.4256115683248733>them</font> <font color=grey><font size=3.240419240535796>,</font> <font color=grey><font size=3.0296343151811858>they</font> <font color=grey><font size=3.6701004290805463>try</font> <font color=grey><font size=3.1463726159206433>to</font> <font color=grey><font size=4.221777805937128>destroy</font> <font color=grey><font size=3.699105682563371>their</font> <font color=grey><font size=3.972621867754153>surrounding</font> <font color=grey><font size=3.3023595101605925>universe</font> <font color=grey><font size=3.2253411356620134>.</font> <font color=grey><font size=3.1626363954863477><</font> <font color='red'><font size=4.856044175813392>br</font> <font color=grey><font size=3.5071744560263656>/</font> <font color=grey><font size=3.8541673322661527>></font> <font color=grey><font size=4.328000174574903><</font> <font color=grey><font size=3.298662809407392>br</font> <font color=grey><font size=3.423045641471627>/</font> <font color=grey><font size=3.1127615824355823>></font> <font color=grey><font size=3.8610929153362026>if</font> <font color=grey><font size=4.113252013899873>you</font> <font color=grey><font size=4.266436918057794>want</font> <font color=grey><font size=3.100073003324249>to</font> <font color=grey><font size=3.9257859594736644>learn</font> <font color=grey><font size=3.4769198763915603>about</font> <font color='green'><font size=6.912030517156591>life</font> <font color=grey><font size=3.623137934394725>of</font> <font color='red'><font size=4.917447239276269>mis</font> <font color=grey><font size=3.9481775428726102>##hima</font> <font color=grey><font size=3.234215547067896>,</font> <font color=grey><font size=3.0762857939598978>then</font> <font color='green'><font size=5.354241307728056>you</font> <font color=grey><font size=3.5189068107471497>won</font> <font color=grey><font size=3.5333119557478754>'</font> <font color=grey><font size=3.9631897105212284>t</font> <font color=grey><font size=3.5807351024461327>find</font> <font color=grey><font size=3.143204285802441>a</font> <font color=grey><font size=3.729492483740262>lot</font> <font color=grey><font size=3.7420386461271975>of</font> <font color='green'><font size=6.946099247269865>information</font> <font color=grey><font size=3.265432295677618>here</font> <font color='green'><font size=4.731433416759492>,</font> <font color=grey><font size=3.0288419110813316>because</font> <font color=grey><font size=3.926469852737053>it</font> <font color='green'><font size=4.750882233743382>shows</font> <font color=grey><font size=3.2497819181659233>that</font> <font color=grey><font size=4.0506518105514715>he</font> <font color=grey><font size=3.6830923797858723>didn</font> <font color=grey><font size=4.223986942881797>'</font> <font color=grey><font size=3.0810299410700264>t</font> <font color=grey><font size=4.177015709650576>live</font> <font color=grey><font size=3.314215694969819>a</font> <font color=grey><font size=3.264437193820153>very</font> <font color=grey><font size=4.412944021825521>interesting</font> <font color='green'><font size=5.076629725650182>life</font> <font color=grey><font size=3.3859363059022716>(</font> <font color='red'><font size=6.29327143111109>except</font> <font color=grey><font size=3.6492440325208477>for</font> <font color=grey><font size=3.9338220319930723>his</font> <font color=grey><font size=3.3321752228949757>final</font> "
      ],
      "text/plain": [
       "<IPython.core.display.Markdown object>"
      ]
     },
     "metadata": {},
     "output_type": "display_data"
    },
    {
     "data": {
      "text/markdown": [
       "---"
      ],
      "text/plain": [
       "<IPython.core.display.Markdown object>"
      ]
     },
     "metadata": {},
     "output_type": "display_data"
    },
    {
     "data": {
      "text/markdown": [
       "## Actual Rating: <font color=green>good</font> "
      ],
      "text/plain": [
       "<IPython.core.display.Markdown object>"
      ]
     },
     "metadata": {},
     "output_type": "display_data"
    },
    {
     "data": {
      "text/markdown": [
       "## Model prediction: <font color=green>good</font> "
      ],
      "text/plain": [
       "<IPython.core.display.Markdown object>"
      ]
     },
     "metadata": {},
     "output_type": "display_data"
    },
    {
     "data": {
      "text/markdown": [
       "##### Logits (pos, neg): [ 0.27017367 -0.47158736]"
      ],
      "text/plain": [
       "<IPython.core.display.Markdown object>"
      ]
     },
     "metadata": {},
     "output_type": "display_data"
    },
    {
     "data": {
      "text/markdown": [
       "<font color=grey><font size=3.715862287339543>i</font> <font color='green'><font size=4.841706958293341>enjoyed</font> <font color='green'><font size=5.101534381715659>this</font> <font color=grey><font size=3.8266470688477985>movie</font> <font color='green'><font size=5.375378952581443>okay</font> <font color='red'><font size=4.749033932466493>,</font> <font color='green'><font size=5.467920784224562>it</font> <font color=grey><font size=3.970116300706692>just</font> <font color=grey><font size=4.116092488374909>could</font> <font color=grey><font size=3.092549244534098>have</font> <font color='red'><font size=4.684399117770865>been</font> <font color=grey><font size=3.9017040236277087>so</font> <font color=grey><font size=3.084422972069402>much</font> <font color=grey><font size=4.097654810255726>better</font> <font color=grey><font size=3.593373530037706>.</font> <font color=grey><font size=3.5916676035348694>i</font> <font color=grey><font size=3.582540411584967>was</font> <font color=grey><font size=3.732077426890992>expecting</font> <font color=grey><font size=3.5013721750731275>more</font> <font color=grey><font size=3.8042905589196714>action</font> <font color='red'><font size=4.652242975768294>than</font> <font color='green'><font size=4.50411711964932>what</font> <font color='red'><font size=5.3611369707559495>i</font> <font color=grey><font size=4.077459262947159>got</font> <font color='red'><font size=5.662955064789227>.</font> <font color='red'><font size=4.602955293050322>.</font> <font color='red'><font size=4.7366299280060025>.</font> <font color=grey><font size=3.304244399686745>which</font> <font color='red'><font size=5.305123697932693>was</font> <font color=grey><font size=3.0150072010990883>more</font> <font color=grey><font size=3.882231373055389>of</font> <font color=grey><font size=3.3236608241803243>a</font> <font color=grey><font size=3.5635713830350983>comedy</font> <font color='red'><font size=4.548639921925754>than</font> <font color=grey><font size=3.180561007580492>anything</font> <font color='red'><font size=7.3504287839927205>else</font> <font color=grey><font size=3.6580343248182245>.</font> <font color=grey><font size=3.4541634586098855>granted</font> <font color=grey><font size=4.206837113553405>,</font> <font color='green'><font size=5.306024853717087>it</font> <font color=grey><font size=3.863139297508575>was</font> <font color=grey><font size=3.971016652262347>serious</font> <font color=grey><font size=3.4723410211819585>in</font> <font color=grey><font size=3.284592720804007>parts</font> <font color='green'><font size=4.920832576192771>and</font> <font color='green'><font size=5.2049050484193256>it</font> <font color=grey><font size=3.0953881348280947>had</font> <font color=grey><font size=3.904093247343052>a</font> <font color=grey><font size=3.6303216864601113>good</font> <font color='green'><font size=4.793802269273349>fight</font> <font color='green'><font size=6.876430632012455>scene</font> <font color=grey><font size=3.135360836000389>here</font> <font color='green'><font size=7.0650954209705255>and</font> <font color=grey><font size=3.1688398337487165>there</font> <font color=grey><font size=3.1585993597576976>for</font> <font color=grey><font size=3.4006284865763456>the</font> <font color=grey><font size=3.3799649480750764>most</font> <font color=grey><font size=3.3702375567212037>part</font> <font color='green'><font size=7.462814365321142>it</font> <font color='red'><font size=6.863664794552706>was</font> <font color=grey><font size=3.9948986792074503>more</font> <font color=grey><font size=4.058833220470903>romance</font> <font color='green'><font size=4.984937928646924>and</font> <font color='green'><font size=5.18384334675971>comedy</font> <font color='green'><font size=4.85821693509351>with</font> <font color=grey><font size=3.2327902760129814>some</font> <font color=grey><font size=3.7402523770483915>action</font> <font color='green'><font size=5.177642323590538>and</font> <font color='red'><font size=6.146315837940888>no</font> <font color=grey><font size=3.8817121909551764>horror</font> <font color='green'><font size=4.903219757027252>at</font> <font color='green'><font size=4.573190927315178>all</font> <font color=grey><font size=3.3975744760218993>.</font> <font color=grey><font size=4.4873385304505895>which</font> <font color=grey><font size=4.2613491360876985>is</font> <font color=grey><font size=3.4933248000701345>hard</font> <font color=grey><font size=3.299233005653714>to</font> <font color='red'><font size=4.7404674278129875>do</font> <font color=grey><font size=4.267775343303569>with</font> <font color='green'><font size=5.257763087137331>a</font> <font color='red'><font size=5.36848027846511>vampire</font> <font color=grey><font size=4.080021675572953>movie</font> <font color=grey><font size=3.988650661106793>.</font> <font color=grey><font size=3.6271257513874136>a</font> <font color='red'><font size=5.306013594514752>vampire</font> <font color=grey><font size=3.7466110989831862>hunter</font> <font color=grey><font size=3.518479344161115>loses</font> <font color='green'><font size=4.651992266200775>his</font> <font color=grey><font size=3.927451721379583>partner</font> <font color=grey><font size=3.568523867313056>and</font> <font color=grey><font size=3.8989592958436115>must</font> <font color=grey><font size=3.4856085050587806>train</font> <font color=grey><font size=3.970600376474158>another</font> <font color=grey><font size=3.7788466847985047>,</font> <font color='green'><font size=4.619513943172386>his</font> <font color=grey><font size=3.717359166820146>sister</font> <font color=grey><font size=3.798747394858352>is</font> <font color=grey><font size=3.5896268206619704>going</font> <font color=grey><font size=3.2731168749819575>through</font> <font color=grey><font size=3.2986690227678137>a</font> <font color=grey><font size=4.2304322056713035>difficult</font> <font color=grey><font size=3.862036979640229>break</font> <font color=grey><font size=3.5014600982540935>up</font> <font color='green'><font size=5.557571308654429>,</font> <font color='green'><font size=5.231920840059017>but</font> <font color='green'><font size=6.158962090083913>she</font> <font color=grey><font size=3.05498281322975>is</font> <font color=grey><font size=3.4820316627791414>being</font> <font color=grey><font size=3.204548791697372>pursued</font> <font color=grey><font size=4.253405768840436>by</font> <font color=grey><font size=3.8980348523922768>a</font> <font color='red'><font size=6.082000337020794>vampire</font> <font color=grey><font size=4.168415610082606>of</font> <font color=grey><font size=3.206401648386734>all</font> <font color=grey><font size=3.6165826972606654>things</font> <font color='red'><font size=5.1185706737752845>.</font> <font color=grey><font size=3.9831606460751288>granted</font> <font color=grey><font size=4.009843312184868>,</font> <font color='green'><font size=4.522963276034576>this</font> <font color='red'><font size=8.0>vampire</font> <font color=grey><font size=3.6917271905904063>is</font> <font color='green'><font size=4.527753332332267>rather</font> <font color='green'><font size=7.6526738885195185>nice</font> <font color='green'><font size=5.446233882137159>and</font> <font color=grey><font size=3.430331293846551>not</font> <font color=grey><font size=3.9469946545503287>into</font> "
      ],
      "text/plain": [
       "<IPython.core.display.Markdown object>"
      ]
     },
     "metadata": {},
     "output_type": "display_data"
    },
    {
     "data": {
      "text/markdown": [
       "---"
      ],
      "text/plain": [
       "<IPython.core.display.Markdown object>"
      ]
     },
     "metadata": {},
     "output_type": "display_data"
    },
    {
     "data": {
      "text/markdown": [
       "## Actual Rating: <font color=red>bad</font> "
      ],
      "text/plain": [
       "<IPython.core.display.Markdown object>"
      ]
     },
     "metadata": {},
     "output_type": "display_data"
    },
    {
     "data": {
      "text/markdown": [
       "## Model prediction: <font color=red>bad</font> "
      ],
      "text/plain": [
       "<IPython.core.display.Markdown object>"
      ]
     },
     "metadata": {},
     "output_type": "display_data"
    },
    {
     "data": {
      "text/markdown": [
       "##### Logits (pos, neg): [-1.7161056  2.0954053]"
      ],
      "text/plain": [
       "<IPython.core.display.Markdown object>"
      ]
     },
     "metadata": {},
     "output_type": "display_data"
    },
    {
     "data": {
      "text/markdown": [
       "<font color=grey><font size=3.495596812961942>what</font> <font color='red'><font size=6.065062783981265>movie</font> <font color='green'><font size=5.740291166384631>is</font> <font color=grey><font size=3.79787244452268>this</font> <font color='red'><font size=6.617202498772481>?</font> <font color='red'><font size=6.126144924807441>?</font> <font color=grey><font size=3.939500898532611>?</font> <font color='red'><font size=4.857840998713822>a</font> <font color='red'><font size=4.699345681105435>horrible</font> <font color='green'><font size=4.562964697201154>movie</font> <font color=grey><font size=4.172649337077915>with</font> <font color=grey><font size=3.5774893703854733>the</font> <font color=grey><font size=3.925305762196369>old</font> <font color='red'><font size=4.789587321847511>boring</font> <font color=grey><font size=3.836185516882082>concept</font> <font color=grey><font size=3.9697703027839113>of</font> <font color=grey><font size=3.8980315095667173>in</font> <font color=grey><font size=3.5174286331705464>##fide</font> <font color=grey><font size=3.5922344053838002>##lity</font> <font color=grey><font size=3.781516113743197>which</font> <font color='green'><font size=4.844610663507133>has</font> <font color='red'><font size=5.094734986182878>already</font> <font color='red'><font size=7.670458645612085>been</font> <font color=grey><font size=4.129204381483358>achieved</font> <font color='red'><font size=5.2993164724867325>by</font> <font color=grey><font size=3.3887876885942547>the</font> <font color=grey><font size=4.008246664531791>\"</font> <font color=grey><font size=4.250995572794325>b</font> <font color='red'><font size=4.665143040088037>##hat</font> <font color=grey><font size=3.2980084369338463>##t</font> <font color=grey><font size=3.1350379986928094>camp</font> <font color='red'><font size=5.126738740686486>\"</font> <font color=grey><font size=3.6959555159406494>.</font> <font color=grey><font size=3.911865465097104>the</font> <font color=grey><font size=3.4207702312494472>movie</font> <font color=grey><font size=3.2327552146512883>starr</font> <font color=grey><font size=3.4947117574385285>##s</font> <font color=grey><font size=3.456588835298411>em</font> <font color=grey><font size=3.62954438906632>##ra</font> <font color=grey><font size=3.554037483183736>##an</font> <font color='red'><font size=6.5829997290033475>hash</font> <font color=grey><font size=3.2751710737184028>##mi</font> <font color=grey><font size=3.007555674889817>,</font> <font color=grey><font size=3.115378373153842>ud</font> <font color='green'><font size=4.5925091648060326>##ita</font> <font color=grey><font size=3.576822919214878>go</font> <font color='red'><font size=6.255933626729355>##sw</font> <font color=grey><font size=3.765689145723995>##ami</font> <font color='green'><font size=4.908271765970134>and</font> <font color=grey><font size=3.179718089802945>dino</font> <font color=grey><font size=3.304977647668713>more</font> <font color=grey><font size=4.159218084788065>##a</font> <font color=grey><font size=3.7244325190009238>.</font> <font color=grey><font size=3.0106112764571296>the</font> <font color='red'><font size=4.563317219452801>movie</font> <font color=grey><font size=3.4736246694556696>has</font> <font color=grey><font size=4.120100507209736>\"</font> <font color='red'><font size=8.0>no</font> <font color=grey><font size=3.3882813080187506>base</font> <font color=grey><font size=3.0443960728287283>\"</font> <font color=grey><font size=3.1482099902517553>.</font> <font color=grey><font size=3.993485020559592>it</font> <font color=grey><font size=3.2969873149670184>just</font> <font color=grey><font size=3.1617771188750354>goes</font> <font color=grey><font size=3.297660139348518>like</font> <font color=grey><font size=4.278423297492627>this</font> <font color=grey><font size=3.3871391996555222>.</font> <font color=grey><font size=3.1632091037236343>.</font> <font color=grey><font size=3.0796941356230354>.</font> <font color=grey><font size=3.3408737441684475>dino</font> <font color=grey><font size=3.510564749402257>an</font> <font color='red'><font size=5.338649483906394>ud</font> <font color=grey><font size=3.500814251725299>##ita</font> <font color=grey><font size=3.5406921726772955>are</font> <font color=grey><font size=4.040185109717594>married</font> <font color=grey><font size=4.421875906090339>and</font> <font color=grey><font size=3.2890307152200107>living</font> <font color='red'><font size=5.504421334595168>in</font> <font color='green'><font size=5.384307166826302>a</font> <font color=grey><font size=3.7225958594008386>rich</font> <font color='red'><font size=4.647160220822617>mansion</font> <font color=grey><font size=4.150561365291643>.</font> <font color=grey><font size=3.1873455558557473>however</font> <font color=grey><font size=3.1460338490396653>dino</font> <font color=grey><font size=3.563407519482455>doesn</font> <font color=grey><font size=4.212721898465969>'</font> <font color=grey><font size=4.012155695971626>t</font> <font color=grey><font size=3.6865988698224164>like</font> <font color='red'><font size=5.00722429850132>ud</font> <font color=grey><font size=3.248587139612305>##ita</font> <font color=grey><font size=3.6794917579319053>to</font> <font color=grey><font size=3.999777536313912>the</font> <font color='green'><font size=5.800831777411528>heart</font> <font color=grey><font size=3.4412883170314754>as</font> <font color=grey><font size=4.242642546453883>he</font> <font color=grey><font size=3.9145353898350197>wants</font> <font color=grey><font size=4.228909113840945>only</font> <font color=grey><font size=4.195613947242895>her</font> <font color=grey><font size=3.8791283085204706>wealth</font> <font color=grey><font size=3.5529535223230275>.</font> <font color=grey><font size=3.0007379727596346>he</font> <font color='green'><font size=4.745294729202655>loves</font> <font color='red'><font size=5.4099745977976035>someone</font> <font color='red'><font size=4.934899491760249>else</font> <font color=grey><font size=3.525116190072376>(</font> <font color='green'><font size=7.004751660047626>tara</font> <font color=grey><font size=4.071193613306214>sharma</font> <font color=grey><font size=3.467160447168167>)</font> <font color=grey><font size=3.1613824495416156>.</font> <font color=grey><font size=3.476454342909338>so</font> <font color=grey><font size=3.495416367404716>he</font> <font color='red'><font size=5.495469612684909>bribes</font> <font color=grey><font size=4.031270629246812>em</font> <font color='green'><font size=4.647227236100916>##ra</font> <font color=grey><font size=4.454233277235344>##an</font> <font color=grey><font size=3.534584962858214>to</font> <font color=grey><font size=3.84806936643949>have</font> <font color='red'><font size=5.98420386158385>an</font> <font color='red'><font size=5.360751006812821>affair</font> <font color='green'><font size=6.321821812336209>with</font> <font color=grey><font size=4.094375137957485>ud</font> <font color='green'><font size=4.585579682028534>##ita</font> <font color='green'><font size=4.922725307039413>so</font> <font color=grey><font size=3.1130758575869844>that</font> <font color='green'><font size=5.258783752396198>he</font> <font color='red'><font size=5.434213528264148>could</font> "
      ],
      "text/plain": [
       "<IPython.core.display.Markdown object>"
      ]
     },
     "metadata": {},
     "output_type": "display_data"
    },
    {
     "data": {
      "text/markdown": [
       "---"
      ],
      "text/plain": [
       "<IPython.core.display.Markdown object>"
      ]
     },
     "metadata": {},
     "output_type": "display_data"
    },
    {
     "data": {
      "text/markdown": [
       "## Actual Rating: <font color=red>bad</font> "
      ],
      "text/plain": [
       "<IPython.core.display.Markdown object>"
      ]
     },
     "metadata": {},
     "output_type": "display_data"
    },
    {
     "data": {
      "text/markdown": [
       "## Model prediction: <font color=red>bad</font> "
      ],
      "text/plain": [
       "<IPython.core.display.Markdown object>"
      ]
     },
     "metadata": {},
     "output_type": "display_data"
    },
    {
     "data": {
      "text/markdown": [
       "##### Logits (pos, neg): [-2.082842   2.5539548]"
      ],
      "text/plain": [
       "<IPython.core.display.Markdown object>"
      ]
     },
     "metadata": {},
     "output_type": "display_data"
    },
    {
     "data": {
      "text/markdown": [
       "<font color=grey><font size=3.7051820448167225>you</font> <font color=grey><font size=3.086961356825257>want</font> <font color=grey><font size=3.5504775450843593>to</font> <font color=grey><font size=3.907796096754481>know</font> <font color='green'><font size=4.598801304604061>what</font> <font color='red'><font size=5.066240817299082>the</font> <font color=grey><font size=4.137940157060637>writers</font> <font color=grey><font size=4.477260174844051>of</font> <font color='green'><font size=4.89276132334094>this</font> <font color=grey><font size=4.385832212508866>movie</font> <font color=grey><font size=4.4555611250493055>consider</font> <font color=grey><font size=3.6100153086493494>funny</font> <font color='red'><font size=4.573291816935687>?</font> <font color=grey><font size=3.2924609245749292>a</font> <font color='red'><font size=6.493532918173923>robot</font> <font color=grey><font size=3.205962818982899>child</font> <font color=grey><font size=3.957006147250717>sees</font> <font color=grey><font size=4.4661434866285115>his</font> <font color=grey><font size=3.355902694535993>robot</font> <font color=grey><font size=3.1598906067957353>parents</font> <font color=grey><font size=3.328515372099567>killed</font> <font color=grey><font size=3.2430064143626636>(</font> <font color='red'><font size=5.250797157576367>beheaded</font> <font color='green'><font size=5.0058407306834845>,</font> <font color=grey><font size=3.511272162939611>as</font> <font color=grey><font size=4.0492095139434765>i</font> <font color=grey><font size=4.392514748807917>recall</font> <font color=grey><font size=3.406121578380221>)</font> <font color=grey><font size=3.1222957641031863>,</font> <font color=grey><font size=3.773161310180557>and</font> <font color=grey><font size=4.094870096695484>then</font> <font color=grey><font size=4.445385173645368>moves</font> <font color=grey><font size=3.7217777358277235>between</font> <font color=grey><font size=3.291651350653987>their</font> <font color=grey><font size=3.225740389152812>bodies</font> <font color='red'><font size=4.808001513124446>calling</font> <font color=grey><font size=3.666248206886342>their</font> <font color=grey><font size=4.383965808026994>names</font> <font color=grey><font size=4.3396540275842>.</font> <font color='red'><font size=5.21088996156821>yeah</font> <font color=grey><font size=3.1103597038140864>-</font> <font color='red'><font size=4.9663296704360524>-</font> <font color=grey><font size=3.6429350751068834>what</font> <font color=grey><font size=3.741975265557085>a</font> <font color=grey><font size=4.039813904324104>comic</font> <font color=grey><font size=3.0590332255958224>moment</font> <font color=grey><font size=3.033385796777195>.</font> <font color='green'><font size=4.637988264152732>this</font> <font color=grey><font size=3.297676374367336>is</font> <font color=grey><font size=3.0553709890169705>the</font> <font color='red'><font size=8.0>worst</font> <font color=grey><font size=3.3255528017460843>movie</font> <font color=grey><font size=4.09005282327669>i</font> <font color=grey><font size=3.0942933716886363>ever</font> <font color='red'><font size=6.2158138948259785>paid</font> <font color=grey><font size=3.185474930017538>to</font> <font color=grey><font size=3.4360007174737834>see</font> <font color=grey><font size=4.117150963753783>.</font> <font color=grey><font size=3.0076087204771618>[SEP]</font> <font color=grey><font size=3.5230865802252773>[PAD]</font> <font color='red'><font size=5.41122780258402>[PAD]</font> <font color='red'><font size=5.069813345395953>[PAD]</font> <font color=grey><font size=4.057685506381143>[PAD]</font> <font color='red'><font size=6.653511603101832>[PAD]</font> <font color='red'><font size=4.629981070418646>[PAD]</font> <font color=grey><font size=3.5272700257243943>[PAD]</font> <font color=grey><font size=3.7182453350276528>[PAD]</font> <font color='red'><font size=5.033716473101263>[PAD]</font> <font color='red'><font size=5.132488073231277>[PAD]</font> <font color=grey><font size=3.3811356434829296>[PAD]</font> <font color='red'><font size=4.565205453129536>[PAD]</font> <font color=grey><font size=4.1895918080129295>[PAD]</font> <font color='red'><font size=5.697115784615027>[PAD]</font> <font color=grey><font size=3.1933663582127596>[PAD]</font> <font color=grey><font size=4.066893379614776>[PAD]</font> <font color=grey><font size=3.4584283516898306>[PAD]</font> <font color='red'><font size=5.26940469311511>[PAD]</font> <font color='green'><font size=5.941972435526679>[PAD]</font> <font color='red'><font size=7.244523440231996>[PAD]</font> <font color=grey><font size=3.910103188000141>[PAD]</font> <font color=grey><font size=3.6731280119446232>[PAD]</font> <font color='red'><font size=4.661465472624439>[PAD]</font> <font color=grey><font size=3.1242676704118963>[PAD]</font> <font color=grey><font size=3.593177541015691>[PAD]</font> <font color=grey><font size=4.078278230049895>[PAD]</font> <font color=grey><font size=3.1855784233390314>[PAD]</font> <font color=grey><font size=4.045800406117925>[PAD]</font> <font color='red'><font size=5.312359622957298>[PAD]</font> <font color='red'><font size=5.199711969345897>[PAD]</font> <font color=grey><font size=4.021412456417075>[PAD]</font> <font color=grey><font size=4.229373484923416>[PAD]</font> <font color='red'><font size=5.555517798984779>[PAD]</font> <font color='red'><font size=4.5547088829117675>[PAD]</font> <font color=grey><font size=3.351182970975281>[PAD]</font> <font color=grey><font size=3.5230201996588164>[PAD]</font> <font color=grey><font size=3.7916628765493017>[PAD]</font> <font color=grey><font size=4.1699147059202275>[PAD]</font> <font color='red'><font size=6.844946663915864>[PAD]</font> <font color=grey><font size=3.711700433073423>[PAD]</font> <font color=grey><font size=3.7050327804054404>[PAD]</font> <font color=grey><font size=3.5212805843064117>[PAD]</font> <font color=grey><font size=3.1545133697574457>[PAD]</font> <font color='red'><font size=4.6611974816451>[PAD]</font> <font color=grey><font size=3.9554052507646675>[PAD]</font> <font color=grey><font size=4.207123612348988>[PAD]</font> <font color='red'><font size=5.775489817872531>[PAD]</font> <font color='red'><font size=6.463085489795954>[PAD]</font> <font color='red'><font size=7.406373552688888>[PAD]</font> <font color=grey><font size=4.180528632784114>[PAD]</font> <font color=grey><font size=3.340563136323033>[PAD]</font> <font color=grey><font size=3.4614844334856776>[PAD]</font> <font color=grey><font size=3.8629887185101754>[PAD]</font> <font color=grey><font size=4.396628338990654>[PAD]</font> <font color=grey><font size=3.1129157444808815>[PAD]</font> <font color=grey><font size=3.029867050602702>[PAD]</font> <font color=grey><font size=3.755012441631051>[PAD]</font> <font color=grey><font size=3.1488114977865145>[PAD]</font> <font color=grey><font size=3.515081573371786>[PAD]</font> <font color='red'><font size=5.384519233658361>[PAD]</font> <font color='red'><font size=5.983616007592655>[PAD]</font> <font color=grey><font size=4.036892032068229>[PAD]</font> <font color='red'><font size=4.788718948550207>[PAD]</font> <font color='red'><font size=5.58972064003849>[PAD]</font> <font color=grey><font size=4.229572979805798>[PAD]</font> <font color='red'><font size=4.524616606796512>[PAD]</font> <font color=grey><font size=4.446834151496379>[PAD]</font> "
      ],
      "text/plain": [
       "<IPython.core.display.Markdown object>"
      ]
     },
     "metadata": {},
     "output_type": "display_data"
    },
    {
     "data": {
      "text/markdown": [
       "---"
      ],
      "text/plain": [
       "<IPython.core.display.Markdown object>"
      ]
     },
     "metadata": {},
     "output_type": "display_data"
    },
    {
     "data": {
      "text/markdown": [
       "## Actual Rating: <font color=green>good</font> "
      ],
      "text/plain": [
       "<IPython.core.display.Markdown object>"
      ]
     },
     "metadata": {},
     "output_type": "display_data"
    },
    {
     "data": {
      "text/markdown": [
       "## Model prediction: <font color=green>good</font> "
      ],
      "text/plain": [
       "<IPython.core.display.Markdown object>"
      ]
     },
     "metadata": {},
     "output_type": "display_data"
    },
    {
     "data": {
      "text/markdown": [
       "##### Logits (pos, neg): [ 2.2437599 -2.4153273]"
      ],
      "text/plain": [
       "<IPython.core.display.Markdown object>"
      ]
     },
     "metadata": {},
     "output_type": "display_data"
    },
    {
     "data": {
      "text/markdown": [
       "<font color=grey><font size=3.683352309683351>i</font> <font color='green'><font size=6.008894090951792>must</font> <font color=grey><font size=3.4198458862162404>admit</font> <font color=grey><font size=3.2297054759126524>i</font> <font color=grey><font size=4.238802845322974>wasn</font> <font color=grey><font size=4.051847412361787>'</font> <font color=grey><font size=3.686298029872217>t</font> <font color=grey><font size=4.086045230389953>expecting</font> <font color=grey><font size=4.248334479150795>much</font> <font color='green'><font size=4.825773675122858>on</font> <font color='green'><font size=4.867468439818522>this</font> <font color=grey><font size=3.6162536957352893>movie</font> <font color=grey><font size=3.401770789323769>.</font> <font color=grey><font size=3.0811031390658705>i</font> <font color='red'><font size=4.858468125099234>was</font> <font color=grey><font size=4.33072218596871>surprised</font> <font color=grey><font size=3.613510549718411>i</font> <font color=grey><font size=3.7456091038521846>truly</font> <font color=grey><font size=3.10612387552726>enjoyed</font> <font color='green'><font size=5.114183220137463>it</font> <font color=grey><font size=3.504918093010471>as</font> <font color='green'><font size=5.101526556769661>much</font> <font color=grey><font size=3.964415678756256>as</font> <font color='green'><font size=6.475245002262529>i</font> <font color='red'><font size=6.045886291008369>did</font> <font color='red'><font size=4.530159111881718>.</font> <font color=grey><font size=3.6136093834839826>the</font> <font color='red'><font size=4.641537656058549>script</font> <font color='red'><font size=4.875017723988355>wasn</font> <font color=grey><font size=3.7007216179999993>'</font> <font color='red'><font size=4.896853677641467>t</font> <font color=grey><font size=3.6066769675416164>oscar</font> <font color='red'><font size=4.547243501244324>material</font> <font color='red'><font size=4.521748061362837>,</font> <font color=grey><font size=3.8166489520242948>but</font> <font color='green'><font size=6.1492134714808415>it</font> <font color=grey><font size=3.6476071641068555>wasn</font> <font color=grey><font size=3.892895113295472>'</font> <font color='red'><font size=5.206256235439293>t</font> <font color='red'><font size=6.12151010997658>horrible</font> <font color=grey><font size=3.8294889635428175>either</font> <font color=grey><font size=4.438637776579>.</font> <font color=grey><font size=4.207263024734864>the</font> <font color=grey><font size=3.6310823988285374>acting</font> <font color='red'><font size=5.919284943680842>was</font> <font color='green'><font size=5.093058095215055>great</font> <font color=grey><font size=3.183787478658449>by</font> <font color=grey><font size=3.2180052570350814>mark</font> <font color=grey><font size=3.932668744518915>wah</font> <font color=grey><font size=3.121312280559667>##lberg</font> <font color=grey><font size=3.38776311410916>.</font> <font color=grey><font size=3.256414541697315>jennifer</font> <font color='green'><font size=4.619101423297014>an</font> <font color='red'><font size=5.0892035449792505>##isto</font> <font color=grey><font size=3.1394341657773297>##n</font> <font color=grey><font size=4.175954717486167>had</font> <font color='red'><font size=4.757582983112664>a</font> <font color='green'><font size=8.0>great</font> <font color=grey><font size=3.188177595418076>supporting</font> <font color=grey><font size=3.878710815699734>role</font> <font color=grey><font size=3.8340543091308166>,</font> <font color=grey><font size=3.5586980976866665>and</font> <font color='red'><font size=5.4581125077925465>looked</font> <font color=grey><font size=3.1994314142866855>lovely</font> <font color=grey><font size=4.036975751127272>as</font> <font color=grey><font size=3.535204200105925>ever</font> <font color=grey><font size=3.401458800398812>.</font> <font color=grey><font size=3.407010831406325>what</font> <font color=grey><font size=3.9510369047216596>made</font> <font color=grey><font size=3.9378453507448454>this</font> <font color='red'><font size=5.325706904753169>movie</font> <font color=grey><font size=3.763661236330366>for</font> <font color='green'><font size=5.261617630432399>me</font> <font color='red'><font size=5.2439691442652805>was</font> <font color='green'><font size=5.067053099012995>the</font> <font color='green'><font size=4.68489433672443>music</font> <font color=grey><font size=3.3683935652536237>.</font> <font color=grey><font size=3.7570202481513246>if</font> <font color='green'><font size=4.859709538611272>you</font> <font color='red'><font size=5.02699061017143>do</font> <font color=grey><font size=3.0653537471672325>not</font> <font color='red'><font size=4.845448637337051>like</font> <font color=grey><font size=3.1099975459118725>80</font> <font color=grey><font size=4.231168078791226>'</font> <font color=grey><font size=3.1645193170244337>s</font> <font color='red'><font size=4.770578438348265>g</font> <font color=grey><font size=3.4439107065066143>##lam</font> <font color=grey><font size=3.8018831340422716>metal</font> <font color=grey><font size=3.840614888481333>or</font> <font color=grey><font size=3.152377884323759>hair</font> <font color=grey><font size=3.8759132293344436>bands</font> <font color=grey><font size=3.223048374258323>,</font> <font color=grey><font size=3.824950254005114>then</font> <font color='green'><font size=4.510250166318436>you</font> <font color=grey><font size=4.176694084842189>probably</font> <font color=grey><font size=4.203836987799434>won</font> <font color='red'><font size=4.784069297416562>##t</font> <font color=grey><font size=4.095890121526079>like</font> <font color=grey><font size=3.060712856625338>this</font> <font color='red'><font size=4.767298732796917>movie</font> <font color='red'><font size=4.637217408863185>.</font> <font color=grey><font size=4.371773479765119>its</font> <font color='green'><font size=4.937289404972265>all</font> <font color=grey><font size=3.6945457593458624>about</font> <font color='red'><font size=5.630798494581173>being</font> <font color='green'><font size=5.131749261386998>a</font> <font color=grey><font size=3.3622169639276582>rocks</font> <font color='red'><font size=5.978897625869424>##tar</font> <font color=grey><font size=3.1673517036147403>.</font> <font color=grey><font size=3.989287474572919>some</font> <font color=grey><font size=3.9940797606445804>cl</font> <font color=grey><font size=3.9831478983582205>##iche</font> <font color=grey><font size=3.7576577109189326>'</font> <font color=grey><font size=3.980579321944159>s</font> <font color='red'><font size=5.696884204290789>were</font> <font color='green'><font size=4.842768543323943>present</font> <font color=grey><font size=3.813923329724716>,</font> <font color=grey><font size=3.771199939512801>but</font> <font color=grey><font size=4.423126449595274>didn</font> <font color=grey><font size=3.060577515115391>'</font> <font color='red'><font size=4.783328428027629>t</font> <font color='green'><font size=4.732072122359954>bring</font> <font color='red'><font size=5.347478771668728>down</font> <font color=grey><font size=4.058737504354561>the</font> <font color=grey><font size=3.258261750116411>movie</font> <font color=grey><font size=3.222596103804066>at</font> "
      ],
      "text/plain": [
       "<IPython.core.display.Markdown object>"
      ]
     },
     "metadata": {},
     "output_type": "display_data"
    },
    {
     "data": {
      "text/markdown": [
       "---"
      ],
      "text/plain": [
       "<IPython.core.display.Markdown object>"
      ]
     },
     "metadata": {},
     "output_type": "display_data"
    },
    {
     "data": {
      "text/markdown": [
       "## Actual Rating: <font color=green>good</font> "
      ],
      "text/plain": [
       "<IPython.core.display.Markdown object>"
      ]
     },
     "metadata": {},
     "output_type": "display_data"
    },
    {
     "data": {
      "text/markdown": [
       "## Model prediction: <font color=green>good</font> "
      ],
      "text/plain": [
       "<IPython.core.display.Markdown object>"
      ]
     },
     "metadata": {},
     "output_type": "display_data"
    },
    {
     "data": {
      "text/markdown": [
       "##### Logits (pos, neg): [ 1.4452213 -1.6901032]"
      ],
      "text/plain": [
       "<IPython.core.display.Markdown object>"
      ]
     },
     "metadata": {},
     "output_type": "display_data"
    },
    {
     "data": {
      "text/markdown": [
       "<font color=grey><font size=4.28916116763055>this</font> <font color='red'><font size=4.79169246280201>movie</font> <font color=grey><font size=3.392128530382692>was</font> <font color=grey><font size=3.667658660720347>so</font> <font color=grey><font size=4.305552683046441>cool</font> <font color=grey><font size=3.955483810563719>!</font> <font color=grey><font size=3.7540276591770194>i</font> <font color=grey><font size=3.6253850416584066>saw</font> <font color='green'><font size=4.804560199788152>it</font> <font color=grey><font size=4.029193887140045>on</font> <font color=grey><font size=3.086502840604193>a</font> <font color=grey><font size=3.5905424782382975>friday</font> <font color=grey><font size=3.9021131682290355>night</font> <font color=grey><font size=3.88867351342385>with</font> <font color=grey><font size=3.0796293779649564>a</font> <font color=grey><font size=3.180011792088944>couple</font> <font color=grey><font size=3.20594337595886>of</font> <font color=grey><font size=3.1146765644424717>my</font> <font color=grey><font size=3.6843025304522343>friends</font> <font color=grey><font size=3.0877242598597685>.</font> <font color=grey><font size=3.33562158789193>while</font> <font color=grey><font size=3.7552975214486115>the</font> <font color=grey><font size=3.312735363863615>first</font> <font color='green'><font size=8.0>credits</font> <font color='red'><font size=4.6443291326462495>were</font> <font color=grey><font size=4.301770153009654>rolling</font> <font color=grey><font size=3.4830867478686107>,</font> <font color=grey><font size=3.0662889423214783>we</font> <font color=grey><font size=3.085003400254266>saw</font> <font color=grey><font size=3.055640450586797>that</font> <font color=grey><font size=3.293551402685086>lions</font> <font color=grey><font size=4.202713745911943>##gate</font> <font color=grey><font size=3.1081979690068557>films</font> <font color=grey><font size=3.8905880721078563>had</font> <font color=grey><font size=4.129417762221573>made</font> <font color=grey><font size=3.8608411579728985>this</font> <font color=grey><font size=3.0361983163797595>movie</font> <font color=grey><font size=3.3317804567876537>.</font> <font color=grey><font size=3.284902904927073>they</font> <font color=grey><font size=3.5703660620248225>are</font> <font color=grey><font size=3.4316281241170796>the</font> <font color=grey><font size=3.2737830677855455>ones</font> <font color=grey><font size=3.5176807577162243>that</font> <font color=grey><font size=4.300412647850804>made</font> <font color=grey><font size=3.2401337402612533>that</font> <font color='red'><font size=5.295357583732637>stupid</font> <font color=grey><font size=4.008359942300951>movie</font> <font color=grey><font size=3.8788247709732175>wolf</font> <font color=grey><font size=3.668044756050219>creek</font> <font color=grey><font size=3.040223169686113>,</font> <font color=grey><font size=3.4436549371959124>which</font> <font color=grey><font size=3.2279380857378492>was</font> <font color=grey><font size=3.1837381012268198>totally</font> <font color=grey><font size=3.4022922547470533>gay</font> <font color=grey><font size=3.162686968356891>!</font> <font color=grey><font size=3.1506446982939704>when</font> <font color=grey><font size=3.0630622701396883>we</font> <font color=grey><font size=3.2716984822765687>saw</font> <font color='green'><font size=4.605737361549451>this</font> <font color=grey><font size=3.1550731242352414>,</font> <font color=grey><font size=3.094572625773376>we</font> <font color=grey><font size=4.111684095145329>groaned</font> <font color=grey><font size=3.181569461899014>.</font> <font color=grey><font size=3.8661059027127074>we</font> <font color=grey><font size=3.4857126476852267>thought</font> <font color='green'><font size=4.8756459946861845>it</font> <font color=grey><font size=3.633067285051397>was</font> <font color=grey><font size=3.3729591888957478>going</font> <font color=grey><font size=3.0285823696190692>to</font> <font color=grey><font size=3.6342616216575845>be</font> <font color=grey><font size=3.8305860355114376>like</font> <font color=grey><font size=3.6429864353346018>wolf</font> <font color=grey><font size=4.4515253926544345>creek</font> <font color=grey><font size=3.42890144815101>,</font> <font color=grey><font size=3.6439184265614317>but</font> <font color=grey><font size=3.326448549899698>we</font> <font color=grey><font size=3.0263820825161734>were</font> <font color=grey><font size=4.161623945557096>so</font> <font color='red'><font size=5.043181338213939>wrong</font> <font color='red'><font size=4.527198346277688>!</font> <font color=grey><font size=3.8944952740576904>the</font> <font color=grey><font size=3.581162939454382>movie</font> <font color=grey><font size=3.4451938431868925>was</font> <font color=grey><font size=3.631398344712233>not</font> <font color=grey><font size=3.595405604809679>only</font> <font color=grey><font size=3.5757871076372068>better</font> <font color=grey><font size=3.75169644869064>than</font> <font color=grey><font size=3.253413500421544>wolf</font> <font color=grey><font size=3.644022476618654>creek</font> <font color=grey><font size=3.4214712580250253>(</font> <font color=grey><font size=3.591005322245097>which</font> <font color=grey><font size=3.832638286477316>really</font> <font color=grey><font size=3.353706579139683>isn</font> <font color=grey><font size=3.1957927001866655>'</font> <font color=grey><font size=3.872353986347729>t</font> <font color=grey><font size=3.8298520404423195>that</font> <font color=grey><font size=3.7181620372105586>hard</font> <font color=grey><font size=3.708839039190106>)</font> <font color=grey><font size=3.356814232602793>it</font> <font color=grey><font size=3.666846788040588>is</font> <font color=grey><font size=3.6757621469128106>one</font> <font color=grey><font size=3.0870650178420447>of</font> <font color=grey><font size=3.2218546194537554>the</font> <font color=grey><font size=4.468951462924989>best</font> <font color='red'><font size=5.131516562887553>horror</font> <font color='green'><font size=5.941031125906665>movies</font> <font color='green'><font size=4.530100721960636>i</font> <font color=grey><font size=3.4087072230082107>have</font> <font color=grey><font size=3.485115987402304>seen</font> <font color=grey><font size=3.0349292655292737>in</font> <font color=grey><font size=3.483235277914128>a</font> <font color=grey><font size=3.6839965329693047>long</font> <font color=grey><font size=4.3900493073088525>time</font> <font color=grey><font size=3.2162668115163884>!</font> <font color=grey><font size=3.27792479630649>they</font> <font color=grey><font size=3.49340070508684>really</font> <font color=grey><font size=3.4199347039792807>red</font> <font color=grey><font size=3.5543454954114866>##eem</font> <font color=grey><font size=3.247713899823239>##ed</font> <font color=grey><font size=3.217221889437651>themselves</font> <font color=grey><font size=3.146079723116212>with</font> <font color=grey><font size=3.0187393212278524>this</font> <font color=grey><font size=4.08692247702507>movie</font> <font color=grey><font size=3.127938562712343>.</font> <font color='green'><font size=4.557052396222016>it</font> <font color=grey><font size=3.3961589460395274>was</font> "
      ],
      "text/plain": [
       "<IPython.core.display.Markdown object>"
      ]
     },
     "metadata": {},
     "output_type": "display_data"
    },
    {
     "data": {
      "text/markdown": [
       "---"
      ],
      "text/plain": [
       "<IPython.core.display.Markdown object>"
      ]
     },
     "metadata": {},
     "output_type": "display_data"
    },
    {
     "data": {
      "text/markdown": [
       "## Actual Rating: <font color=green>good</font> "
      ],
      "text/plain": [
       "<IPython.core.display.Markdown object>"
      ]
     },
     "metadata": {},
     "output_type": "display_data"
    },
    {
     "data": {
      "text/markdown": [
       "## Model prediction: <font color=green>good</font> "
      ],
      "text/plain": [
       "<IPython.core.display.Markdown object>"
      ]
     },
     "metadata": {},
     "output_type": "display_data"
    },
    {
     "data": {
      "text/markdown": [
       "##### Logits (pos, neg): [ 1.9690098 -2.1959631]"
      ],
      "text/plain": [
       "<IPython.core.display.Markdown object>"
      ]
     },
     "metadata": {},
     "output_type": "display_data"
    },
    {
     "data": {
      "text/markdown": [
       "<font color='green'><font size=4.62721225020435>this</font> <font color=grey><font size=4.252469043877305>film</font> <font color=grey><font size=3.016697576580782>does</font> <font color='red'><font size=4.817298276916022>for</font> <font color=grey><font size=4.3614806013643>infantry</font> <font color=grey><font size=4.066340678713139>what</font> <font color=grey><font size=4.37802905196505>das</font> <font color=grey><font size=3.2816369396589447>boot</font> <font color=grey><font size=3.19323545768733>did</font> <font color=grey><font size=3.0355931204261104>for</font> <font color='red'><font size=4.69950292519547>submarine</font> <font color=grey><font size=4.0535097823745465>##rs</font> <font color=grey><font size=3.285868040892888>.</font> <font color=grey><font size=4.40370932174095>if</font> <font color='green'><font size=5.535715709326225>you</font> <font color='green'><font size=5.3556537699114255>appreciated</font> <font color=grey><font size=3.433495844087258>das</font> <font color=grey><font size=4.04367493096785>boot</font> <font color=grey><font size=3.372124968189941>then</font> <font color=grey><font size=3.3528597903410735>that</font> <font color=grey><font size=4.182475466497818>is</font> <font color=grey><font size=3.426450120231289>all</font> <font color=grey><font size=3.5537386276544844>you</font> <font color='red'><font size=4.738238333939863>really</font> <font color='green'><font size=5.464734485896436>need</font> <font color=grey><font size=3.5166534518203334>to</font> <font color=grey><font size=3.828211749147232>know</font> <font color=grey><font size=3.138386611707067>.</font> <font color=grey><font size=3.714409469455142><</font> <font color=grey><font size=3.3327533938867915>br</font> <font color=grey><font size=3.3449948874010356>/</font> <font color=grey><font size=3.0804737735205867>></font> <font color='red'><font size=4.829854059229541><</font> <font color=grey><font size=3.3361809788215018>br</font> <font color=grey><font size=3.083036473488869>/</font> <font color='red'><font size=5.754720437981527>></font> <font color=grey><font size=3.2019364077825956>this</font> <font color=grey><font size=3.7933252530621537>is</font> <font color=grey><font size=4.088221743500174>a</font> <font color=grey><font size=3.838650193695093>well</font> <font color=grey><font size=3.4911980896598886>done</font> <font color=grey><font size=4.00209324153898>piece</font> <font color=grey><font size=3.280119418866461>of</font> <font color=grey><font size=3.9629304370767677>cinema</font> <font color=grey><font size=4.382568433378764>.</font> <font color=grey><font size=4.389685061319838>on</font> <font color=grey><font size=3.903986022231569>a</font> <font color=grey><font size=3.5301677870660004>par</font> <font color=grey><font size=4.064828786548414>with</font> <font color=grey><font size=3.367975885799712>das</font> <font color=grey><font size=3.4715213332496844>boot</font> <font color=grey><font size=3.0589959809127865>.</font> <font color='red'><font size=6.377289702022251>basically</font> <font color=grey><font size=3.8796057992212525>it</font> <font color=grey><font size=3.5663534036867786>follows</font> <font color=grey><font size=3.4032604944885807>a</font> <font color=grey><font size=3.5481578313582185>company</font> <font color=grey><font size=3.988917550188645>of</font> <font color=grey><font size=3.3511480937656994>elite</font> <font color=grey><font size=3.8019523481989017>german</font> <font color=grey><font size=3.301366776166355>\"</font> <font color=grey><font size=3.737975678894206>storm</font> <font color=grey><font size=4.204005751403091>##tro</font> <font color='red'><font size=5.66170368311941>##oper</font> <font color=grey><font size=3.510756692386155>\"</font> <font color=grey><font size=4.107293054309446>infantry</font> <font color=grey><font size=3.1964641406917926>who</font> <font color=grey><font size=3.0127530470137>leave</font> <font color=grey><font size=3.5884013323498642>garrison</font> <font color=grey><font size=3.7378664075173615>duty</font> <font color=grey><font size=3.9675415419327926>in</font> <font color=grey><font size=3.554465148125913>an</font> <font color=grey><font size=4.118392233257478>id</font> <font color=grey><font size=3.6678086115325748>##yl</font> <font color='green'><font size=5.718056554247754>##lic</font> <font color=grey><font size=3.0810875373783633>italian</font> <font color=grey><font size=3.592544881110272>seaside</font> <font color=grey><font size=3.0872830564178306>town</font> <font color='green'><font size=5.31023326135403>and</font> <font color=grey><font size=3.7526649961216143>are</font> <font color=grey><font size=3.086265113818477>immediately</font> <font color=grey><font size=3.781461221975181>thrust</font> <font color=grey><font size=3.3418111265459536>into</font> <font color=grey><font size=3.7811658496400775>the</font> <font color=grey><font size=3.0015968451829975>chaos</font> <font color=grey><font size=3.0866447845766936>of</font> <font color=grey><font size=3.6684583736710406>the</font> <font color='red'><font size=4.985118687192351>di</font> <font color=grey><font size=3.4546018682066264>##sin</font> <font color=grey><font size=3.197507954272249>##te</font> <font color=grey><font size=3.244262946347331>##grating</font> <font color=grey><font size=3.250002021081106>russian</font> <font color=grey><font size=3.4449950355978167>front</font> <font color=grey><font size=4.382854472166573>.</font> <font color=grey><font size=4.28388115666904><</font> <font color=grey><font size=3.985121670127568>br</font> <font color=grey><font size=3.7860226429102415>/</font> <font color=grey><font size=4.179579311896504>></font> <font color=grey><font size=3.3090551135660435><</font> <font color=grey><font size=3.5343258705107443>br</font> <font color=grey><font size=3.6501733370354663>/</font> <font color=grey><font size=3.519280952256279>></font> <font color=grey><font size=3.1665769169700173>a</font> <font color=grey><font size=3.7131672526836064>good</font> <font color='green'><font size=4.606672603784391>war</font> <font color='green'><font size=8.0>movie</font> <font color='red'><font size=5.600860544510694>ill</font> <font color='red'><font size=4.842099578281359>##umi</font> <font color=grey><font size=3.313719749759475>##nate</font> <font color=grey><font size=3.7653837948947424>##s</font> <font color='green'><font size=5.40612132885698>both</font> <font color=grey><font size=3.03113036375451>the</font> <font color=grey><font size=3.5186505221979587>sense</font> <font color=grey><font size=3.01912174877636>##lessness</font> <font color=grey><font size=3.4362237810919223>and</font> <font color=grey><font size=3.3551293623005094>brutality</font> <font color=grey><font size=4.035089777420215>of</font> <font color=grey><font size=3.527946782801771>war</font> <font color='green'><font size=4.5244773014019675>and</font> <font color='red'><font size=4.564681948237448>at</font> <font color=grey><font size=4.291284725878324>the</font> <font color=grey><font size=3.9348751238820596>same</font> <font color='green'><font size=5.610054539835504>time</font> <font color=grey><font size=3.2129676750805327>gives</font> <font color=grey><font size=3.6972854263551103>us</font> <font color=grey><font size=4.352372816667168>insight</font> "
      ],
      "text/plain": [
       "<IPython.core.display.Markdown object>"
      ]
     },
     "metadata": {},
     "output_type": "display_data"
    },
    {
     "data": {
      "text/markdown": [
       "---"
      ],
      "text/plain": [
       "<IPython.core.display.Markdown object>"
      ]
     },
     "metadata": {},
     "output_type": "display_data"
    },
    {
     "data": {
      "text/markdown": [
       "## Actual Rating: <font color=red>bad</font> "
      ],
      "text/plain": [
       "<IPython.core.display.Markdown object>"
      ]
     },
     "metadata": {},
     "output_type": "display_data"
    },
    {
     "data": {
      "text/markdown": [
       "## Model prediction: <font color=red>bad</font> "
      ],
      "text/plain": [
       "<IPython.core.display.Markdown object>"
      ]
     },
     "metadata": {},
     "output_type": "display_data"
    },
    {
     "data": {
      "text/markdown": [
       "##### Logits (pos, neg): [-3.0027838  3.7282693]"
      ],
      "text/plain": [
       "<IPython.core.display.Markdown object>"
      ]
     },
     "metadata": {},
     "output_type": "display_data"
    },
    {
     "data": {
      "text/markdown": [
       "<font color=grey><font size=3.283101372280587>everything</font> <font color=grey><font size=3.1953712704673327>about</font> <font color='green'><font size=4.5932739007274614>this</font> <font color=grey><font size=3.6267207481196735>movie</font> <font color=grey><font size=3.6198354227826437>is</font> <font color='red'><font size=6.027137016998648>bad</font> <font color=grey><font size=4.334723847682504>.</font> <font color='green'><font size=4.778604066774379>everything</font> <font color='green'><font size=5.117564247342704>.</font> <font color=grey><font size=3.830015726010115>ridiculous</font> <font color=grey><font size=3.244611794452446>80</font> <font color=grey><font size=3.8620890288302268>'</font> <font color=grey><font size=3.254065735992628>s</font> <font color=grey><font size=3.701810102956249>hair</font> <font color=grey><font size=3.7137719135987317>##cut</font> <font color=grey><font size=4.108417131018584>##s</font> <font color=grey><font size=3.0533226897290353>.</font> <font color='red'><font size=5.227375600541359>ridiculous</font> <font color=grey><font size=3.1651443073824193>mo</font> <font color=grey><font size=3.9624341200806166>##ust</font> <font color='green'><font size=5.109098940678721>##ache</font> <font color=grey><font size=3.456352289475653>##s</font> <font color=grey><font size=3.889044994814268>.</font> <font color='red'><font size=7.55403743974651>ridiculous</font> <font color='green'><font size=4.797119645263017>action</font> <font color=grey><font size=4.2862589808683556>and</font> <font color=grey><font size=3.7917521305783097>fight</font> <font color=grey><font size=4.204510640972763>scenes</font> <font color=grey><font size=3.0417777979846905>where</font> <font color=grey><font size=3.144117115288756>you</font> <font color=grey><font size=3.247357621732365>can</font> <font color='red'><font size=5.721468315457418>actually</font> <font color=grey><font size=3.7163801817661417>see</font> <font color=grey><font size=3.9433674568298205>that</font> <font color=grey><font size=3.0209246563527525>the</font> <font color='red'><font size=6.3225973425435145>ad</font> <font color=grey><font size=3.3988291988438526>##vers</font> <font color=grey><font size=3.4427299078546407>##aries</font> <font color=grey><font size=3.8910375474397347>do</font> <font color='red'><font size=4.614502858557357>not</font> <font color=grey><font size=3.0031922409715652>even</font> <font color=grey><font size=4.3816098995988675>hit</font> <font color='green'><font size=5.19685693572356>each</font> <font color=grey><font size=3.7741098098898602>other</font> <font color='red'><font size=4.54325662273032>.</font> <font color='red'><font size=5.542473185277984>bad</font> <font color=grey><font size=4.094056055107712>,</font> <font color='red'><font size=5.595494495557135>bad</font> <font color=grey><font size=3.4095934048483074>,</font> <font color=grey><font size=3.9284937352998113>bad</font> <font color=grey><font size=3.853574732141206>80</font> <font color=grey><font size=4.046899868800047>'</font> <font color=grey><font size=3.524970759211355>s</font> <font color='green'><font size=4.70756025942742>music</font> <font color=grey><font size=3.4088869331642027>.</font> <font color=grey><font size=3.2459415767229602>repeated</font> <font color='green'><font size=4.587480247052243>scenes</font> <font color=grey><font size=4.103853901056606>of</font> <font color=grey><font size=3.8763000860442984>people</font> <font color=grey><font size=3.8478908818662596>running</font> <font color=grey><font size=3.646940983307423>through</font> <font color=grey><font size=3.516473415509894>woods</font> <font color=grey><font size=3.2558181235034716>.</font> <font color=grey><font size=3.303171761084937>a</font> <font color=grey><font size=4.19792938251191>bad</font> <font color='red'><font size=4.654606018825403>guy</font> <font color=grey><font size=3.7688365957013987>with</font> <font color=grey><font size=3.1595074489598165>a</font> <font color=grey><font size=3.4503101731328694>silver</font> <font color='red'><font size=4.500960045432204>plastic</font> <font color=grey><font size=4.300489098595415>hand</font> <font color=grey><font size=3.5850990561340006>and</font> <font color='red'><font size=4.650574680563829>silly</font> <font color=grey><font size=3.458211020863897>hair</font> <font color=grey><font size=3.695539697868548>.</font> <font color='red'><font size=5.886957998539885>stupid</font> <font color=grey><font size=3.348768378576081>dialogue</font> <font color='red'><font size=8.0>.</font> <font color='green'><font size=4.6938299035791475>the</font> <font color=grey><font size=4.250659456635726>acting</font> <font color=grey><font size=4.381766307146334>is</font> <font color='red'><font size=4.7782935315182735>none</font> <font color=grey><font size=3.181873671914354>##xi</font> <font color=grey><font size=3.937420073092269>##stan</font> <font color=grey><font size=3.798906582935998>##t</font> <font color=grey><font size=4.273306686294347>.</font> <font color='green'><font size=5.072322171298988>everything</font> <font color=grey><font size=4.298398433371106>looks</font> <font color=grey><font size=3.931040845465186>extremely</font> <font color=grey><font size=4.176648094427998>cheap</font> <font color=grey><font size=3.390263645545844>.</font> <font color=grey><font size=3.290263459447372>this</font> <font color=grey><font size=3.574419177656409>movie</font> <font color=grey><font size=3.9635205958306816>even</font> <font color=grey><font size=3.0305895378161742>sur</font> <font color=grey><font size=3.71322387745826>##pass</font> <font color=grey><font size=3.166291311527866>##es</font> <font color=grey><font size=3.13852495831719>\"</font> <font color=grey><font size=3.3633776388021017>plan</font> <font color=grey><font size=3.333047226373532>9</font> <font color=grey><font size=3.6821759719154397>from</font> <font color=grey><font size=4.108277477635523>outer</font> <font color=grey><font size=3.2984723902822792>space</font> <font color=grey><font size=4.167847041732037>\"</font> <font color=grey><font size=3.0316508036187977>in</font> <font color='green'><font size=6.343169441693557>its</font> <font color='red'><font size=5.3939904636144504>utter</font> <font color='red'><font size=6.811719054464522>bad</font> <font color=grey><font size=3.284431591962039>##ness</font> <font color=grey><font size=4.261500779514009>.</font> <font color=grey><font size=4.2256585319755136><</font> <font color=grey><font size=3.7460753475916504>br</font> <font color=grey><font size=3.29828127152592>/</font> <font color=grey><font size=3.3737602766651222>></font> <font color=grey><font size=3.7371682823902113><</font> <font color=grey><font size=3.7381779858932482>br</font> <font color='red'><font size=4.573494549255292>/</font> <font color=grey><font size=3.6988497057290077>></font> <font color='green'><font size=5.380963570593226>it</font> <font color=grey><font size=3.0481116458838327>'</font> <font color=grey><font size=4.131444881683364>s</font> <font color=grey><font size=3.32147303472379>not</font> <font color=grey><font size=3.407814785936071>\"</font> <font color=grey><font size=3.398126358996019>funny</font> <font color='red'><font size=5.948888600839795>bad</font> <font color=grey><font size=3.3716108923361277>\"</font> "
      ],
      "text/plain": [
       "<IPython.core.display.Markdown object>"
      ]
     },
     "metadata": {},
     "output_type": "display_data"
    },
    {
     "data": {
      "text/markdown": [
       "---"
      ],
      "text/plain": [
       "<IPython.core.display.Markdown object>"
      ]
     },
     "metadata": {},
     "output_type": "display_data"
    }
   ],
   "source": [
    "for n in range(20):\n",
    "    display_text.display_shap_text(shap_values, raw_batch, sjr_output, tokenizer, n=n, threshold=0.3)\n",
    "    "
   ]
  },
  {
   "cell_type": "markdown",
   "metadata": {},
   "source": [
    "# 6. Next steps\n",
    ">  Model:\n",
    "> - Baseline (TDIDF)\n",
    "> - Add more trainable layers\n",
    "\n",
    "> Viz:\n",
    "> -  Add viz of attention\n",
    "> - investigate the positions   "
   ]
  },
  {
   "cell_type": "markdown",
   "metadata": {},
   "source": [
    "# 7. Fin: Save workspace"
   ]
  },
  {
   "cell_type": "code",
   "execution_count": 127,
   "metadata": {},
   "outputs": [],
   "source": [
    "import shelve"
   ]
  },
  {
   "cell_type": "code",
   "execution_count": 125,
   "metadata": {},
   "outputs": [],
   "source": [
    "!mkdir tmp"
   ]
  },
  {
   "cell_type": "code",
   "execution_count": 129,
   "metadata": {},
   "outputs": [
    {
     "name": "stdout",
     "output_type": "stream",
     "text": [
      "ERROR shelving: Out\n",
      "ERROR shelving: _12\n",
      "ERROR shelving: __builtin__\n",
      "ERROR shelving: __builtins__\n",
      "ERROR shelving: _oh\n",
      "ERROR shelving: bert\n",
      "ERROR shelving: display_text\n",
      "ERROR shelving: exit\n",
      "ERROR shelving: explainer\n",
      "ERROR shelving: get_ipython\n",
      "ERROR shelving: imdb_proc\n",
      "ERROR shelving: model\n",
      "ERROR shelving: np\n",
      "ERROR shelving: os\n",
      "ERROR shelving: pd\n",
      "ERROR shelving: quit\n",
      "ERROR shelving: shap\n",
      "ERROR shelving: shap_additions\n",
      "ERROR shelving: shelve\n",
      "ERROR shelving: sjrmodel\n",
      "ERROR shelving: torch\n"
     ]
    }
   ],
   "source": [
    "filename='./tmp/shelve.out'\n",
    "my_shelf = shelve.open(filename,'n') # 'n' for new\n",
    "\n",
    "for key in dir():\n",
    "    try:\n",
    "        my_shelf[key] = globals()[key]\n",
    "    except:\n",
    "        #\n",
    "        # __builtins__, my_shelf, and imported modules can not be shelved.\n",
    "        #\n",
    "        print('ERROR shelving: {0}'.format(key))\n",
    "my_shelf.close()"
   ]
  },
  {
   "cell_type": "markdown",
   "metadata": {},
   "source": [
    "To restore:"
   ]
  },
  {
   "cell_type": "code",
   "execution_count": null,
   "metadata": {},
   "outputs": [],
   "source": [
    "my_shelf = shelve.open(filename)\n",
    "for key in my_shelf:\n",
    "    globals()[key]=my_shelf[key]\n",
    "my_shelf.close()"
   ]
  }
 ],
 "metadata": {
  "kernelspec": {
   "display_name": "Python 3",
   "language": "python",
   "name": "python3"
  },
  "language_info": {
   "codemirror_mode": {
    "name": "ipython",
    "version": 3
   },
   "file_extension": ".py",
   "mimetype": "text/x-python",
   "name": "python",
   "nbconvert_exporter": "python",
   "pygments_lexer": "ipython3",
   "version": "3.6.7"
  }
 },
 "nbformat": 4,
 "nbformat_minor": 2
}
